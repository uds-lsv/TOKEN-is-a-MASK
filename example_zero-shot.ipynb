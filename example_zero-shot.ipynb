{
  "nbformat": 4,
  "nbformat_minor": 0,
  "metadata": {
    "colab": {
      "name": "example_zero-shot.ipynb",
      "provenance": [],
      "collapsed_sections": []
    },
    "kernelspec": {
      "name": "python3",
      "display_name": "Python 3"
    },
    "accelerator": "GPU",
    "widgets": {
      "application/vnd.jupyter.widget-state+json": {
        "cd43cdf855c84eaf84c4e8b045ecebdb": {
          "model_module": "@jupyter-widgets/controls",
          "model_name": "HBoxModel",
          "model_module_version": "1.5.0",
          "state": {
            "_dom_classes": [],
            "_model_module": "@jupyter-widgets/controls",
            "_model_module_version": "1.5.0",
            "_model_name": "HBoxModel",
            "_view_count": null,
            "_view_module": "@jupyter-widgets/controls",
            "_view_module_version": "1.5.0",
            "_view_name": "HBoxView",
            "box_style": "",
            "children": [
              "IPY_MODEL_d3b0d37cfeff4e0eb153d5496ecbc65d",
              "IPY_MODEL_5235ba2efa204b11b03d258f78928378",
              "IPY_MODEL_dc1a9d530ae84a37a82fcb3c55d7fefd"
            ],
            "layout": "IPY_MODEL_d42a15a843dc461a924759c32fb1d65a"
          }
        },
        "d3b0d37cfeff4e0eb153d5496ecbc65d": {
          "model_module": "@jupyter-widgets/controls",
          "model_name": "HTMLModel",
          "model_module_version": "1.5.0",
          "state": {
            "_dom_classes": [],
            "_model_module": "@jupyter-widgets/controls",
            "_model_module_version": "1.5.0",
            "_model_name": "HTMLModel",
            "_view_count": null,
            "_view_module": "@jupyter-widgets/controls",
            "_view_module_version": "1.5.0",
            "_view_name": "HTMLView",
            "description": "",
            "description_tooltip": null,
            "layout": "IPY_MODEL_fa00ae06570142ccb785458711d2c2a9",
            "placeholder": "​",
            "style": "IPY_MODEL_eecc23fba73545879f39b17454638bbe",
            "value": "Downloading config.json: 100%"
          }
        },
        "5235ba2efa204b11b03d258f78928378": {
          "model_module": "@jupyter-widgets/controls",
          "model_name": "FloatProgressModel",
          "model_module_version": "1.5.0",
          "state": {
            "_dom_classes": [],
            "_model_module": "@jupyter-widgets/controls",
            "_model_module_version": "1.5.0",
            "_model_name": "FloatProgressModel",
            "_view_count": null,
            "_view_module": "@jupyter-widgets/controls",
            "_view_module_version": "1.5.0",
            "_view_name": "ProgressView",
            "bar_style": "success",
            "description": "",
            "description_tooltip": null,
            "layout": "IPY_MODEL_4e61b5d54a5e422493dc0f4df65e3159",
            "max": 762,
            "min": 0,
            "orientation": "horizontal",
            "style": "IPY_MODEL_e302371320a0431fa87d25b6bb75b8eb",
            "value": 762
          }
        },
        "dc1a9d530ae84a37a82fcb3c55d7fefd": {
          "model_module": "@jupyter-widgets/controls",
          "model_name": "HTMLModel",
          "model_module_version": "1.5.0",
          "state": {
            "_dom_classes": [],
            "_model_module": "@jupyter-widgets/controls",
            "_model_module_version": "1.5.0",
            "_model_name": "HTMLModel",
            "_view_count": null,
            "_view_module": "@jupyter-widgets/controls",
            "_view_module_version": "1.5.0",
            "_view_name": "HTMLView",
            "description": "",
            "description_tooltip": null,
            "layout": "IPY_MODEL_0c2b5c6ef14440e08d6fbff4b990d08d",
            "placeholder": "​",
            "style": "IPY_MODEL_4244ac7373ee4cd98690eb18ed6b956c",
            "value": " 762/762 [00:00&lt;00:00, 26.2kB/s]"
          }
        },
        "d42a15a843dc461a924759c32fb1d65a": {
          "model_module": "@jupyter-widgets/base",
          "model_name": "LayoutModel",
          "model_module_version": "1.2.0",
          "state": {
            "_model_module": "@jupyter-widgets/base",
            "_model_module_version": "1.2.0",
            "_model_name": "LayoutModel",
            "_view_count": null,
            "_view_module": "@jupyter-widgets/base",
            "_view_module_version": "1.2.0",
            "_view_name": "LayoutView",
            "align_content": null,
            "align_items": null,
            "align_self": null,
            "border": null,
            "bottom": null,
            "display": null,
            "flex": null,
            "flex_flow": null,
            "grid_area": null,
            "grid_auto_columns": null,
            "grid_auto_flow": null,
            "grid_auto_rows": null,
            "grid_column": null,
            "grid_gap": null,
            "grid_row": null,
            "grid_template_areas": null,
            "grid_template_columns": null,
            "grid_template_rows": null,
            "height": null,
            "justify_content": null,
            "justify_items": null,
            "left": null,
            "margin": null,
            "max_height": null,
            "max_width": null,
            "min_height": null,
            "min_width": null,
            "object_fit": null,
            "object_position": null,
            "order": null,
            "overflow": null,
            "overflow_x": null,
            "overflow_y": null,
            "padding": null,
            "right": null,
            "top": null,
            "visibility": null,
            "width": null
          }
        },
        "fa00ae06570142ccb785458711d2c2a9": {
          "model_module": "@jupyter-widgets/base",
          "model_name": "LayoutModel",
          "model_module_version": "1.2.0",
          "state": {
            "_model_module": "@jupyter-widgets/base",
            "_model_module_version": "1.2.0",
            "_model_name": "LayoutModel",
            "_view_count": null,
            "_view_module": "@jupyter-widgets/base",
            "_view_module_version": "1.2.0",
            "_view_name": "LayoutView",
            "align_content": null,
            "align_items": null,
            "align_self": null,
            "border": null,
            "bottom": null,
            "display": null,
            "flex": null,
            "flex_flow": null,
            "grid_area": null,
            "grid_auto_columns": null,
            "grid_auto_flow": null,
            "grid_auto_rows": null,
            "grid_column": null,
            "grid_gap": null,
            "grid_row": null,
            "grid_template_areas": null,
            "grid_template_columns": null,
            "grid_template_rows": null,
            "height": null,
            "justify_content": null,
            "justify_items": null,
            "left": null,
            "margin": null,
            "max_height": null,
            "max_width": null,
            "min_height": null,
            "min_width": null,
            "object_fit": null,
            "object_position": null,
            "order": null,
            "overflow": null,
            "overflow_x": null,
            "overflow_y": null,
            "padding": null,
            "right": null,
            "top": null,
            "visibility": null,
            "width": null
          }
        },
        "eecc23fba73545879f39b17454638bbe": {
          "model_module": "@jupyter-widgets/controls",
          "model_name": "DescriptionStyleModel",
          "model_module_version": "1.5.0",
          "state": {
            "_model_module": "@jupyter-widgets/controls",
            "_model_module_version": "1.5.0",
            "_model_name": "DescriptionStyleModel",
            "_view_count": null,
            "_view_module": "@jupyter-widgets/base",
            "_view_module_version": "1.2.0",
            "_view_name": "StyleView",
            "description_width": ""
          }
        },
        "4e61b5d54a5e422493dc0f4df65e3159": {
          "model_module": "@jupyter-widgets/base",
          "model_name": "LayoutModel",
          "model_module_version": "1.2.0",
          "state": {
            "_model_module": "@jupyter-widgets/base",
            "_model_module_version": "1.2.0",
            "_model_name": "LayoutModel",
            "_view_count": null,
            "_view_module": "@jupyter-widgets/base",
            "_view_module_version": "1.2.0",
            "_view_name": "LayoutView",
            "align_content": null,
            "align_items": null,
            "align_self": null,
            "border": null,
            "bottom": null,
            "display": null,
            "flex": null,
            "flex_flow": null,
            "grid_area": null,
            "grid_auto_columns": null,
            "grid_auto_flow": null,
            "grid_auto_rows": null,
            "grid_column": null,
            "grid_gap": null,
            "grid_row": null,
            "grid_template_areas": null,
            "grid_template_columns": null,
            "grid_template_rows": null,
            "height": null,
            "justify_content": null,
            "justify_items": null,
            "left": null,
            "margin": null,
            "max_height": null,
            "max_width": null,
            "min_height": null,
            "min_width": null,
            "object_fit": null,
            "object_position": null,
            "order": null,
            "overflow": null,
            "overflow_x": null,
            "overflow_y": null,
            "padding": null,
            "right": null,
            "top": null,
            "visibility": null,
            "width": null
          }
        },
        "e302371320a0431fa87d25b6bb75b8eb": {
          "model_module": "@jupyter-widgets/controls",
          "model_name": "ProgressStyleModel",
          "model_module_version": "1.5.0",
          "state": {
            "_model_module": "@jupyter-widgets/controls",
            "_model_module_version": "1.5.0",
            "_model_name": "ProgressStyleModel",
            "_view_count": null,
            "_view_module": "@jupyter-widgets/base",
            "_view_module_version": "1.2.0",
            "_view_name": "StyleView",
            "bar_color": null,
            "description_width": ""
          }
        },
        "0c2b5c6ef14440e08d6fbff4b990d08d": {
          "model_module": "@jupyter-widgets/base",
          "model_name": "LayoutModel",
          "model_module_version": "1.2.0",
          "state": {
            "_model_module": "@jupyter-widgets/base",
            "_model_module_version": "1.2.0",
            "_model_name": "LayoutModel",
            "_view_count": null,
            "_view_module": "@jupyter-widgets/base",
            "_view_module_version": "1.2.0",
            "_view_name": "LayoutView",
            "align_content": null,
            "align_items": null,
            "align_self": null,
            "border": null,
            "bottom": null,
            "display": null,
            "flex": null,
            "flex_flow": null,
            "grid_area": null,
            "grid_auto_columns": null,
            "grid_auto_flow": null,
            "grid_auto_rows": null,
            "grid_column": null,
            "grid_gap": null,
            "grid_row": null,
            "grid_template_areas": null,
            "grid_template_columns": null,
            "grid_template_rows": null,
            "height": null,
            "justify_content": null,
            "justify_items": null,
            "left": null,
            "margin": null,
            "max_height": null,
            "max_width": null,
            "min_height": null,
            "min_width": null,
            "object_fit": null,
            "object_position": null,
            "order": null,
            "overflow": null,
            "overflow_x": null,
            "overflow_y": null,
            "padding": null,
            "right": null,
            "top": null,
            "visibility": null,
            "width": null
          }
        },
        "4244ac7373ee4cd98690eb18ed6b956c": {
          "model_module": "@jupyter-widgets/controls",
          "model_name": "DescriptionStyleModel",
          "model_module_version": "1.5.0",
          "state": {
            "_model_module": "@jupyter-widgets/controls",
            "_model_module_version": "1.5.0",
            "_model_name": "DescriptionStyleModel",
            "_view_count": null,
            "_view_module": "@jupyter-widgets/base",
            "_view_module_version": "1.2.0",
            "_view_name": "StyleView",
            "description_width": ""
          }
        },
        "f04ad3e91e6f45b3884f17a407e85c03": {
          "model_module": "@jupyter-widgets/controls",
          "model_name": "HBoxModel",
          "model_module_version": "1.5.0",
          "state": {
            "_dom_classes": [],
            "_model_module": "@jupyter-widgets/controls",
            "_model_module_version": "1.5.0",
            "_model_name": "HBoxModel",
            "_view_count": null,
            "_view_module": "@jupyter-widgets/controls",
            "_view_module_version": "1.5.0",
            "_view_name": "HBoxView",
            "box_style": "",
            "children": [
              "IPY_MODEL_2890fca1c6ae41ab8d0d4d69be8c1127",
              "IPY_MODEL_277f2bf882f44940a0b23c8b5b4e2f55",
              "IPY_MODEL_59f3b1dd3bd34f3eac3365cbf7a2a1a5"
            ],
            "layout": "IPY_MODEL_7b8658826301459c993aa066e174144c"
          }
        },
        "2890fca1c6ae41ab8d0d4d69be8c1127": {
          "model_module": "@jupyter-widgets/controls",
          "model_name": "HTMLModel",
          "model_module_version": "1.5.0",
          "state": {
            "_dom_classes": [],
            "_model_module": "@jupyter-widgets/controls",
            "_model_module_version": "1.5.0",
            "_model_name": "HTMLModel",
            "_view_count": null,
            "_view_module": "@jupyter-widgets/controls",
            "_view_module_version": "1.5.0",
            "_view_name": "HTMLView",
            "description": "",
            "description_tooltip": null,
            "layout": "IPY_MODEL_a403a4586c5345e2964758ec8f38db24",
            "placeholder": "​",
            "style": "IPY_MODEL_f8283cc42fda40209b959683a446c43c",
            "value": "Downloading pytorch_model.bin: 100%"
          }
        },
        "277f2bf882f44940a0b23c8b5b4e2f55": {
          "model_module": "@jupyter-widgets/controls",
          "model_name": "FloatProgressModel",
          "model_module_version": "1.5.0",
          "state": {
            "_dom_classes": [],
            "_model_module": "@jupyter-widgets/controls",
            "_model_module_version": "1.5.0",
            "_model_name": "FloatProgressModel",
            "_view_count": null,
            "_view_module": "@jupyter-widgets/controls",
            "_view_module_version": "1.5.0",
            "_view_name": "ProgressView",
            "bar_style": "success",
            "description": "",
            "description_tooltip": null,
            "layout": "IPY_MODEL_f0bf4add21cf4ddc8b04c823fc350856",
            "max": 1338740706,
            "min": 0,
            "orientation": "horizontal",
            "style": "IPY_MODEL_53374d4b84e3490ba1d9cf389e521270",
            "value": 1338740706
          }
        },
        "59f3b1dd3bd34f3eac3365cbf7a2a1a5": {
          "model_module": "@jupyter-widgets/controls",
          "model_name": "HTMLModel",
          "model_module_version": "1.5.0",
          "state": {
            "_dom_classes": [],
            "_model_module": "@jupyter-widgets/controls",
            "_model_module_version": "1.5.0",
            "_model_name": "HTMLModel",
            "_view_count": null,
            "_view_module": "@jupyter-widgets/controls",
            "_view_module_version": "1.5.0",
            "_view_name": "HTMLView",
            "description": "",
            "description_tooltip": null,
            "layout": "IPY_MODEL_1ba41f57f52348c898c1a86f7695138e",
            "placeholder": "​",
            "style": "IPY_MODEL_19516e1dc1044be1a0ca4de74ab89db8",
            "value": " 1.25G/1.25G [00:35&lt;00:00, 62.3MB/s]"
          }
        },
        "7b8658826301459c993aa066e174144c": {
          "model_module": "@jupyter-widgets/base",
          "model_name": "LayoutModel",
          "model_module_version": "1.2.0",
          "state": {
            "_model_module": "@jupyter-widgets/base",
            "_model_module_version": "1.2.0",
            "_model_name": "LayoutModel",
            "_view_count": null,
            "_view_module": "@jupyter-widgets/base",
            "_view_module_version": "1.2.0",
            "_view_name": "LayoutView",
            "align_content": null,
            "align_items": null,
            "align_self": null,
            "border": null,
            "bottom": null,
            "display": null,
            "flex": null,
            "flex_flow": null,
            "grid_area": null,
            "grid_auto_columns": null,
            "grid_auto_flow": null,
            "grid_auto_rows": null,
            "grid_column": null,
            "grid_gap": null,
            "grid_row": null,
            "grid_template_areas": null,
            "grid_template_columns": null,
            "grid_template_rows": null,
            "height": null,
            "justify_content": null,
            "justify_items": null,
            "left": null,
            "margin": null,
            "max_height": null,
            "max_width": null,
            "min_height": null,
            "min_width": null,
            "object_fit": null,
            "object_position": null,
            "order": null,
            "overflow": null,
            "overflow_x": null,
            "overflow_y": null,
            "padding": null,
            "right": null,
            "top": null,
            "visibility": null,
            "width": null
          }
        },
        "a403a4586c5345e2964758ec8f38db24": {
          "model_module": "@jupyter-widgets/base",
          "model_name": "LayoutModel",
          "model_module_version": "1.2.0",
          "state": {
            "_model_module": "@jupyter-widgets/base",
            "_model_module_version": "1.2.0",
            "_model_name": "LayoutModel",
            "_view_count": null,
            "_view_module": "@jupyter-widgets/base",
            "_view_module_version": "1.2.0",
            "_view_name": "LayoutView",
            "align_content": null,
            "align_items": null,
            "align_self": null,
            "border": null,
            "bottom": null,
            "display": null,
            "flex": null,
            "flex_flow": null,
            "grid_area": null,
            "grid_auto_columns": null,
            "grid_auto_flow": null,
            "grid_auto_rows": null,
            "grid_column": null,
            "grid_gap": null,
            "grid_row": null,
            "grid_template_areas": null,
            "grid_template_columns": null,
            "grid_template_rows": null,
            "height": null,
            "justify_content": null,
            "justify_items": null,
            "left": null,
            "margin": null,
            "max_height": null,
            "max_width": null,
            "min_height": null,
            "min_width": null,
            "object_fit": null,
            "object_position": null,
            "order": null,
            "overflow": null,
            "overflow_x": null,
            "overflow_y": null,
            "padding": null,
            "right": null,
            "top": null,
            "visibility": null,
            "width": null
          }
        },
        "f8283cc42fda40209b959683a446c43c": {
          "model_module": "@jupyter-widgets/controls",
          "model_name": "DescriptionStyleModel",
          "model_module_version": "1.5.0",
          "state": {
            "_model_module": "@jupyter-widgets/controls",
            "_model_module_version": "1.5.0",
            "_model_name": "DescriptionStyleModel",
            "_view_count": null,
            "_view_module": "@jupyter-widgets/base",
            "_view_module_version": "1.2.0",
            "_view_name": "StyleView",
            "description_width": ""
          }
        },
        "f0bf4add21cf4ddc8b04c823fc350856": {
          "model_module": "@jupyter-widgets/base",
          "model_name": "LayoutModel",
          "model_module_version": "1.2.0",
          "state": {
            "_model_module": "@jupyter-widgets/base",
            "_model_module_version": "1.2.0",
            "_model_name": "LayoutModel",
            "_view_count": null,
            "_view_module": "@jupyter-widgets/base",
            "_view_module_version": "1.2.0",
            "_view_name": "LayoutView",
            "align_content": null,
            "align_items": null,
            "align_self": null,
            "border": null,
            "bottom": null,
            "display": null,
            "flex": null,
            "flex_flow": null,
            "grid_area": null,
            "grid_auto_columns": null,
            "grid_auto_flow": null,
            "grid_auto_rows": null,
            "grid_column": null,
            "grid_gap": null,
            "grid_row": null,
            "grid_template_areas": null,
            "grid_template_columns": null,
            "grid_template_rows": null,
            "height": null,
            "justify_content": null,
            "justify_items": null,
            "left": null,
            "margin": null,
            "max_height": null,
            "max_width": null,
            "min_height": null,
            "min_width": null,
            "object_fit": null,
            "object_position": null,
            "order": null,
            "overflow": null,
            "overflow_x": null,
            "overflow_y": null,
            "padding": null,
            "right": null,
            "top": null,
            "visibility": null,
            "width": null
          }
        },
        "53374d4b84e3490ba1d9cf389e521270": {
          "model_module": "@jupyter-widgets/controls",
          "model_name": "ProgressStyleModel",
          "model_module_version": "1.5.0",
          "state": {
            "_model_module": "@jupyter-widgets/controls",
            "_model_module_version": "1.5.0",
            "_model_name": "ProgressStyleModel",
            "_view_count": null,
            "_view_module": "@jupyter-widgets/base",
            "_view_module_version": "1.2.0",
            "_view_name": "StyleView",
            "bar_color": null,
            "description_width": ""
          }
        },
        "1ba41f57f52348c898c1a86f7695138e": {
          "model_module": "@jupyter-widgets/base",
          "model_name": "LayoutModel",
          "model_module_version": "1.2.0",
          "state": {
            "_model_module": "@jupyter-widgets/base",
            "_model_module_version": "1.2.0",
            "_model_name": "LayoutModel",
            "_view_count": null,
            "_view_module": "@jupyter-widgets/base",
            "_view_module_version": "1.2.0",
            "_view_name": "LayoutView",
            "align_content": null,
            "align_items": null,
            "align_self": null,
            "border": null,
            "bottom": null,
            "display": null,
            "flex": null,
            "flex_flow": null,
            "grid_area": null,
            "grid_auto_columns": null,
            "grid_auto_flow": null,
            "grid_auto_rows": null,
            "grid_column": null,
            "grid_gap": null,
            "grid_row": null,
            "grid_template_areas": null,
            "grid_template_columns": null,
            "grid_template_rows": null,
            "height": null,
            "justify_content": null,
            "justify_items": null,
            "left": null,
            "margin": null,
            "max_height": null,
            "max_width": null,
            "min_height": null,
            "min_width": null,
            "object_fit": null,
            "object_position": null,
            "order": null,
            "overflow": null,
            "overflow_x": null,
            "overflow_y": null,
            "padding": null,
            "right": null,
            "top": null,
            "visibility": null,
            "width": null
          }
        },
        "19516e1dc1044be1a0ca4de74ab89db8": {
          "model_module": "@jupyter-widgets/controls",
          "model_name": "DescriptionStyleModel",
          "model_module_version": "1.5.0",
          "state": {
            "_model_module": "@jupyter-widgets/controls",
            "_model_module_version": "1.5.0",
            "_model_name": "DescriptionStyleModel",
            "_view_count": null,
            "_view_module": "@jupyter-widgets/base",
            "_view_module_version": "1.2.0",
            "_view_name": "StyleView",
            "description_width": ""
          }
        },
        "ed7daa9d8c9943fd8257bd3abc08f9a4": {
          "model_module": "@jupyter-widgets/controls",
          "model_name": "HBoxModel",
          "model_module_version": "1.5.0",
          "state": {
            "_dom_classes": [],
            "_model_module": "@jupyter-widgets/controls",
            "_model_module_version": "1.5.0",
            "_model_name": "HBoxModel",
            "_view_count": null,
            "_view_module": "@jupyter-widgets/controls",
            "_view_module_version": "1.5.0",
            "_view_name": "HBoxView",
            "box_style": "",
            "children": [
              "IPY_MODEL_c89f30ea3a1a4cbf84c57dc9840e7728",
              "IPY_MODEL_24eb86e4e63d4822ba5c61e829df34dc",
              "IPY_MODEL_77eda202fa3f4ef8aa1b19f004f35e6c"
            ],
            "layout": "IPY_MODEL_070c3a223ea04e70a968da3550295aad"
          }
        },
        "c89f30ea3a1a4cbf84c57dc9840e7728": {
          "model_module": "@jupyter-widgets/controls",
          "model_name": "HTMLModel",
          "model_module_version": "1.5.0",
          "state": {
            "_dom_classes": [],
            "_model_module": "@jupyter-widgets/controls",
            "_model_module_version": "1.5.0",
            "_model_name": "HTMLModel",
            "_view_count": null,
            "_view_module": "@jupyter-widgets/controls",
            "_view_module_version": "1.5.0",
            "_view_name": "HTMLView",
            "description": "",
            "description_tooltip": null,
            "layout": "IPY_MODEL_3338904c17224ac6b4b231bed59315eb",
            "placeholder": "​",
            "style": "IPY_MODEL_9068e937c76743e59a9f04168ff3c2a4",
            "value": "Downloading vocab.txt: 100%"
          }
        },
        "24eb86e4e63d4822ba5c61e829df34dc": {
          "model_module": "@jupyter-widgets/controls",
          "model_name": "FloatProgressModel",
          "model_module_version": "1.5.0",
          "state": {
            "_dom_classes": [],
            "_model_module": "@jupyter-widgets/controls",
            "_model_module_version": "1.5.0",
            "_model_name": "FloatProgressModel",
            "_view_count": null,
            "_view_module": "@jupyter-widgets/controls",
            "_view_module_version": "1.5.0",
            "_view_name": "ProgressView",
            "bar_style": "success",
            "description": "",
            "description_tooltip": null,
            "layout": "IPY_MODEL_f329aad5ff51448ca575619b96e4075b",
            "max": 213450,
            "min": 0,
            "orientation": "horizontal",
            "style": "IPY_MODEL_b2a917d5b1d24c8e9cffc276be0b8a33",
            "value": 213450
          }
        },
        "77eda202fa3f4ef8aa1b19f004f35e6c": {
          "model_module": "@jupyter-widgets/controls",
          "model_name": "HTMLModel",
          "model_module_version": "1.5.0",
          "state": {
            "_dom_classes": [],
            "_model_module": "@jupyter-widgets/controls",
            "_model_module_version": "1.5.0",
            "_model_name": "HTMLModel",
            "_view_count": null,
            "_view_module": "@jupyter-widgets/controls",
            "_view_module_version": "1.5.0",
            "_view_name": "HTMLView",
            "description": "",
            "description_tooltip": null,
            "layout": "IPY_MODEL_d46f867f237541618563a4767ef126dc",
            "placeholder": "​",
            "style": "IPY_MODEL_dee36a6e313748429fbe7e6ba9b7147c",
            "value": " 208k/208k [00:00&lt;00:00, 257kB/s]"
          }
        },
        "070c3a223ea04e70a968da3550295aad": {
          "model_module": "@jupyter-widgets/base",
          "model_name": "LayoutModel",
          "model_module_version": "1.2.0",
          "state": {
            "_model_module": "@jupyter-widgets/base",
            "_model_module_version": "1.2.0",
            "_model_name": "LayoutModel",
            "_view_count": null,
            "_view_module": "@jupyter-widgets/base",
            "_view_module_version": "1.2.0",
            "_view_name": "LayoutView",
            "align_content": null,
            "align_items": null,
            "align_self": null,
            "border": null,
            "bottom": null,
            "display": null,
            "flex": null,
            "flex_flow": null,
            "grid_area": null,
            "grid_auto_columns": null,
            "grid_auto_flow": null,
            "grid_auto_rows": null,
            "grid_column": null,
            "grid_gap": null,
            "grid_row": null,
            "grid_template_areas": null,
            "grid_template_columns": null,
            "grid_template_rows": null,
            "height": null,
            "justify_content": null,
            "justify_items": null,
            "left": null,
            "margin": null,
            "max_height": null,
            "max_width": null,
            "min_height": null,
            "min_width": null,
            "object_fit": null,
            "object_position": null,
            "order": null,
            "overflow": null,
            "overflow_x": null,
            "overflow_y": null,
            "padding": null,
            "right": null,
            "top": null,
            "visibility": null,
            "width": null
          }
        },
        "3338904c17224ac6b4b231bed59315eb": {
          "model_module": "@jupyter-widgets/base",
          "model_name": "LayoutModel",
          "model_module_version": "1.2.0",
          "state": {
            "_model_module": "@jupyter-widgets/base",
            "_model_module_version": "1.2.0",
            "_model_name": "LayoutModel",
            "_view_count": null,
            "_view_module": "@jupyter-widgets/base",
            "_view_module_version": "1.2.0",
            "_view_name": "LayoutView",
            "align_content": null,
            "align_items": null,
            "align_self": null,
            "border": null,
            "bottom": null,
            "display": null,
            "flex": null,
            "flex_flow": null,
            "grid_area": null,
            "grid_auto_columns": null,
            "grid_auto_flow": null,
            "grid_auto_rows": null,
            "grid_column": null,
            "grid_gap": null,
            "grid_row": null,
            "grid_template_areas": null,
            "grid_template_columns": null,
            "grid_template_rows": null,
            "height": null,
            "justify_content": null,
            "justify_items": null,
            "left": null,
            "margin": null,
            "max_height": null,
            "max_width": null,
            "min_height": null,
            "min_width": null,
            "object_fit": null,
            "object_position": null,
            "order": null,
            "overflow": null,
            "overflow_x": null,
            "overflow_y": null,
            "padding": null,
            "right": null,
            "top": null,
            "visibility": null,
            "width": null
          }
        },
        "9068e937c76743e59a9f04168ff3c2a4": {
          "model_module": "@jupyter-widgets/controls",
          "model_name": "DescriptionStyleModel",
          "model_module_version": "1.5.0",
          "state": {
            "_model_module": "@jupyter-widgets/controls",
            "_model_module_version": "1.5.0",
            "_model_name": "DescriptionStyleModel",
            "_view_count": null,
            "_view_module": "@jupyter-widgets/base",
            "_view_module_version": "1.2.0",
            "_view_name": "StyleView",
            "description_width": ""
          }
        },
        "f329aad5ff51448ca575619b96e4075b": {
          "model_module": "@jupyter-widgets/base",
          "model_name": "LayoutModel",
          "model_module_version": "1.2.0",
          "state": {
            "_model_module": "@jupyter-widgets/base",
            "_model_module_version": "1.2.0",
            "_model_name": "LayoutModel",
            "_view_count": null,
            "_view_module": "@jupyter-widgets/base",
            "_view_module_version": "1.2.0",
            "_view_name": "LayoutView",
            "align_content": null,
            "align_items": null,
            "align_self": null,
            "border": null,
            "bottom": null,
            "display": null,
            "flex": null,
            "flex_flow": null,
            "grid_area": null,
            "grid_auto_columns": null,
            "grid_auto_flow": null,
            "grid_auto_rows": null,
            "grid_column": null,
            "grid_gap": null,
            "grid_row": null,
            "grid_template_areas": null,
            "grid_template_columns": null,
            "grid_template_rows": null,
            "height": null,
            "justify_content": null,
            "justify_items": null,
            "left": null,
            "margin": null,
            "max_height": null,
            "max_width": null,
            "min_height": null,
            "min_width": null,
            "object_fit": null,
            "object_position": null,
            "order": null,
            "overflow": null,
            "overflow_x": null,
            "overflow_y": null,
            "padding": null,
            "right": null,
            "top": null,
            "visibility": null,
            "width": null
          }
        },
        "b2a917d5b1d24c8e9cffc276be0b8a33": {
          "model_module": "@jupyter-widgets/controls",
          "model_name": "ProgressStyleModel",
          "model_module_version": "1.5.0",
          "state": {
            "_model_module": "@jupyter-widgets/controls",
            "_model_module_version": "1.5.0",
            "_model_name": "ProgressStyleModel",
            "_view_count": null,
            "_view_module": "@jupyter-widgets/base",
            "_view_module_version": "1.2.0",
            "_view_name": "StyleView",
            "bar_color": null,
            "description_width": ""
          }
        },
        "d46f867f237541618563a4767ef126dc": {
          "model_module": "@jupyter-widgets/base",
          "model_name": "LayoutModel",
          "model_module_version": "1.2.0",
          "state": {
            "_model_module": "@jupyter-widgets/base",
            "_model_module_version": "1.2.0",
            "_model_name": "LayoutModel",
            "_view_count": null,
            "_view_module": "@jupyter-widgets/base",
            "_view_module_version": "1.2.0",
            "_view_name": "LayoutView",
            "align_content": null,
            "align_items": null,
            "align_self": null,
            "border": null,
            "bottom": null,
            "display": null,
            "flex": null,
            "flex_flow": null,
            "grid_area": null,
            "grid_auto_columns": null,
            "grid_auto_flow": null,
            "grid_auto_rows": null,
            "grid_column": null,
            "grid_gap": null,
            "grid_row": null,
            "grid_template_areas": null,
            "grid_template_columns": null,
            "grid_template_rows": null,
            "height": null,
            "justify_content": null,
            "justify_items": null,
            "left": null,
            "margin": null,
            "max_height": null,
            "max_width": null,
            "min_height": null,
            "min_width": null,
            "object_fit": null,
            "object_position": null,
            "order": null,
            "overflow": null,
            "overflow_x": null,
            "overflow_y": null,
            "padding": null,
            "right": null,
            "top": null,
            "visibility": null,
            "width": null
          }
        },
        "dee36a6e313748429fbe7e6ba9b7147c": {
          "model_module": "@jupyter-widgets/controls",
          "model_name": "DescriptionStyleModel",
          "model_module_version": "1.5.0",
          "state": {
            "_model_module": "@jupyter-widgets/controls",
            "_model_module_version": "1.5.0",
            "_model_name": "DescriptionStyleModel",
            "_view_count": null,
            "_view_module": "@jupyter-widgets/base",
            "_view_module_version": "1.2.0",
            "_view_name": "StyleView",
            "description_width": ""
          }
        },
        "5ccbdca426404dac91a6c72114e44b0c": {
          "model_module": "@jupyter-widgets/controls",
          "model_name": "HBoxModel",
          "model_module_version": "1.5.0",
          "state": {
            "_dom_classes": [],
            "_model_module": "@jupyter-widgets/controls",
            "_model_module_version": "1.5.0",
            "_model_name": "HBoxModel",
            "_view_count": null,
            "_view_module": "@jupyter-widgets/controls",
            "_view_module_version": "1.5.0",
            "_view_name": "HBoxView",
            "box_style": "",
            "children": [
              "IPY_MODEL_d7f309dbcfeb4578ab97c15181fd0fed",
              "IPY_MODEL_9e699c4bc2e244b296353cdc931c4455",
              "IPY_MODEL_6877cb0dda8e4ec1a36099b9f59cafad"
            ],
            "layout": "IPY_MODEL_af4c92aadc484ff9a31368541f99b9ac"
          }
        },
        "d7f309dbcfeb4578ab97c15181fd0fed": {
          "model_module": "@jupyter-widgets/controls",
          "model_name": "HTMLModel",
          "model_module_version": "1.5.0",
          "state": {
            "_dom_classes": [],
            "_model_module": "@jupyter-widgets/controls",
            "_model_module_version": "1.5.0",
            "_model_name": "HTMLModel",
            "_view_count": null,
            "_view_module": "@jupyter-widgets/controls",
            "_view_module_version": "1.5.0",
            "_view_name": "HTMLView",
            "description": "",
            "description_tooltip": null,
            "layout": "IPY_MODEL_98bb4de920ca4947b62f127b3c68846b",
            "placeholder": "​",
            "style": "IPY_MODEL_6bb1e7b79e5a40b38a937a969c5cbddc",
            "value": "Downloading tokenizer_config.json: 100%"
          }
        },
        "9e699c4bc2e244b296353cdc931c4455": {
          "model_module": "@jupyter-widgets/controls",
          "model_name": "FloatProgressModel",
          "model_module_version": "1.5.0",
          "state": {
            "_dom_classes": [],
            "_model_module": "@jupyter-widgets/controls",
            "_model_module_version": "1.5.0",
            "_model_name": "FloatProgressModel",
            "_view_count": null,
            "_view_module": "@jupyter-widgets/controls",
            "_view_module_version": "1.5.0",
            "_view_name": "ProgressView",
            "bar_style": "success",
            "description": "",
            "description_tooltip": null,
            "layout": "IPY_MODEL_70c8702723df4a96a71ef19d5bf0389f",
            "max": 29,
            "min": 0,
            "orientation": "horizontal",
            "style": "IPY_MODEL_0d0e2aac624640688c20e4777a202c61",
            "value": 29
          }
        },
        "6877cb0dda8e4ec1a36099b9f59cafad": {
          "model_module": "@jupyter-widgets/controls",
          "model_name": "HTMLModel",
          "model_module_version": "1.5.0",
          "state": {
            "_dom_classes": [],
            "_model_module": "@jupyter-widgets/controls",
            "_model_module_version": "1.5.0",
            "_model_name": "HTMLModel",
            "_view_count": null,
            "_view_module": "@jupyter-widgets/controls",
            "_view_module_version": "1.5.0",
            "_view_name": "HTMLView",
            "description": "",
            "description_tooltip": null,
            "layout": "IPY_MODEL_38521abf00ea44acbdd05f43d7553401",
            "placeholder": "​",
            "style": "IPY_MODEL_d3de67968059443e99c58b2d1f8ba0f0",
            "value": " 29.0/29.0 [00:00&lt;00:00, 154B/s]"
          }
        },
        "af4c92aadc484ff9a31368541f99b9ac": {
          "model_module": "@jupyter-widgets/base",
          "model_name": "LayoutModel",
          "model_module_version": "1.2.0",
          "state": {
            "_model_module": "@jupyter-widgets/base",
            "_model_module_version": "1.2.0",
            "_model_name": "LayoutModel",
            "_view_count": null,
            "_view_module": "@jupyter-widgets/base",
            "_view_module_version": "1.2.0",
            "_view_name": "LayoutView",
            "align_content": null,
            "align_items": null,
            "align_self": null,
            "border": null,
            "bottom": null,
            "display": null,
            "flex": null,
            "flex_flow": null,
            "grid_area": null,
            "grid_auto_columns": null,
            "grid_auto_flow": null,
            "grid_auto_rows": null,
            "grid_column": null,
            "grid_gap": null,
            "grid_row": null,
            "grid_template_areas": null,
            "grid_template_columns": null,
            "grid_template_rows": null,
            "height": null,
            "justify_content": null,
            "justify_items": null,
            "left": null,
            "margin": null,
            "max_height": null,
            "max_width": null,
            "min_height": null,
            "min_width": null,
            "object_fit": null,
            "object_position": null,
            "order": null,
            "overflow": null,
            "overflow_x": null,
            "overflow_y": null,
            "padding": null,
            "right": null,
            "top": null,
            "visibility": null,
            "width": null
          }
        },
        "98bb4de920ca4947b62f127b3c68846b": {
          "model_module": "@jupyter-widgets/base",
          "model_name": "LayoutModel",
          "model_module_version": "1.2.0",
          "state": {
            "_model_module": "@jupyter-widgets/base",
            "_model_module_version": "1.2.0",
            "_model_name": "LayoutModel",
            "_view_count": null,
            "_view_module": "@jupyter-widgets/base",
            "_view_module_version": "1.2.0",
            "_view_name": "LayoutView",
            "align_content": null,
            "align_items": null,
            "align_self": null,
            "border": null,
            "bottom": null,
            "display": null,
            "flex": null,
            "flex_flow": null,
            "grid_area": null,
            "grid_auto_columns": null,
            "grid_auto_flow": null,
            "grid_auto_rows": null,
            "grid_column": null,
            "grid_gap": null,
            "grid_row": null,
            "grid_template_areas": null,
            "grid_template_columns": null,
            "grid_template_rows": null,
            "height": null,
            "justify_content": null,
            "justify_items": null,
            "left": null,
            "margin": null,
            "max_height": null,
            "max_width": null,
            "min_height": null,
            "min_width": null,
            "object_fit": null,
            "object_position": null,
            "order": null,
            "overflow": null,
            "overflow_x": null,
            "overflow_y": null,
            "padding": null,
            "right": null,
            "top": null,
            "visibility": null,
            "width": null
          }
        },
        "6bb1e7b79e5a40b38a937a969c5cbddc": {
          "model_module": "@jupyter-widgets/controls",
          "model_name": "DescriptionStyleModel",
          "model_module_version": "1.5.0",
          "state": {
            "_model_module": "@jupyter-widgets/controls",
            "_model_module_version": "1.5.0",
            "_model_name": "DescriptionStyleModel",
            "_view_count": null,
            "_view_module": "@jupyter-widgets/base",
            "_view_module_version": "1.2.0",
            "_view_name": "StyleView",
            "description_width": ""
          }
        },
        "70c8702723df4a96a71ef19d5bf0389f": {
          "model_module": "@jupyter-widgets/base",
          "model_name": "LayoutModel",
          "model_module_version": "1.2.0",
          "state": {
            "_model_module": "@jupyter-widgets/base",
            "_model_module_version": "1.2.0",
            "_model_name": "LayoutModel",
            "_view_count": null,
            "_view_module": "@jupyter-widgets/base",
            "_view_module_version": "1.2.0",
            "_view_name": "LayoutView",
            "align_content": null,
            "align_items": null,
            "align_self": null,
            "border": null,
            "bottom": null,
            "display": null,
            "flex": null,
            "flex_flow": null,
            "grid_area": null,
            "grid_auto_columns": null,
            "grid_auto_flow": null,
            "grid_auto_rows": null,
            "grid_column": null,
            "grid_gap": null,
            "grid_row": null,
            "grid_template_areas": null,
            "grid_template_columns": null,
            "grid_template_rows": null,
            "height": null,
            "justify_content": null,
            "justify_items": null,
            "left": null,
            "margin": null,
            "max_height": null,
            "max_width": null,
            "min_height": null,
            "min_width": null,
            "object_fit": null,
            "object_position": null,
            "order": null,
            "overflow": null,
            "overflow_x": null,
            "overflow_y": null,
            "padding": null,
            "right": null,
            "top": null,
            "visibility": null,
            "width": null
          }
        },
        "0d0e2aac624640688c20e4777a202c61": {
          "model_module": "@jupyter-widgets/controls",
          "model_name": "ProgressStyleModel",
          "model_module_version": "1.5.0",
          "state": {
            "_model_module": "@jupyter-widgets/controls",
            "_model_module_version": "1.5.0",
            "_model_name": "ProgressStyleModel",
            "_view_count": null,
            "_view_module": "@jupyter-widgets/base",
            "_view_module_version": "1.2.0",
            "_view_name": "StyleView",
            "bar_color": null,
            "description_width": ""
          }
        },
        "38521abf00ea44acbdd05f43d7553401": {
          "model_module": "@jupyter-widgets/base",
          "model_name": "LayoutModel",
          "model_module_version": "1.2.0",
          "state": {
            "_model_module": "@jupyter-widgets/base",
            "_model_module_version": "1.2.0",
            "_model_name": "LayoutModel",
            "_view_count": null,
            "_view_module": "@jupyter-widgets/base",
            "_view_module_version": "1.2.0",
            "_view_name": "LayoutView",
            "align_content": null,
            "align_items": null,
            "align_self": null,
            "border": null,
            "bottom": null,
            "display": null,
            "flex": null,
            "flex_flow": null,
            "grid_area": null,
            "grid_auto_columns": null,
            "grid_auto_flow": null,
            "grid_auto_rows": null,
            "grid_column": null,
            "grid_gap": null,
            "grid_row": null,
            "grid_template_areas": null,
            "grid_template_columns": null,
            "grid_template_rows": null,
            "height": null,
            "justify_content": null,
            "justify_items": null,
            "left": null,
            "margin": null,
            "max_height": null,
            "max_width": null,
            "min_height": null,
            "min_width": null,
            "object_fit": null,
            "object_position": null,
            "order": null,
            "overflow": null,
            "overflow_x": null,
            "overflow_y": null,
            "padding": null,
            "right": null,
            "top": null,
            "visibility": null,
            "width": null
          }
        },
        "d3de67968059443e99c58b2d1f8ba0f0": {
          "model_module": "@jupyter-widgets/controls",
          "model_name": "DescriptionStyleModel",
          "model_module_version": "1.5.0",
          "state": {
            "_model_module": "@jupyter-widgets/controls",
            "_model_module_version": "1.5.0",
            "_model_name": "DescriptionStyleModel",
            "_view_count": null,
            "_view_module": "@jupyter-widgets/base",
            "_view_module_version": "1.2.0",
            "_view_name": "StyleView",
            "description_width": ""
          }
        }
      }
    }
  },
  "cells": [
    {
      "cell_type": "markdown",
      "source": [
        "#  TOKEN is a MASK [![Open In Colab](https://colab.research.google.com/assets/colab-badge.svg)](https://colab.research.google.com/drive/1ERntyn-841vjfBseIWbFPyme_VM08kcm?usp=sharing) "
      ],
      "metadata": {
        "id": "dg5juidL8lrL"
      }
    },
    {
      "cell_type": "code",
      "metadata": {
        "id": "qy8Eg4hEG38H",
        "colab": {
          "base_uri": "https://localhost:8080/"
        },
        "outputId": "4246faa1-0a22-4139-e331-8e55fa16c16b"
      },
      "source": [
        "!nvidia-smi --query-gpu=gpu_name,driver_version,memory.total --format=csv\n",
        "from tensorflow.python.client import device_lib\n",
        "device_lib.list_local_devices()"
      ],
      "execution_count": 28,
      "outputs": [
        {
          "output_type": "stream",
          "name": "stdout",
          "text": [
            "name, driver_version, memory.total [MiB]\n",
            "Tesla T4, 460.32.03, 15109 MiB\n"
          ]
        },
        {
          "output_type": "execute_result",
          "data": {
            "text/plain": [
              "[name: \"/device:CPU:0\"\n",
              " device_type: \"CPU\"\n",
              " memory_limit: 268435456\n",
              " locality {\n",
              " }\n",
              " incarnation: 10908012747396417984\n",
              " xla_global_id: -1, name: \"/device:GPU:0\"\n",
              " device_type: \"GPU\"\n",
              " memory_limit: 14444920832\n",
              " locality {\n",
              "   bus_id: 1\n",
              "   links {\n",
              "   }\n",
              " }\n",
              " incarnation: 13709117880906809293\n",
              " physical_device_desc: \"device: 0, name: Tesla T4, pci bus id: 0000:00:04.0, compute capability: 7.5\"\n",
              " xla_global_id: 416903419]"
            ]
          },
          "metadata": {},
          "execution_count": 28
        }
      ]
    },
    {
      "cell_type": "code",
      "metadata": {
        "id": "WtWVKZdVHSg0",
        "colab": {
          "base_uri": "https://localhost:8080/"
        },
        "outputId": "b0dc0957-3f1f-4f3d-ecb6-ddf150da0798"
      },
      "source": [
        "!pip install -q datasets\n",
        "!pip install -q  transformers\n",
        "!pip install -q seqeval[cpu]\n",
        "!pip install -q -U spacy\n",
        "!python -q -m spacy download en_core_web_sm\n",
        "#!pip install -q allennlp==1.0.0 allennlp-models==1.0.0\n",
        "#!pip install -q gensim"
      ],
      "execution_count": 2,
      "outputs": [
        {
          "output_type": "stream",
          "name": "stdout",
          "text": [
            "\u001b[K     |████████████████████████████████| 365 kB 35.4 MB/s \n",
            "\u001b[K     |████████████████████████████████| 115 kB 59.2 MB/s \n",
            "\u001b[K     |████████████████████████████████| 101 kB 12.8 MB/s \n",
            "\u001b[K     |████████████████████████████████| 212 kB 70.2 MB/s \n",
            "\u001b[K     |████████████████████████████████| 141 kB 73.8 MB/s \n",
            "\u001b[K     |████████████████████████████████| 596 kB 47.9 MB/s \n",
            "\u001b[K     |████████████████████████████████| 127 kB 61.8 MB/s \n",
            "\u001b[K     |████████████████████████████████| 4.7 MB 35.8 MB/s \n",
            "\u001b[K     |████████████████████████████████| 6.6 MB 59.9 MB/s \n",
            "\u001b[K     |████████████████████████████████| 43 kB 2.0 MB/s \n",
            "\u001b[?25h  Building wheel for seqeval (setup.py) ... \u001b[?25l\u001b[?25hdone\n",
            "Looking in indexes: https://pypi.org/simple, https://us-python.pkg.dev/colab-wheels/public/simple/\n",
            "Collecting en-core-web-sm==3.4.0\n",
            "  Downloading https://github.com/explosion/spacy-models/releases/download/en_core_web_sm-3.4.0/en_core_web_sm-3.4.0-py3-none-any.whl (12.8 MB)\n",
            "\u001b[K     |████████████████████████████████| 12.8 MB 26.0 MB/s \n",
            "\u001b[?25hRequirement already satisfied: spacy<3.5.0,>=3.4.0 in /usr/local/lib/python3.7/dist-packages (from en-core-web-sm==3.4.0) (3.4.1)\n",
            "Requirement already satisfied: cymem<2.1.0,>=2.0.2 in /usr/local/lib/python3.7/dist-packages (from spacy<3.5.0,>=3.4.0->en-core-web-sm==3.4.0) (2.0.6)\n",
            "Requirement already satisfied: spacy-legacy<3.1.0,>=3.0.9 in /usr/local/lib/python3.7/dist-packages (from spacy<3.5.0,>=3.4.0->en-core-web-sm==3.4.0) (3.0.9)\n",
            "Requirement already satisfied: setuptools in /usr/local/lib/python3.7/dist-packages (from spacy<3.5.0,>=3.4.0->en-core-web-sm==3.4.0) (57.4.0)\n",
            "Requirement already satisfied: preshed<3.1.0,>=3.0.2 in /usr/local/lib/python3.7/dist-packages (from spacy<3.5.0,>=3.4.0->en-core-web-sm==3.4.0) (3.0.6)\n",
            "Requirement already satisfied: catalogue<2.1.0,>=2.0.6 in /usr/local/lib/python3.7/dist-packages (from spacy<3.5.0,>=3.4.0->en-core-web-sm==3.4.0) (2.0.8)\n",
            "Requirement already satisfied: tqdm<5.0.0,>=4.38.0 in /usr/local/lib/python3.7/dist-packages (from spacy<3.5.0,>=3.4.0->en-core-web-sm==3.4.0) (4.64.0)\n",
            "Requirement already satisfied: requests<3.0.0,>=2.13.0 in /usr/local/lib/python3.7/dist-packages (from spacy<3.5.0,>=3.4.0->en-core-web-sm==3.4.0) (2.23.0)\n",
            "Requirement already satisfied: thinc<8.2.0,>=8.1.0 in /usr/local/lib/python3.7/dist-packages (from spacy<3.5.0,>=3.4.0->en-core-web-sm==3.4.0) (8.1.0)\n",
            "Requirement already satisfied: jinja2 in /usr/local/lib/python3.7/dist-packages (from spacy<3.5.0,>=3.4.0->en-core-web-sm==3.4.0) (2.11.3)\n",
            "Requirement already satisfied: murmurhash<1.1.0,>=0.28.0 in /usr/local/lib/python3.7/dist-packages (from spacy<3.5.0,>=3.4.0->en-core-web-sm==3.4.0) (1.0.7)\n",
            "Requirement already satisfied: packaging>=20.0 in /usr/local/lib/python3.7/dist-packages (from spacy<3.5.0,>=3.4.0->en-core-web-sm==3.4.0) (21.3)\n",
            "Requirement already satisfied: typing-extensions<4.2.0,>=3.7.4 in /usr/local/lib/python3.7/dist-packages (from spacy<3.5.0,>=3.4.0->en-core-web-sm==3.4.0) (4.1.1)\n",
            "Requirement already satisfied: wasabi<1.1.0,>=0.9.1 in /usr/local/lib/python3.7/dist-packages (from spacy<3.5.0,>=3.4.0->en-core-web-sm==3.4.0) (0.10.1)\n",
            "Requirement already satisfied: pathy>=0.3.5 in /usr/local/lib/python3.7/dist-packages (from spacy<3.5.0,>=3.4.0->en-core-web-sm==3.4.0) (0.6.2)\n",
            "Requirement already satisfied: pydantic!=1.8,!=1.8.1,<1.10.0,>=1.7.4 in /usr/local/lib/python3.7/dist-packages (from spacy<3.5.0,>=3.4.0->en-core-web-sm==3.4.0) (1.9.1)\n",
            "Requirement already satisfied: spacy-loggers<2.0.0,>=1.0.0 in /usr/local/lib/python3.7/dist-packages (from spacy<3.5.0,>=3.4.0->en-core-web-sm==3.4.0) (1.0.3)\n",
            "Requirement already satisfied: langcodes<4.0.0,>=3.2.0 in /usr/local/lib/python3.7/dist-packages (from spacy<3.5.0,>=3.4.0->en-core-web-sm==3.4.0) (3.3.0)\n",
            "Requirement already satisfied: numpy>=1.15.0 in /usr/local/lib/python3.7/dist-packages (from spacy<3.5.0,>=3.4.0->en-core-web-sm==3.4.0) (1.21.6)\n",
            "Requirement already satisfied: typer<0.5.0,>=0.3.0 in /usr/local/lib/python3.7/dist-packages (from spacy<3.5.0,>=3.4.0->en-core-web-sm==3.4.0) (0.4.2)\n",
            "Requirement already satisfied: srsly<3.0.0,>=2.4.3 in /usr/local/lib/python3.7/dist-packages (from spacy<3.5.0,>=3.4.0->en-core-web-sm==3.4.0) (2.4.4)\n",
            "Requirement already satisfied: zipp>=0.5 in /usr/local/lib/python3.7/dist-packages (from catalogue<2.1.0,>=2.0.6->spacy<3.5.0,>=3.4.0->en-core-web-sm==3.4.0) (3.8.1)\n",
            "Requirement already satisfied: pyparsing!=3.0.5,>=2.0.2 in /usr/local/lib/python3.7/dist-packages (from packaging>=20.0->spacy<3.5.0,>=3.4.0->en-core-web-sm==3.4.0) (3.0.9)\n",
            "Requirement already satisfied: smart-open<6.0.0,>=5.2.1 in /usr/local/lib/python3.7/dist-packages (from pathy>=0.3.5->spacy<3.5.0,>=3.4.0->en-core-web-sm==3.4.0) (5.2.1)\n",
            "Requirement already satisfied: urllib3!=1.25.0,!=1.25.1,<1.26,>=1.21.1 in /usr/local/lib/python3.7/dist-packages (from requests<3.0.0,>=2.13.0->spacy<3.5.0,>=3.4.0->en-core-web-sm==3.4.0) (1.25.11)\n",
            "Requirement already satisfied: chardet<4,>=3.0.2 in /usr/local/lib/python3.7/dist-packages (from requests<3.0.0,>=2.13.0->spacy<3.5.0,>=3.4.0->en-core-web-sm==3.4.0) (3.0.4)\n",
            "Requirement already satisfied: certifi>=2017.4.17 in /usr/local/lib/python3.7/dist-packages (from requests<3.0.0,>=2.13.0->spacy<3.5.0,>=3.4.0->en-core-web-sm==3.4.0) (2022.6.15)\n",
            "Requirement already satisfied: idna<3,>=2.5 in /usr/local/lib/python3.7/dist-packages (from requests<3.0.0,>=2.13.0->spacy<3.5.0,>=3.4.0->en-core-web-sm==3.4.0) (2.10)\n",
            "Requirement already satisfied: blis<0.8.0,>=0.7.8 in /usr/local/lib/python3.7/dist-packages (from thinc<8.2.0,>=8.1.0->spacy<3.5.0,>=3.4.0->en-core-web-sm==3.4.0) (0.7.8)\n",
            "Requirement already satisfied: click<9.0.0,>=7.1.1 in /usr/local/lib/python3.7/dist-packages (from typer<0.5.0,>=0.3.0->spacy<3.5.0,>=3.4.0->en-core-web-sm==3.4.0) (7.1.2)\n",
            "Requirement already satisfied: MarkupSafe>=0.23 in /usr/local/lib/python3.7/dist-packages (from jinja2->spacy<3.5.0,>=3.4.0->en-core-web-sm==3.4.0) (2.0.1)\n",
            "\u001b[38;5;2m✔ Download and installation successful\u001b[0m\n",
            "You can now load the package via spacy.load('en_core_web_sm')\n"
          ]
        }
      ]
    },
    {
      "cell_type": "code",
      "metadata": {
        "id": "P3DTe_95HZVp"
      },
      "source": [
        "import torch\n",
        "from transformers import BertTokenizer, BertForMaskedLM\n",
        "import logging\n",
        "import pandas as pd\n",
        "from datasets import Dataset\n",
        "from collections import Counter, defaultdict\n",
        "from time import time\n",
        "import string\n",
        "from tqdm import tqdm\n",
        "import spacy\n",
        "import gensim.downloader as api\n",
        "\n",
        "from seqeval.metrics import f1_score, classification_report\n",
        "from sklearn.metrics import classification_report as sk_classification_report\n",
        "from sklearn.metrics import f1_score as sk_f1_score\n",
        "\n",
        "# from allennlp.predictors.predictor import Predictor\n",
        "# import allennlp_models.structured_prediction"
      ],
      "execution_count": 3,
      "outputs": []
    },
    {
      "cell_type": "code",
      "metadata": {
        "id": "cR2hck_gSKBD"
      },
      "source": [
        "nlp = spacy.load(\"en_core_web_sm\")\n",
        "#word_vectors = api.load(\"glove-wiki-gigaword-100\")"
      ],
      "execution_count": 4,
      "outputs": []
    },
    {
      "cell_type": "code",
      "metadata": {
        "id": "9OhYAng0IZop",
        "colab": {
          "base_uri": "https://localhost:8080/",
          "height": 220,
          "referenced_widgets": [
            "cd43cdf855c84eaf84c4e8b045ecebdb",
            "d3b0d37cfeff4e0eb153d5496ecbc65d",
            "5235ba2efa204b11b03d258f78928378",
            "dc1a9d530ae84a37a82fcb3c55d7fefd",
            "d42a15a843dc461a924759c32fb1d65a",
            "fa00ae06570142ccb785458711d2c2a9",
            "eecc23fba73545879f39b17454638bbe",
            "4e61b5d54a5e422493dc0f4df65e3159",
            "e302371320a0431fa87d25b6bb75b8eb",
            "0c2b5c6ef14440e08d6fbff4b990d08d",
            "4244ac7373ee4cd98690eb18ed6b956c",
            "f04ad3e91e6f45b3884f17a407e85c03",
            "2890fca1c6ae41ab8d0d4d69be8c1127",
            "277f2bf882f44940a0b23c8b5b4e2f55",
            "59f3b1dd3bd34f3eac3365cbf7a2a1a5",
            "7b8658826301459c993aa066e174144c",
            "a403a4586c5345e2964758ec8f38db24",
            "f8283cc42fda40209b959683a446c43c",
            "f0bf4add21cf4ddc8b04c823fc350856",
            "53374d4b84e3490ba1d9cf389e521270",
            "1ba41f57f52348c898c1a86f7695138e",
            "19516e1dc1044be1a0ca4de74ab89db8",
            "ed7daa9d8c9943fd8257bd3abc08f9a4",
            "c89f30ea3a1a4cbf84c57dc9840e7728",
            "24eb86e4e63d4822ba5c61e829df34dc",
            "77eda202fa3f4ef8aa1b19f004f35e6c",
            "070c3a223ea04e70a968da3550295aad",
            "3338904c17224ac6b4b231bed59315eb",
            "9068e937c76743e59a9f04168ff3c2a4",
            "f329aad5ff51448ca575619b96e4075b",
            "b2a917d5b1d24c8e9cffc276be0b8a33",
            "d46f867f237541618563a4767ef126dc",
            "dee36a6e313748429fbe7e6ba9b7147c",
            "5ccbdca426404dac91a6c72114e44b0c",
            "d7f309dbcfeb4578ab97c15181fd0fed",
            "9e699c4bc2e244b296353cdc931c4455",
            "6877cb0dda8e4ec1a36099b9f59cafad",
            "af4c92aadc484ff9a31368541f99b9ac",
            "98bb4de920ca4947b62f127b3c68846b",
            "6bb1e7b79e5a40b38a937a969c5cbddc",
            "70c8702723df4a96a71ef19d5bf0389f",
            "0d0e2aac624640688c20e4777a202c61",
            "38521abf00ea44acbdd05f43d7553401",
            "d3de67968059443e99c58b2d1f8ba0f0"
          ]
        },
        "outputId": "127aa286-a72a-467e-ab4b-2fee76dcf693"
      },
      "source": [
        "device = 'cuda'\n",
        "model_name = 'bert-large-cased'\n",
        "model = BertForMaskedLM.from_pretrained(model_name).to(device)\n",
        "tokenizer = BertTokenizer.from_pretrained(model_name)"
      ],
      "execution_count": 5,
      "outputs": [
        {
          "output_type": "display_data",
          "data": {
            "text/plain": [
              "Downloading config.json:   0%|          | 0.00/762 [00:00<?, ?B/s]"
            ],
            "application/vnd.jupyter.widget-view+json": {
              "version_major": 2,
              "version_minor": 0,
              "model_id": "cd43cdf855c84eaf84c4e8b045ecebdb"
            }
          },
          "metadata": {}
        },
        {
          "output_type": "display_data",
          "data": {
            "text/plain": [
              "Downloading pytorch_model.bin:   0%|          | 0.00/1.25G [00:00<?, ?B/s]"
            ],
            "application/vnd.jupyter.widget-view+json": {
              "version_major": 2,
              "version_minor": 0,
              "model_id": "f04ad3e91e6f45b3884f17a407e85c03"
            }
          },
          "metadata": {}
        },
        {
          "output_type": "stream",
          "name": "stderr",
          "text": [
            "Some weights of the model checkpoint at bert-large-cased were not used when initializing BertForMaskedLM: ['cls.seq_relationship.weight', 'cls.seq_relationship.bias']\n",
            "- This IS expected if you are initializing BertForMaskedLM from the checkpoint of a model trained on another task or with another architecture (e.g. initializing a BertForSequenceClassification model from a BertForPreTraining model).\n",
            "- This IS NOT expected if you are initializing BertForMaskedLM from the checkpoint of a model that you expect to be exactly identical (initializing a BertForSequenceClassification model from a BertForSequenceClassification model).\n"
          ]
        },
        {
          "output_type": "display_data",
          "data": {
            "text/plain": [
              "Downloading vocab.txt:   0%|          | 0.00/208k [00:00<?, ?B/s]"
            ],
            "application/vnd.jupyter.widget-view+json": {
              "version_major": 2,
              "version_minor": 0,
              "model_id": "ed7daa9d8c9943fd8257bd3abc08f9a4"
            }
          },
          "metadata": {}
        },
        {
          "output_type": "display_data",
          "data": {
            "text/plain": [
              "Downloading tokenizer_config.json:   0%|          | 0.00/29.0 [00:00<?, ?B/s]"
            ],
            "application/vnd.jupyter.widget-view+json": {
              "version_major": 2,
              "version_minor": 0,
              "model_id": "5ccbdca426404dac91a6c72114e44b0c"
            }
          },
          "metadata": {}
        }
      ]
    },
    {
      "cell_type": "markdown",
      "source": [
        "## Dataset to Evaluate on (in CoNLL Format)"
      ],
      "metadata": {
        "id": "jnMB7MClhLF3"
      }
    },
    {
      "cell_type": "code",
      "source": [
        "!git clone https://github.com/uds-lsv/TOKEN-is-a-MASK\n"
      ],
      "metadata": {
        "colab": {
          "base_uri": "https://localhost:8080/"
        },
        "id": "t5AA7ZhSdyFr",
        "outputId": "7ddfdf87-12d2-457b-9441-644fe241117f"
      },
      "execution_count": 6,
      "outputs": [
        {
          "output_type": "stream",
          "name": "stdout",
          "text": [
            "Cloning into 'TOKEN-is-a-MASK'...\n",
            "remote: Enumerating objects: 35, done.\u001b[K\n",
            "remote: Counting objects: 100% (35/35), done.\u001b[K\n",
            "remote: Compressing objects: 100% (27/27), done.\u001b[K\n",
            "remote: Total 35 (delta 7), reused 18 (delta 1), pack-reused 0\u001b[K\n",
            "Unpacking objects: 100% (35/35), done.\n"
          ]
        }
      ]
    },
    {
      "cell_type": "code",
      "source": [
        "data_path = 'TOKEN-is-a-MASK/data/conll03NER/'"
      ],
      "metadata": {
        "id": "3CFu1gTWhgHR"
      },
      "execution_count": 7,
      "outputs": []
    },
    {
      "cell_type": "code",
      "metadata": {
        "id": "tmc83qcYItIq"
      },
      "source": [
        "def get_dataset(file):\n",
        "  df = pd.read_csv(file, sep=\" \", header=None, usecols=[0, 3], skip_blank_lines=False)\n",
        "  df.columns = ['token', 'tag']\n",
        "  df['tag'] = df['tag'].fillna('O')\n",
        "  #df.tag[df.tag == 'B-MISC'] = 'O'\n",
        "  #df.tag[df.tag == 'I-MISC'] = 'O'\n",
        "  dataset = Dataset.from_pandas(df)\n",
        "\n",
        "  return dataset\n",
        "#train_dataset = get_dataset('train.txt')\n",
        "#dev_dataset = get_dataset('dev.txt')\n",
        "test_dataset = get_dataset(data_path+'test.txt')"
      ],
      "execution_count": 8,
      "outputs": []
    },
    {
      "cell_type": "markdown",
      "metadata": {
        "id": "8PNM-Q_jBwrc"
      },
      "source": [
        "# Using POS "
      ]
    },
    {
      "cell_type": "code",
      "metadata": {
        "id": "37SiBcsP0tTE"
      },
      "source": [
        "ent_pos = 'PROPN'\n",
        "def get_pos(seq):\n",
        "  #print(seq)\n",
        "  if None in seq:\n",
        "    seq.remove(None)\n",
        "\n",
        "  text = \" \".join(seq)  \n",
        "  doc = nlp(text)\n",
        "  token_tags = []\n",
        "  for token in doc:\n",
        "    if token.pos_ == 'SPACE':\n",
        "      token_tags.append([' ', token.pos_])\n",
        "    elif len(token) == 1:\n",
        "      token_tags.append([token.text, 'O'])\n",
        "    else:\n",
        "      token_tags.append([token.text, token.pos_])\n",
        "  \n",
        "  seq_tags = []\n",
        "  counter = 0\n",
        "  running_token = ''\n",
        "  running_tags = []\n",
        "  for t, pos in token_tags:\n",
        "    if t == seq[counter]:\n",
        "      seq_tags.append([t, pos])\n",
        "      counter += 1\n",
        "    else:\n",
        "      running_token += t\n",
        "      running_tags += [pos]\n",
        "      if running_token == seq[counter]:\n",
        "        if ent_pos in running_tags:\n",
        "          _pos = ent_pos\n",
        "        else:\n",
        "          _pos = running_tags[0]\n",
        "        seq_tags.append([running_token, _pos])\n",
        "        counter += 1\n",
        "        running_token = ''\n",
        "        running_tags = []\n",
        "\n",
        "  if len(seq) > len(seq_tags):\n",
        "    seq = seq[:len(seq_tags)]\n",
        "  assert seq == [t for t, _ in seq_tags]\n",
        "\n",
        "  for i in range(len(seq)):\n",
        "    if seq_tags[i][1] == ent_pos:\n",
        "      seq_tags[i][0] = seq_tags[i][0].capitalize()\n",
        "      seq[i] = seq[i].capitalize()\n",
        "  seq[0] = seq[0].capitalize()\n",
        "  return seq, seq_tags"
      ],
      "execution_count": 30,
      "outputs": []
    },
    {
      "cell_type": "code",
      "metadata": {
        "id": "0eGFHpVh1DZk",
        "colab": {
          "base_uri": "https://localhost:8080/"
        },
        "outputId": "9e2c011f-497c-427b-a4f9-70ea7786655b"
      },
      "source": [
        "i = 16\n",
        "j = 22\n",
        "seq = test_dataset[i: j]['token']\n",
        "get_pos(seq)"
      ],
      "execution_count": 31,
      "outputs": [
        {
          "output_type": "execute_result",
          "data": {
            "text/plain": [
              "(['Al-ain', ',', 'United', 'Arab', 'Emirates', '1996-12-06'],\n",
              " [['Al-ain', 'PROPN'],\n",
              "  [',', 'O'],\n",
              "  ['United', 'PROPN'],\n",
              "  ['Arab', 'PROPN'],\n",
              "  ['Emirates', 'PROPN'],\n",
              "  ['1996-12-06', 'NUM']])"
            ]
          },
          "metadata": {},
          "execution_count": 31
        }
      ]
    },
    {
      "cell_type": "code",
      "source": [
        "i = 33697 #33718\n",
        "j = 33722\n",
        "seq = test_dataset[i: j]['token']\n",
        "get_pos(seq)"
      ],
      "metadata": {
        "colab": {
          "base_uri": "https://localhost:8080/"
        },
        "id": "UUQmtC6oKIJm",
        "outputId": "8a0a76f7-12e8-47f7-e5d9-e00eed319b06"
      },
      "execution_count": 32,
      "outputs": [
        {
          "output_type": "execute_result",
          "data": {
            "text/plain": [
              "(['There',\n",
              "  'are',\n",
              "  '500',\n",
              "  'million',\n",
              "  'messages',\n",
              "  'transmitted',\n",
              "  'through',\n",
              "  'the',\n",
              "  'Internet',\n",
              "  'everyday',\n",
              "  ',',\n",
              "  ' ',\n",
              "  'said',\n",
              "  'Tim',\n",
              "  'Casey',\n",
              "  'of',\n",
              "  'the'],\n",
              " [['There', 'PRON'],\n",
              "  ['are', 'VERB'],\n",
              "  ['500', 'NUM'],\n",
              "  ['million', 'NUM'],\n",
              "  ['messages', 'NOUN'],\n",
              "  ['transmitted', 'VERB'],\n",
              "  ['through', 'ADP'],\n",
              "  ['the', 'DET'],\n",
              "  ['Internet', 'NOUN'],\n",
              "  ['everyday', 'ADV'],\n",
              "  [',', 'O'],\n",
              "  [' ', 'SPACE'],\n",
              "  ['said', 'VERB'],\n",
              "  ['Tim', 'PROPN'],\n",
              "  ['Casey', 'PROPN'],\n",
              "  ['of', 'ADP'],\n",
              "  ['the', 'DET']])"
            ]
          },
          "metadata": {},
          "execution_count": 32
        }
      ]
    },
    {
      "cell_type": "code",
      "metadata": {
        "id": "JBlnsRbYf3nC"
      },
      "source": [
        "def get_labels(text, template_text):\n",
        "  tokenized_text = tokenizer.tokenize(text)\n",
        "  tokenized_template = tokenizer.tokenize(template_text)\n",
        "  _tokenized_text = tokenized_text + tokenized_template\n",
        "  masked_ids = [i for i, x in enumerate(_tokenized_text) if x == \"[MASK]\"]\n",
        "  indexed_tokens = tokenizer.convert_tokens_to_ids(_tokenized_text)\n",
        "  tokens_tensor = torch.tensor([indexed_tokens]).to(device)\n",
        "\n",
        "  segments_ids_text = [0] * len(tokenized_text)\n",
        "  segments_ids_template = [1] * len(tokenized_template)\n",
        "  segments_ids = segments_ids_text + segments_ids_template\n",
        "  segments_tensors = torch.tensor([segments_ids]).to(device)\n",
        "\n",
        "  outputs = model(tokens_tensor, token_type_ids=segments_tensors)\n",
        "  predictions = outputs[0]\n",
        "  prob = torch.softmax(predictions[0, masked_ids], dim=-1)\n",
        "\n",
        "  labels_dic = {}\n",
        "  for tag, ids in ner_words.items():\n",
        "      _max_prob, _max_id = torch.max(prob[0, ids], 0)\n",
        "      labels_dic[tag] = (_max_prob.item(), ner_words_text[tag][_max_id.item()])\n",
        "      #labels_dic[tag] = prob[0, ids].max().item()\n",
        "  pred_label = max(labels_dic, key=labels_dic.get)\n",
        "  pred_prob, pred_word  = labels_dic[pred_label]\n",
        "  return pred_label, pred_prob, pred_word"
      ],
      "execution_count": 33,
      "outputs": []
    },
    {
      "cell_type": "code",
      "metadata": {
        "id": "to2UoC_scvEf"
      },
      "source": [
        "def classifier(seq, pos_tags):\n",
        "  text_seq = [\"[CLS]\"] + seq + [\"[SEP]\"]\n",
        "  text =  ' '.join(text_seq)\n",
        "\n",
        "  len_pos = len(pos_tags)\n",
        "  pred_tags = []\n",
        "  pred_words = []\n",
        "  _entity = '' \n",
        "  counter = 0\n",
        "  for i, (t, pos) in enumerate(pos_tags):\n",
        "    if pos != ent_pos:\n",
        "      pred_tags.append('O')\n",
        "      pred_words.append('None')\n",
        "      _entity = ''\n",
        "      counter = 0\n",
        "      continue\n",
        "\n",
        "    _entity += ' ' + t\n",
        "    counter += 1\n",
        "    if i+1 < len_pos and pos_tags[i+1][1] == ent_pos:\n",
        "      continue\n",
        "    else:\n",
        "      pred_tag = None\n",
        "      pred_prob = 0\n",
        "      pred_word = None\n",
        "      for template in templates:\n",
        "        template_text = _entity +  template\n",
        "        _pred_label, _pred_prob, _pred_word = get_labels(text, template_text)\n",
        "        if _pred_prob > pred_prob:\n",
        "          pred_prob = _pred_prob\n",
        "          pred_tag = _pred_label\n",
        "          pred_word = _pred_word \n",
        "      pred_tags += [pred_tag] * counter\n",
        "      pred_words += [pred_word] * counter\n",
        "\n",
        "  assert len(pred_tags) == len(seq), print(seq, len(pred_tags), len(seq))\n",
        "\n",
        "  bio_pred_tags = []\n",
        "  for i, tag in enumerate(pred_tags):\n",
        "    if tag == 'O':\n",
        "      bio_pred_tags += [tag]\n",
        "      continue\n",
        "    if len(bio_pred_tags) == 0:\n",
        "      bio_pred_tags += ['B-'+tag]\n",
        "\n",
        "    elif tag in bio_pred_tags[i-1]:\n",
        "      bio_pred_tags += ['I-'+tag]\n",
        "    else:\n",
        "      bio_pred_tags += ['B-'+tag]\n",
        "\n",
        "  return bio_pred_tags, pred_words"
      ],
      "execution_count": 34,
      "outputs": []
    },
    {
      "cell_type": "code",
      "metadata": {
        "id": "gHyecozITN08"
      },
      "source": [
        "def flatten(_list):\n",
        "  return [item for sublist in _list for item in sublist]\n",
        "\n",
        "def compute_bare_f1(ner_tags, pred_tags):\n",
        "  bare_ner_tages = [tag[2:] if tag != 'O' else tag for tag in ner_tags]\n",
        "  bare_pred_tages = [tag[2:] if tag != 'O' else tag for tag in pred_tags]\n",
        "  print(sk_classification_report(bare_ner_tages, bare_pred_tages))\n",
        "  return sk_f1_score(bare_ner_tages, bare_pred_tages, average=None)\n",
        "\n",
        "def evaluation(dataset, f1_steps):\n",
        "  seq = []\n",
        "  ner_tags = []\n",
        "  total_ner_tags = []\n",
        "  total_pred_tags = []\n",
        "  total_pred_words = []\n",
        "  num_samples = 0\n",
        "  for i, token in tqdm(enumerate(dataset['token'])):\n",
        "    tag = dataset['tag'][i]\n",
        "    if token == None:\n",
        "      num_samples += 1\n",
        "      add_point = False\n",
        "      if seq[-1] != '.':\n",
        "          add_point = True\n",
        "          seq += ['.']\n",
        "      seq, pos_tags = get_pos(seq)\n",
        "      pred_tags, pred_words = classifier(seq, pos_tags) \n",
        "      if add_point:\n",
        "        pred_tags = pred_tags[:-1]\n",
        "        pred_words = pred_words[:-1]\n",
        "      if len(ner_tags) > len(pred_tags):\n",
        "        ner_tags = ner_tags[:len(pred_tags)]\n",
        "      assert len(pred_tags) == len(ner_tags), len(pred_words) == len(ner_tags)\n",
        "      total_ner_tags.append(ner_tags)\n",
        "      total_pred_tags.append(pred_tags)\n",
        "      total_pred_words.append(pred_words)\n",
        "      if num_samples % f1_steps == 0:\n",
        "        #compute_bare_f1(flatten(total_ner_tags), flatten(total_pred_tags))\n",
        "        print(classification_report(total_ner_tags, total_pred_tags))\n",
        "        print('---------------')\n",
        "      seq = []\n",
        "      ner_tags = []\n",
        "    else:\n",
        "      seq += [token]\n",
        "      ner_tags += [tag]\n",
        "\n",
        "  #compute_bare_f1(flatten(total_ner_tags), flatten(total_pred_tags))\n",
        "  print(classification_report(total_ner_tags, total_pred_tags))\n",
        "  return total_ner_tags, total_pred_tags, total_pred_words"
      ],
      "execution_count": 35,
      "outputs": []
    },
    {
      "cell_type": "code",
      "source": [
        "def get_word_ids(words):\n",
        "  ids = []\n",
        "  for w in words:\n",
        "    _id = tokenizer.convert_tokens_to_ids(w)\n",
        "    ids.append(_id)\n",
        "  \n",
        "  assert len(ids) == len(words)\n",
        "  return ids\n",
        "\n",
        "init_loc_words = ['location', 'city', 'country', 'region', 'area',\n",
        "             'province', 'state', 'town', 'downtown']\n",
        "init_per_words = ['person', 'man', 'woman', 'boy', 'girl', 'human', 'someone', 'kid']\n",
        "init_org_words = ['organization', 'community', 'commision', 'department',\n",
        "             'association', 'council', 'company', 'union', 'team', 'group', 'firm']\n",
        "init_misc_words = ['citizenship', 'nationality', 'ethnicity', 'cup' , 'game']\n",
        "\n",
        "ner_words_text = {'ORG': init_org_words, #'MISC': init_misc_words,\n",
        "            'PER': init_per_words, 'LOC': init_loc_words}\n",
        "\n",
        "ner_words = {k: get_word_ids(v) for k, v in ner_words_text.items()}   \n",
        "\n",
        "templates = [' is a [MASK] . [SEP]', ' is an [MASK] . [SEP]']\n",
        "#templates = [' is an instance of a [MASK] . [SEP]', ' is an instance of an [MASK] . [SEP]']\n",
        "\n",
        "#templates = [' denotes a [MASK] . [SEP]', ' denotes an [MASK] . [SEP]']\n",
        "\n",
        "#templates = ['  would be a [MASK] . [SEP]', '  would be an [MASK] . [SEP]']\n",
        "\n",
        "#templates = ['  is well known to be  a [MASK] . [SEP]', '  is well known to be an  [MASK] . [SEP]']\n",
        "\n",
        "#templates = ['   is a common [MASK] known to many people. [SEP]']\n",
        "\n",
        "\n",
        "#templates = [' [MASK] . [SEP]', ' [MASK] . [SEP]']\n",
        "\n",
        "ner_words"
      ],
      "metadata": {
        "colab": {
          "base_uri": "https://localhost:8080/"
        },
        "id": "S5cN2LHLqzCY",
        "outputId": "b66f1062-3391-4b85-ae82-c322e9516327"
      },
      "execution_count": 36,
      "outputs": [
        {
          "output_type": "execute_result",
          "data": {
            "text/plain": [
              "{'ORG': [2369, 1661, 100, 2853, 3852, 3193, 1419, 3779, 1264, 1372, 3016],\n",
              " 'PER': [1825, 1299, 1590, 2298, 1873, 1769, 1800, 5102],\n",
              " 'LOC': [2450, 1331, 1583, 1805, 1298, 3199, 1352, 1411, 5215]}"
            ]
          },
          "metadata": {},
          "execution_count": 36
        }
      ]
    },
    {
      "cell_type": "code",
      "metadata": {
        "id": "a-sDlsKccZlJ",
        "colab": {
          "base_uri": "https://localhost:8080/"
        },
        "outputId": "2eb4c7a4-1251-45e5-aef7-5cc0862d6472"
      },
      "source": [
        "gt_labels, pred_labels, pred_words = evaluation(test_dataset, f1_steps=200)\n",
        "#evaluation(test_dataset[0:49888], f1_steps=200)"
      ],
      "execution_count": 37,
      "outputs": [
        {
          "output_type": "stream",
          "name": "stderr",
          "text": [
            "2774it [02:24, 22.48it/s]/usr/local/lib/python3.7/dist-packages/seqeval/metrics/v1.py:57: UndefinedMetricWarning: Precision and F-score are ill-defined and being set to 0.0 in labels with no predicted samples. Use `zero_division` parameter to control this behavior.\n",
            "  _warn_prf(average, modifier, msg_start, len(result))\n",
            "2780it [02:25, 15.53it/s]"
          ]
        },
        {
          "output_type": "stream",
          "name": "stdout",
          "text": [
            "              precision    recall  f1-score   support\n",
            "\n",
            "         LOC       0.80      0.78      0.79       130\n",
            "        MISC       0.00      0.00      0.00        35\n",
            "         ORG       0.26      0.51      0.34        49\n",
            "         PER       0.91      0.90      0.90       193\n",
            "\n",
            "   micro avg       0.72      0.73      0.73       407\n",
            "   macro avg       0.49      0.55      0.51       407\n",
            "weighted avg       0.71      0.73      0.72       407\n",
            "\n",
            "---------------\n"
          ]
        },
        {
          "output_type": "stream",
          "name": "stderr",
          "text": [
            "5536it [04:55, 13.08it/s]"
          ]
        },
        {
          "output_type": "stream",
          "name": "stdout",
          "text": [
            "              precision    recall  f1-score   support\n",
            "\n",
            "         LOC       0.69      0.69      0.69       266\n",
            "        MISC       0.00      0.00      0.00        63\n",
            "         ORG       0.18      0.36      0.24       102\n",
            "         PER       0.91      0.93      0.92       425\n",
            "\n",
            "   micro avg       0.68      0.72      0.70       856\n",
            "   macro avg       0.45      0.50      0.46       856\n",
            "weighted avg       0.69      0.72      0.70       856\n",
            "\n",
            "---------------\n"
          ]
        },
        {
          "output_type": "stream",
          "name": "stderr",
          "text": [
            "7280it [06:35, 16.84it/s]"
          ]
        },
        {
          "output_type": "stream",
          "name": "stdout",
          "text": [
            "              precision    recall  f1-score   support\n",
            "\n",
            "         LOC       0.54      0.66      0.60       309\n",
            "        MISC       0.00      0.00      0.00        76\n",
            "         ORG       0.27      0.32      0.30       266\n",
            "         PER       0.89      0.93      0.91       451\n",
            "\n",
            "   micro avg       0.61      0.64      0.63      1102\n",
            "   macro avg       0.43      0.48      0.45      1102\n",
            "weighted avg       0.58      0.64      0.61      1102\n",
            "\n",
            "---------------\n"
          ]
        },
        {
          "output_type": "stream",
          "name": "stderr",
          "text": [
            "9093it [08:20, 12.76it/s]"
          ]
        },
        {
          "output_type": "stream",
          "name": "stdout",
          "text": [
            "              precision    recall  f1-score   support\n",
            "\n",
            "         LOC       0.50      0.67      0.57       348\n",
            "        MISC       0.00      0.00      0.00       102\n",
            "         ORG       0.32      0.33      0.33       395\n",
            "         PER       0.87      0.92      0.90       547\n",
            "\n",
            "   micro avg       0.60      0.62      0.61      1392\n",
            "   macro avg       0.42      0.48      0.45      1392\n",
            "weighted avg       0.56      0.62      0.59      1392\n",
            "\n",
            "---------------\n"
          ]
        },
        {
          "output_type": "stream",
          "name": "stderr",
          "text": [
            "13148it [12:01, 14.89it/s]"
          ]
        },
        {
          "output_type": "stream",
          "name": "stdout",
          "text": [
            "              precision    recall  f1-score   support\n",
            "\n",
            "         LOC       0.52      0.71      0.60       446\n",
            "        MISC       0.00      0.00      0.00       197\n",
            "         ORG       0.39      0.42      0.41       523\n",
            "         PER       0.83      0.89      0.86       672\n",
            "\n",
            "   micro avg       0.60      0.62      0.61      1838\n",
            "   macro avg       0.44      0.50      0.47      1838\n",
            "weighted avg       0.54      0.62      0.57      1838\n",
            "\n",
            "---------------\n"
          ]
        },
        {
          "output_type": "stream",
          "name": "stderr",
          "text": [
            "16840it [15:11, 14.26it/s]"
          ]
        },
        {
          "output_type": "stream",
          "name": "stdout",
          "text": [
            "              precision    recall  f1-score   support\n",
            "\n",
            "         LOC       0.56      0.74      0.64       582\n",
            "        MISC       0.00      0.00      0.00       237\n",
            "         ORG       0.41      0.46      0.43       627\n",
            "         PER       0.80      0.88      0.84       703\n",
            "\n",
            "   micro avg       0.59      0.62      0.61      2149\n",
            "   macro avg       0.44      0.52      0.48      2149\n",
            "weighted avg       0.53      0.62      0.57      2149\n",
            "\n",
            "---------------\n"
          ]
        },
        {
          "output_type": "stream",
          "name": "stderr",
          "text": [
            "21023it [18:55, 11.65it/s]"
          ]
        },
        {
          "output_type": "stream",
          "name": "stdout",
          "text": [
            "              precision    recall  f1-score   support\n",
            "\n",
            "         LOC       0.57      0.76      0.65       697\n",
            "        MISC       0.00      0.00      0.00       290\n",
            "         ORG       0.41      0.46      0.43       694\n",
            "         PER       0.77      0.85      0.81       783\n",
            "\n",
            "   micro avg       0.59      0.62      0.60      2464\n",
            "   macro avg       0.44      0.52      0.47      2464\n",
            "weighted avg       0.52      0.62      0.56      2464\n",
            "\n",
            "---------------\n"
          ]
        },
        {
          "output_type": "stream",
          "name": "stderr",
          "text": [
            "25500it [22:56, 10.50it/s]"
          ]
        },
        {
          "output_type": "stream",
          "name": "stdout",
          "text": [
            "              precision    recall  f1-score   support\n",
            "\n",
            "         LOC       0.59      0.78      0.67       823\n",
            "        MISC       0.00      0.00      0.00       341\n",
            "         ORG       0.42      0.47      0.44       780\n",
            "         PER       0.75      0.84      0.79       866\n",
            "\n",
            "   micro avg       0.59      0.62      0.60      2810\n",
            "   macro avg       0.44      0.52      0.48      2810\n",
            "weighted avg       0.52      0.62      0.56      2810\n",
            "\n",
            "---------------\n"
          ]
        },
        {
          "output_type": "stream",
          "name": "stderr",
          "text": [
            "28029it [25:17, 11.81it/s]"
          ]
        },
        {
          "output_type": "stream",
          "name": "stdout",
          "text": [
            "              precision    recall  f1-score   support\n",
            "\n",
            "         LOC       0.59      0.78      0.67       891\n",
            "        MISC       0.00      0.00      0.00       356\n",
            "         ORG       0.39      0.47      0.43       820\n",
            "         PER       0.73      0.84      0.78       906\n",
            "\n",
            "   micro avg       0.57      0.62      0.60      2973\n",
            "   macro avg       0.43      0.52      0.47      2973\n",
            "weighted avg       0.51      0.62      0.56      2973\n",
            "\n",
            "---------------\n"
          ]
        },
        {
          "output_type": "stream",
          "name": "stderr",
          "text": [
            "31773it [28:44, 11.13it/s]"
          ]
        },
        {
          "output_type": "stream",
          "name": "stdout",
          "text": [
            "              precision    recall  f1-score   support\n",
            "\n",
            "         LOC       0.60      0.80      0.69      1021\n",
            "        MISC       0.00      0.00      0.00       433\n",
            "         ORG       0.39      0.49      0.43       901\n",
            "         PER       0.71      0.84      0.77       975\n",
            "\n",
            "   micro avg       0.57      0.62      0.60      3330\n",
            "   macro avg       0.43      0.53      0.47      3330\n",
            "weighted avg       0.50      0.62      0.55      3330\n",
            "\n",
            "---------------\n"
          ]
        },
        {
          "output_type": "stream",
          "name": "stderr",
          "text": [
            "35450it [32:01,  9.16it/s]"
          ]
        },
        {
          "output_type": "stream",
          "name": "stdout",
          "text": [
            "              precision    recall  f1-score   support\n",
            "\n",
            "         LOC       0.61      0.80      0.69      1117\n",
            "        MISC       0.00      0.00      0.00       509\n",
            "         ORG       0.39      0.49      0.43       953\n",
            "         PER       0.70      0.84      0.77      1014\n",
            "\n",
            "   micro avg       0.57      0.62      0.59      3593\n",
            "   macro avg       0.42      0.53      0.47      3593\n",
            "weighted avg       0.49      0.62      0.55      3593\n",
            "\n",
            "---------------\n"
          ]
        },
        {
          "output_type": "stream",
          "name": "stderr",
          "text": [
            "39381it [35:36,  8.72it/s]"
          ]
        },
        {
          "output_type": "stream",
          "name": "stdout",
          "text": [
            "              precision    recall  f1-score   support\n",
            "\n",
            "         LOC       0.62      0.81      0.70      1227\n",
            "        MISC       0.00      0.00      0.00       571\n",
            "         ORG       0.39      0.50      0.44      1061\n",
            "         PER       0.68      0.83      0.75      1088\n",
            "\n",
            "   micro avg       0.57      0.61      0.59      3947\n",
            "   macro avg       0.42      0.54      0.47      3947\n",
            "weighted avg       0.48      0.61      0.54      3947\n",
            "\n",
            "---------------\n"
          ]
        },
        {
          "output_type": "stream",
          "name": "stderr",
          "text": [
            "41187it [37:26,  6.54it/s]"
          ]
        },
        {
          "output_type": "stream",
          "name": "stdout",
          "text": [
            "              precision    recall  f1-score   support\n",
            "\n",
            "         LOC       0.65      0.82      0.72      1402\n",
            "        MISC       0.00      0.00      0.00       601\n",
            "         ORG       0.37      0.50      0.43      1066\n",
            "         PER       0.70      0.84      0.77      1246\n",
            "\n",
            "   micro avg       0.58      0.63      0.61      4315\n",
            "   macro avg       0.43      0.54      0.48      4315\n",
            "weighted avg       0.51      0.63      0.56      4315\n",
            "\n",
            "---------------\n"
          ]
        },
        {
          "output_type": "stream",
          "name": "stderr",
          "text": [
            "43418it [39:36,  7.33it/s]"
          ]
        },
        {
          "output_type": "stream",
          "name": "stdout",
          "text": [
            "              precision    recall  f1-score   support\n",
            "\n",
            "         LOC       0.66      0.83      0.73      1529\n",
            "        MISC       0.00      0.00      0.00       632\n",
            "         ORG       0.37      0.49      0.42      1106\n",
            "         PER       0.72      0.85      0.78      1412\n",
            "\n",
            "   micro avg       0.59      0.65      0.62      4679\n",
            "   macro avg       0.44      0.54      0.48      4679\n",
            "weighted avg       0.52      0.65      0.58      4679\n",
            "\n",
            "---------------\n"
          ]
        },
        {
          "output_type": "stream",
          "name": "stderr",
          "text": [
            "45098it [41:09,  8.76it/s]"
          ]
        },
        {
          "output_type": "stream",
          "name": "stdout",
          "text": [
            "              precision    recall  f1-score   support\n",
            "\n",
            "         LOC       0.63      0.83      0.72      1545\n",
            "        MISC       0.00      0.00      0.00       646\n",
            "         ORG       0.37      0.45      0.41      1265\n",
            "         PER       0.73      0.85      0.78      1452\n",
            "\n",
            "   micro avg       0.59      0.63      0.61      4908\n",
            "   macro avg       0.43      0.53      0.48      4908\n",
            "weighted avg       0.51      0.63      0.56      4908\n",
            "\n",
            "---------------\n"
          ]
        },
        {
          "output_type": "stream",
          "name": "stderr",
          "text": [
            "47451it [43:25,  4.88it/s]"
          ]
        },
        {
          "output_type": "stream",
          "name": "stdout",
          "text": [
            "              precision    recall  f1-score   support\n",
            "\n",
            "         LOC       0.60      0.83      0.70      1601\n",
            "        MISC       0.00      0.00      0.00       675\n",
            "         ORG       0.38      0.42      0.40      1454\n",
            "         PER       0.73      0.85      0.79      1570\n",
            "\n",
            "   micro avg       0.58      0.62      0.60      5300\n",
            "   macro avg       0.43      0.53      0.47      5300\n",
            "weighted avg       0.51      0.62      0.56      5300\n",
            "\n",
            "---------------\n"
          ]
        },
        {
          "output_type": "stream",
          "name": "stderr",
          "text": [
            "49067it [44:59,  8.04it/s]"
          ]
        },
        {
          "output_type": "stream",
          "name": "stdout",
          "text": [
            "              precision    recall  f1-score   support\n",
            "\n",
            "         LOC       0.59      0.82      0.68      1656\n",
            "        MISC       0.00      0.00      0.00       682\n",
            "         ORG       0.39      0.41      0.40      1614\n",
            "         PER       0.73      0.85      0.79      1600\n",
            "\n",
            "   micro avg       0.57      0.61      0.59      5552\n",
            "   macro avg       0.43      0.52      0.47      5552\n",
            "weighted avg       0.50      0.61      0.55      5552\n",
            "\n",
            "---------------\n"
          ]
        },
        {
          "output_type": "stream",
          "name": "stderr",
          "text": [
            "49888it [45:44, 18.18it/s]\n"
          ]
        },
        {
          "output_type": "stream",
          "name": "stdout",
          "text": [
            "              precision    recall  f1-score   support\n",
            "\n",
            "         LOC       0.58      0.82      0.68      1668\n",
            "        MISC       0.00      0.00      0.00       701\n",
            "         ORG       0.39      0.41      0.40      1660\n",
            "         PER       0.73      0.85      0.78      1617\n",
            "\n",
            "   micro avg       0.57      0.61      0.59      5646\n",
            "   macro avg       0.43      0.52      0.47      5646\n",
            "weighted avg       0.50      0.61      0.54      5646\n",
            "\n"
          ]
        }
      ]
    },
    {
      "cell_type": "code",
      "metadata": {
        "id": "89Oq0HZj3h0T"
      },
      "source": [
        ""
      ],
      "execution_count": null,
      "outputs": []
    }
  ]
}