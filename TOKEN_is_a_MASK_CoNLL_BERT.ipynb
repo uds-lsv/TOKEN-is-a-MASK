{
  "nbformat": 4,
  "nbformat_minor": 0,
  "metadata": {
    "colab": {
      "name": "TOKEN_is_a_MASK_CoNLL_BERT.ipynb",
      "provenance": [],
      "collapsed_sections": []
    },
    "kernelspec": {
      "name": "python3",
      "display_name": "Python 3"
    },
    "accelerator": "GPU",
    "widgets": {
      "application/vnd.jupyter.widget-state+json": {
        "c814bfa3fcb9406d88759c66309d5659": {
          "model_module": "@jupyter-widgets/controls",
          "model_name": "HBoxModel",
          "model_module_version": "1.5.0",
          "state": {
            "_dom_classes": [],
            "_model_module": "@jupyter-widgets/controls",
            "_model_module_version": "1.5.0",
            "_model_name": "HBoxModel",
            "_view_count": null,
            "_view_module": "@jupyter-widgets/controls",
            "_view_module_version": "1.5.0",
            "_view_name": "HBoxView",
            "box_style": "",
            "children": [
              "IPY_MODEL_ed3988f6e9f14fb4917a4e56ed240fcd",
              "IPY_MODEL_00ed220b392040128b30a8a14352be93",
              "IPY_MODEL_f6eee337e0cb4f39b1c493fecdcb3910"
            ],
            "layout": "IPY_MODEL_a3421685c52446438de5b08224fe7a20"
          }
        },
        "ed3988f6e9f14fb4917a4e56ed240fcd": {
          "model_module": "@jupyter-widgets/controls",
          "model_name": "HTMLModel",
          "model_module_version": "1.5.0",
          "state": {
            "_dom_classes": [],
            "_model_module": "@jupyter-widgets/controls",
            "_model_module_version": "1.5.0",
            "_model_name": "HTMLModel",
            "_view_count": null,
            "_view_module": "@jupyter-widgets/controls",
            "_view_module_version": "1.5.0",
            "_view_name": "HTMLView",
            "description": "",
            "description_tooltip": null,
            "layout": "IPY_MODEL_d61fcc3d50dc441d97898775664bcbdb",
            "placeholder": "​",
            "style": "IPY_MODEL_30d3af72a51646b6b754203d31b6c479",
            "value": "Downloading: 100%"
          }
        },
        "00ed220b392040128b30a8a14352be93": {
          "model_module": "@jupyter-widgets/controls",
          "model_name": "FloatProgressModel",
          "model_module_version": "1.5.0",
          "state": {
            "_dom_classes": [],
            "_model_module": "@jupyter-widgets/controls",
            "_model_module_version": "1.5.0",
            "_model_name": "FloatProgressModel",
            "_view_count": null,
            "_view_module": "@jupyter-widgets/controls",
            "_view_module_version": "1.5.0",
            "_view_name": "ProgressView",
            "bar_style": "success",
            "description": "",
            "description_tooltip": null,
            "layout": "IPY_MODEL_ef10878c1aa646c68d6443745f81435d",
            "max": 762,
            "min": 0,
            "orientation": "horizontal",
            "style": "IPY_MODEL_47f212c836874893b279f79084c31b0d",
            "value": 762
          }
        },
        "f6eee337e0cb4f39b1c493fecdcb3910": {
          "model_module": "@jupyter-widgets/controls",
          "model_name": "HTMLModel",
          "model_module_version": "1.5.0",
          "state": {
            "_dom_classes": [],
            "_model_module": "@jupyter-widgets/controls",
            "_model_module_version": "1.5.0",
            "_model_name": "HTMLModel",
            "_view_count": null,
            "_view_module": "@jupyter-widgets/controls",
            "_view_module_version": "1.5.0",
            "_view_name": "HTMLView",
            "description": "",
            "description_tooltip": null,
            "layout": "IPY_MODEL_07ea886955e347219d4c59754c73ee66",
            "placeholder": "​",
            "style": "IPY_MODEL_bb3fe6d4eaf4496eb07fafdd148987ff",
            "value": " 762/762 [00:00&lt;00:00, 3.37kB/s]"
          }
        },
        "a3421685c52446438de5b08224fe7a20": {
          "model_module": "@jupyter-widgets/base",
          "model_name": "LayoutModel",
          "model_module_version": "1.2.0",
          "state": {
            "_model_module": "@jupyter-widgets/base",
            "_model_module_version": "1.2.0",
            "_model_name": "LayoutModel",
            "_view_count": null,
            "_view_module": "@jupyter-widgets/base",
            "_view_module_version": "1.2.0",
            "_view_name": "LayoutView",
            "align_content": null,
            "align_items": null,
            "align_self": null,
            "border": null,
            "bottom": null,
            "display": null,
            "flex": null,
            "flex_flow": null,
            "grid_area": null,
            "grid_auto_columns": null,
            "grid_auto_flow": null,
            "grid_auto_rows": null,
            "grid_column": null,
            "grid_gap": null,
            "grid_row": null,
            "grid_template_areas": null,
            "grid_template_columns": null,
            "grid_template_rows": null,
            "height": null,
            "justify_content": null,
            "justify_items": null,
            "left": null,
            "margin": null,
            "max_height": null,
            "max_width": null,
            "min_height": null,
            "min_width": null,
            "object_fit": null,
            "object_position": null,
            "order": null,
            "overflow": null,
            "overflow_x": null,
            "overflow_y": null,
            "padding": null,
            "right": null,
            "top": null,
            "visibility": null,
            "width": null
          }
        },
        "d61fcc3d50dc441d97898775664bcbdb": {
          "model_module": "@jupyter-widgets/base",
          "model_name": "LayoutModel",
          "model_module_version": "1.2.0",
          "state": {
            "_model_module": "@jupyter-widgets/base",
            "_model_module_version": "1.2.0",
            "_model_name": "LayoutModel",
            "_view_count": null,
            "_view_module": "@jupyter-widgets/base",
            "_view_module_version": "1.2.0",
            "_view_name": "LayoutView",
            "align_content": null,
            "align_items": null,
            "align_self": null,
            "border": null,
            "bottom": null,
            "display": null,
            "flex": null,
            "flex_flow": null,
            "grid_area": null,
            "grid_auto_columns": null,
            "grid_auto_flow": null,
            "grid_auto_rows": null,
            "grid_column": null,
            "grid_gap": null,
            "grid_row": null,
            "grid_template_areas": null,
            "grid_template_columns": null,
            "grid_template_rows": null,
            "height": null,
            "justify_content": null,
            "justify_items": null,
            "left": null,
            "margin": null,
            "max_height": null,
            "max_width": null,
            "min_height": null,
            "min_width": null,
            "object_fit": null,
            "object_position": null,
            "order": null,
            "overflow": null,
            "overflow_x": null,
            "overflow_y": null,
            "padding": null,
            "right": null,
            "top": null,
            "visibility": null,
            "width": null
          }
        },
        "30d3af72a51646b6b754203d31b6c479": {
          "model_module": "@jupyter-widgets/controls",
          "model_name": "DescriptionStyleModel",
          "model_module_version": "1.5.0",
          "state": {
            "_model_module": "@jupyter-widgets/controls",
            "_model_module_version": "1.5.0",
            "_model_name": "DescriptionStyleModel",
            "_view_count": null,
            "_view_module": "@jupyter-widgets/base",
            "_view_module_version": "1.2.0",
            "_view_name": "StyleView",
            "description_width": ""
          }
        },
        "ef10878c1aa646c68d6443745f81435d": {
          "model_module": "@jupyter-widgets/base",
          "model_name": "LayoutModel",
          "model_module_version": "1.2.0",
          "state": {
            "_model_module": "@jupyter-widgets/base",
            "_model_module_version": "1.2.0",
            "_model_name": "LayoutModel",
            "_view_count": null,
            "_view_module": "@jupyter-widgets/base",
            "_view_module_version": "1.2.0",
            "_view_name": "LayoutView",
            "align_content": null,
            "align_items": null,
            "align_self": null,
            "border": null,
            "bottom": null,
            "display": null,
            "flex": null,
            "flex_flow": null,
            "grid_area": null,
            "grid_auto_columns": null,
            "grid_auto_flow": null,
            "grid_auto_rows": null,
            "grid_column": null,
            "grid_gap": null,
            "grid_row": null,
            "grid_template_areas": null,
            "grid_template_columns": null,
            "grid_template_rows": null,
            "height": null,
            "justify_content": null,
            "justify_items": null,
            "left": null,
            "margin": null,
            "max_height": null,
            "max_width": null,
            "min_height": null,
            "min_width": null,
            "object_fit": null,
            "object_position": null,
            "order": null,
            "overflow": null,
            "overflow_x": null,
            "overflow_y": null,
            "padding": null,
            "right": null,
            "top": null,
            "visibility": null,
            "width": null
          }
        },
        "47f212c836874893b279f79084c31b0d": {
          "model_module": "@jupyter-widgets/controls",
          "model_name": "ProgressStyleModel",
          "model_module_version": "1.5.0",
          "state": {
            "_model_module": "@jupyter-widgets/controls",
            "_model_module_version": "1.5.0",
            "_model_name": "ProgressStyleModel",
            "_view_count": null,
            "_view_module": "@jupyter-widgets/base",
            "_view_module_version": "1.2.0",
            "_view_name": "StyleView",
            "bar_color": null,
            "description_width": ""
          }
        },
        "07ea886955e347219d4c59754c73ee66": {
          "model_module": "@jupyter-widgets/base",
          "model_name": "LayoutModel",
          "model_module_version": "1.2.0",
          "state": {
            "_model_module": "@jupyter-widgets/base",
            "_model_module_version": "1.2.0",
            "_model_name": "LayoutModel",
            "_view_count": null,
            "_view_module": "@jupyter-widgets/base",
            "_view_module_version": "1.2.0",
            "_view_name": "LayoutView",
            "align_content": null,
            "align_items": null,
            "align_self": null,
            "border": null,
            "bottom": null,
            "display": null,
            "flex": null,
            "flex_flow": null,
            "grid_area": null,
            "grid_auto_columns": null,
            "grid_auto_flow": null,
            "grid_auto_rows": null,
            "grid_column": null,
            "grid_gap": null,
            "grid_row": null,
            "grid_template_areas": null,
            "grid_template_columns": null,
            "grid_template_rows": null,
            "height": null,
            "justify_content": null,
            "justify_items": null,
            "left": null,
            "margin": null,
            "max_height": null,
            "max_width": null,
            "min_height": null,
            "min_width": null,
            "object_fit": null,
            "object_position": null,
            "order": null,
            "overflow": null,
            "overflow_x": null,
            "overflow_y": null,
            "padding": null,
            "right": null,
            "top": null,
            "visibility": null,
            "width": null
          }
        },
        "bb3fe6d4eaf4496eb07fafdd148987ff": {
          "model_module": "@jupyter-widgets/controls",
          "model_name": "DescriptionStyleModel",
          "model_module_version": "1.5.0",
          "state": {
            "_model_module": "@jupyter-widgets/controls",
            "_model_module_version": "1.5.0",
            "_model_name": "DescriptionStyleModel",
            "_view_count": null,
            "_view_module": "@jupyter-widgets/base",
            "_view_module_version": "1.2.0",
            "_view_name": "StyleView",
            "description_width": ""
          }
        },
        "49b714b4e7b347b0b7e8ed41194e7f3b": {
          "model_module": "@jupyter-widgets/controls",
          "model_name": "HBoxModel",
          "model_module_version": "1.5.0",
          "state": {
            "_dom_classes": [],
            "_model_module": "@jupyter-widgets/controls",
            "_model_module_version": "1.5.0",
            "_model_name": "HBoxModel",
            "_view_count": null,
            "_view_module": "@jupyter-widgets/controls",
            "_view_module_version": "1.5.0",
            "_view_name": "HBoxView",
            "box_style": "",
            "children": [
              "IPY_MODEL_837b0cf18e3949f18e290093f4a86910",
              "IPY_MODEL_c0f8772c711e4cd4b224f91257537b88",
              "IPY_MODEL_0acf0c849dc4469c88e62af62718ccee"
            ],
            "layout": "IPY_MODEL_519fc7444b27489286af051daf12fa7f"
          }
        },
        "837b0cf18e3949f18e290093f4a86910": {
          "model_module": "@jupyter-widgets/controls",
          "model_name": "HTMLModel",
          "model_module_version": "1.5.0",
          "state": {
            "_dom_classes": [],
            "_model_module": "@jupyter-widgets/controls",
            "_model_module_version": "1.5.0",
            "_model_name": "HTMLModel",
            "_view_count": null,
            "_view_module": "@jupyter-widgets/controls",
            "_view_module_version": "1.5.0",
            "_view_name": "HTMLView",
            "description": "",
            "description_tooltip": null,
            "layout": "IPY_MODEL_6f4e08574024470e87f60f6fbb7f6a8d",
            "placeholder": "​",
            "style": "IPY_MODEL_10fd1c16c4a34e26840e7466ec93b695",
            "value": "Downloading: 100%"
          }
        },
        "c0f8772c711e4cd4b224f91257537b88": {
          "model_module": "@jupyter-widgets/controls",
          "model_name": "FloatProgressModel",
          "model_module_version": "1.5.0",
          "state": {
            "_dom_classes": [],
            "_model_module": "@jupyter-widgets/controls",
            "_model_module_version": "1.5.0",
            "_model_name": "FloatProgressModel",
            "_view_count": null,
            "_view_module": "@jupyter-widgets/controls",
            "_view_module_version": "1.5.0",
            "_view_name": "ProgressView",
            "bar_style": "success",
            "description": "",
            "description_tooltip": null,
            "layout": "IPY_MODEL_a5d13b2f96d14917a546359bdebed376",
            "max": 1338740706,
            "min": 0,
            "orientation": "horizontal",
            "style": "IPY_MODEL_568116efaae949e69eb39a383b14c7b2",
            "value": 1338740706
          }
        },
        "0acf0c849dc4469c88e62af62718ccee": {
          "model_module": "@jupyter-widgets/controls",
          "model_name": "HTMLModel",
          "model_module_version": "1.5.0",
          "state": {
            "_dom_classes": [],
            "_model_module": "@jupyter-widgets/controls",
            "_model_module_version": "1.5.0",
            "_model_name": "HTMLModel",
            "_view_count": null,
            "_view_module": "@jupyter-widgets/controls",
            "_view_module_version": "1.5.0",
            "_view_name": "HTMLView",
            "description": "",
            "description_tooltip": null,
            "layout": "IPY_MODEL_ca5d631cf6b840bc8d1d1b73fbbc230f",
            "placeholder": "​",
            "style": "IPY_MODEL_53197154a8994841a3f091bf3cc3cba4",
            "value": " 1.25G/1.25G [00:22&lt;00:00, 57.9MB/s]"
          }
        },
        "519fc7444b27489286af051daf12fa7f": {
          "model_module": "@jupyter-widgets/base",
          "model_name": "LayoutModel",
          "model_module_version": "1.2.0",
          "state": {
            "_model_module": "@jupyter-widgets/base",
            "_model_module_version": "1.2.0",
            "_model_name": "LayoutModel",
            "_view_count": null,
            "_view_module": "@jupyter-widgets/base",
            "_view_module_version": "1.2.0",
            "_view_name": "LayoutView",
            "align_content": null,
            "align_items": null,
            "align_self": null,
            "border": null,
            "bottom": null,
            "display": null,
            "flex": null,
            "flex_flow": null,
            "grid_area": null,
            "grid_auto_columns": null,
            "grid_auto_flow": null,
            "grid_auto_rows": null,
            "grid_column": null,
            "grid_gap": null,
            "grid_row": null,
            "grid_template_areas": null,
            "grid_template_columns": null,
            "grid_template_rows": null,
            "height": null,
            "justify_content": null,
            "justify_items": null,
            "left": null,
            "margin": null,
            "max_height": null,
            "max_width": null,
            "min_height": null,
            "min_width": null,
            "object_fit": null,
            "object_position": null,
            "order": null,
            "overflow": null,
            "overflow_x": null,
            "overflow_y": null,
            "padding": null,
            "right": null,
            "top": null,
            "visibility": null,
            "width": null
          }
        },
        "6f4e08574024470e87f60f6fbb7f6a8d": {
          "model_module": "@jupyter-widgets/base",
          "model_name": "LayoutModel",
          "model_module_version": "1.2.0",
          "state": {
            "_model_module": "@jupyter-widgets/base",
            "_model_module_version": "1.2.0",
            "_model_name": "LayoutModel",
            "_view_count": null,
            "_view_module": "@jupyter-widgets/base",
            "_view_module_version": "1.2.0",
            "_view_name": "LayoutView",
            "align_content": null,
            "align_items": null,
            "align_self": null,
            "border": null,
            "bottom": null,
            "display": null,
            "flex": null,
            "flex_flow": null,
            "grid_area": null,
            "grid_auto_columns": null,
            "grid_auto_flow": null,
            "grid_auto_rows": null,
            "grid_column": null,
            "grid_gap": null,
            "grid_row": null,
            "grid_template_areas": null,
            "grid_template_columns": null,
            "grid_template_rows": null,
            "height": null,
            "justify_content": null,
            "justify_items": null,
            "left": null,
            "margin": null,
            "max_height": null,
            "max_width": null,
            "min_height": null,
            "min_width": null,
            "object_fit": null,
            "object_position": null,
            "order": null,
            "overflow": null,
            "overflow_x": null,
            "overflow_y": null,
            "padding": null,
            "right": null,
            "top": null,
            "visibility": null,
            "width": null
          }
        },
        "10fd1c16c4a34e26840e7466ec93b695": {
          "model_module": "@jupyter-widgets/controls",
          "model_name": "DescriptionStyleModel",
          "model_module_version": "1.5.0",
          "state": {
            "_model_module": "@jupyter-widgets/controls",
            "_model_module_version": "1.5.0",
            "_model_name": "DescriptionStyleModel",
            "_view_count": null,
            "_view_module": "@jupyter-widgets/base",
            "_view_module_version": "1.2.0",
            "_view_name": "StyleView",
            "description_width": ""
          }
        },
        "a5d13b2f96d14917a546359bdebed376": {
          "model_module": "@jupyter-widgets/base",
          "model_name": "LayoutModel",
          "model_module_version": "1.2.0",
          "state": {
            "_model_module": "@jupyter-widgets/base",
            "_model_module_version": "1.2.0",
            "_model_name": "LayoutModel",
            "_view_count": null,
            "_view_module": "@jupyter-widgets/base",
            "_view_module_version": "1.2.0",
            "_view_name": "LayoutView",
            "align_content": null,
            "align_items": null,
            "align_self": null,
            "border": null,
            "bottom": null,
            "display": null,
            "flex": null,
            "flex_flow": null,
            "grid_area": null,
            "grid_auto_columns": null,
            "grid_auto_flow": null,
            "grid_auto_rows": null,
            "grid_column": null,
            "grid_gap": null,
            "grid_row": null,
            "grid_template_areas": null,
            "grid_template_columns": null,
            "grid_template_rows": null,
            "height": null,
            "justify_content": null,
            "justify_items": null,
            "left": null,
            "margin": null,
            "max_height": null,
            "max_width": null,
            "min_height": null,
            "min_width": null,
            "object_fit": null,
            "object_position": null,
            "order": null,
            "overflow": null,
            "overflow_x": null,
            "overflow_y": null,
            "padding": null,
            "right": null,
            "top": null,
            "visibility": null,
            "width": null
          }
        },
        "568116efaae949e69eb39a383b14c7b2": {
          "model_module": "@jupyter-widgets/controls",
          "model_name": "ProgressStyleModel",
          "model_module_version": "1.5.0",
          "state": {
            "_model_module": "@jupyter-widgets/controls",
            "_model_module_version": "1.5.0",
            "_model_name": "ProgressStyleModel",
            "_view_count": null,
            "_view_module": "@jupyter-widgets/base",
            "_view_module_version": "1.2.0",
            "_view_name": "StyleView",
            "bar_color": null,
            "description_width": ""
          }
        },
        "ca5d631cf6b840bc8d1d1b73fbbc230f": {
          "model_module": "@jupyter-widgets/base",
          "model_name": "LayoutModel",
          "model_module_version": "1.2.0",
          "state": {
            "_model_module": "@jupyter-widgets/base",
            "_model_module_version": "1.2.0",
            "_model_name": "LayoutModel",
            "_view_count": null,
            "_view_module": "@jupyter-widgets/base",
            "_view_module_version": "1.2.0",
            "_view_name": "LayoutView",
            "align_content": null,
            "align_items": null,
            "align_self": null,
            "border": null,
            "bottom": null,
            "display": null,
            "flex": null,
            "flex_flow": null,
            "grid_area": null,
            "grid_auto_columns": null,
            "grid_auto_flow": null,
            "grid_auto_rows": null,
            "grid_column": null,
            "grid_gap": null,
            "grid_row": null,
            "grid_template_areas": null,
            "grid_template_columns": null,
            "grid_template_rows": null,
            "height": null,
            "justify_content": null,
            "justify_items": null,
            "left": null,
            "margin": null,
            "max_height": null,
            "max_width": null,
            "min_height": null,
            "min_width": null,
            "object_fit": null,
            "object_position": null,
            "order": null,
            "overflow": null,
            "overflow_x": null,
            "overflow_y": null,
            "padding": null,
            "right": null,
            "top": null,
            "visibility": null,
            "width": null
          }
        },
        "53197154a8994841a3f091bf3cc3cba4": {
          "model_module": "@jupyter-widgets/controls",
          "model_name": "DescriptionStyleModel",
          "model_module_version": "1.5.0",
          "state": {
            "_model_module": "@jupyter-widgets/controls",
            "_model_module_version": "1.5.0",
            "_model_name": "DescriptionStyleModel",
            "_view_count": null,
            "_view_module": "@jupyter-widgets/base",
            "_view_module_version": "1.2.0",
            "_view_name": "StyleView",
            "description_width": ""
          }
        },
        "10a566d239184f4f94e1a83fa2268d02": {
          "model_module": "@jupyter-widgets/controls",
          "model_name": "HBoxModel",
          "model_module_version": "1.5.0",
          "state": {
            "_dom_classes": [],
            "_model_module": "@jupyter-widgets/controls",
            "_model_module_version": "1.5.0",
            "_model_name": "HBoxModel",
            "_view_count": null,
            "_view_module": "@jupyter-widgets/controls",
            "_view_module_version": "1.5.0",
            "_view_name": "HBoxView",
            "box_style": "",
            "children": [
              "IPY_MODEL_b490f426afeb4781a319acf85820415e",
              "IPY_MODEL_3699cd1472c14cb9a0ec4bab9f69fb1e",
              "IPY_MODEL_b3146dcc4f9f442885b43054c7fcdffe"
            ],
            "layout": "IPY_MODEL_0990ebdf07ab44759861efdc313de0b5"
          }
        },
        "b490f426afeb4781a319acf85820415e": {
          "model_module": "@jupyter-widgets/controls",
          "model_name": "HTMLModel",
          "model_module_version": "1.5.0",
          "state": {
            "_dom_classes": [],
            "_model_module": "@jupyter-widgets/controls",
            "_model_module_version": "1.5.0",
            "_model_name": "HTMLModel",
            "_view_count": null,
            "_view_module": "@jupyter-widgets/controls",
            "_view_module_version": "1.5.0",
            "_view_name": "HTMLView",
            "description": "",
            "description_tooltip": null,
            "layout": "IPY_MODEL_bf9b6e0396df4ee68dbb042f964faa69",
            "placeholder": "​",
            "style": "IPY_MODEL_14e16487c3f944c0baa8ce96a093b41b",
            "value": "Downloading: 100%"
          }
        },
        "3699cd1472c14cb9a0ec4bab9f69fb1e": {
          "model_module": "@jupyter-widgets/controls",
          "model_name": "FloatProgressModel",
          "model_module_version": "1.5.0",
          "state": {
            "_dom_classes": [],
            "_model_module": "@jupyter-widgets/controls",
            "_model_module_version": "1.5.0",
            "_model_name": "FloatProgressModel",
            "_view_count": null,
            "_view_module": "@jupyter-widgets/controls",
            "_view_module_version": "1.5.0",
            "_view_name": "ProgressView",
            "bar_style": "success",
            "description": "",
            "description_tooltip": null,
            "layout": "IPY_MODEL_686ba3d83bb04d04ba90fd3c89838f5e",
            "max": 213450,
            "min": 0,
            "orientation": "horizontal",
            "style": "IPY_MODEL_1936b964ac454177b9681422a69a66b0",
            "value": 213450
          }
        },
        "b3146dcc4f9f442885b43054c7fcdffe": {
          "model_module": "@jupyter-widgets/controls",
          "model_name": "HTMLModel",
          "model_module_version": "1.5.0",
          "state": {
            "_dom_classes": [],
            "_model_module": "@jupyter-widgets/controls",
            "_model_module_version": "1.5.0",
            "_model_name": "HTMLModel",
            "_view_count": null,
            "_view_module": "@jupyter-widgets/controls",
            "_view_module_version": "1.5.0",
            "_view_name": "HTMLView",
            "description": "",
            "description_tooltip": null,
            "layout": "IPY_MODEL_fc363b75d3c244919d64136107d7eb92",
            "placeholder": "​",
            "style": "IPY_MODEL_b08aa66a1f954ad281d80e6776e89400",
            "value": " 208k/208k [00:00&lt;00:00, 1.31MB/s]"
          }
        },
        "0990ebdf07ab44759861efdc313de0b5": {
          "model_module": "@jupyter-widgets/base",
          "model_name": "LayoutModel",
          "model_module_version": "1.2.0",
          "state": {
            "_model_module": "@jupyter-widgets/base",
            "_model_module_version": "1.2.0",
            "_model_name": "LayoutModel",
            "_view_count": null,
            "_view_module": "@jupyter-widgets/base",
            "_view_module_version": "1.2.0",
            "_view_name": "LayoutView",
            "align_content": null,
            "align_items": null,
            "align_self": null,
            "border": null,
            "bottom": null,
            "display": null,
            "flex": null,
            "flex_flow": null,
            "grid_area": null,
            "grid_auto_columns": null,
            "grid_auto_flow": null,
            "grid_auto_rows": null,
            "grid_column": null,
            "grid_gap": null,
            "grid_row": null,
            "grid_template_areas": null,
            "grid_template_columns": null,
            "grid_template_rows": null,
            "height": null,
            "justify_content": null,
            "justify_items": null,
            "left": null,
            "margin": null,
            "max_height": null,
            "max_width": null,
            "min_height": null,
            "min_width": null,
            "object_fit": null,
            "object_position": null,
            "order": null,
            "overflow": null,
            "overflow_x": null,
            "overflow_y": null,
            "padding": null,
            "right": null,
            "top": null,
            "visibility": null,
            "width": null
          }
        },
        "bf9b6e0396df4ee68dbb042f964faa69": {
          "model_module": "@jupyter-widgets/base",
          "model_name": "LayoutModel",
          "model_module_version": "1.2.0",
          "state": {
            "_model_module": "@jupyter-widgets/base",
            "_model_module_version": "1.2.0",
            "_model_name": "LayoutModel",
            "_view_count": null,
            "_view_module": "@jupyter-widgets/base",
            "_view_module_version": "1.2.0",
            "_view_name": "LayoutView",
            "align_content": null,
            "align_items": null,
            "align_self": null,
            "border": null,
            "bottom": null,
            "display": null,
            "flex": null,
            "flex_flow": null,
            "grid_area": null,
            "grid_auto_columns": null,
            "grid_auto_flow": null,
            "grid_auto_rows": null,
            "grid_column": null,
            "grid_gap": null,
            "grid_row": null,
            "grid_template_areas": null,
            "grid_template_columns": null,
            "grid_template_rows": null,
            "height": null,
            "justify_content": null,
            "justify_items": null,
            "left": null,
            "margin": null,
            "max_height": null,
            "max_width": null,
            "min_height": null,
            "min_width": null,
            "object_fit": null,
            "object_position": null,
            "order": null,
            "overflow": null,
            "overflow_x": null,
            "overflow_y": null,
            "padding": null,
            "right": null,
            "top": null,
            "visibility": null,
            "width": null
          }
        },
        "14e16487c3f944c0baa8ce96a093b41b": {
          "model_module": "@jupyter-widgets/controls",
          "model_name": "DescriptionStyleModel",
          "model_module_version": "1.5.0",
          "state": {
            "_model_module": "@jupyter-widgets/controls",
            "_model_module_version": "1.5.0",
            "_model_name": "DescriptionStyleModel",
            "_view_count": null,
            "_view_module": "@jupyter-widgets/base",
            "_view_module_version": "1.2.0",
            "_view_name": "StyleView",
            "description_width": ""
          }
        },
        "686ba3d83bb04d04ba90fd3c89838f5e": {
          "model_module": "@jupyter-widgets/base",
          "model_name": "LayoutModel",
          "model_module_version": "1.2.0",
          "state": {
            "_model_module": "@jupyter-widgets/base",
            "_model_module_version": "1.2.0",
            "_model_name": "LayoutModel",
            "_view_count": null,
            "_view_module": "@jupyter-widgets/base",
            "_view_module_version": "1.2.0",
            "_view_name": "LayoutView",
            "align_content": null,
            "align_items": null,
            "align_self": null,
            "border": null,
            "bottom": null,
            "display": null,
            "flex": null,
            "flex_flow": null,
            "grid_area": null,
            "grid_auto_columns": null,
            "grid_auto_flow": null,
            "grid_auto_rows": null,
            "grid_column": null,
            "grid_gap": null,
            "grid_row": null,
            "grid_template_areas": null,
            "grid_template_columns": null,
            "grid_template_rows": null,
            "height": null,
            "justify_content": null,
            "justify_items": null,
            "left": null,
            "margin": null,
            "max_height": null,
            "max_width": null,
            "min_height": null,
            "min_width": null,
            "object_fit": null,
            "object_position": null,
            "order": null,
            "overflow": null,
            "overflow_x": null,
            "overflow_y": null,
            "padding": null,
            "right": null,
            "top": null,
            "visibility": null,
            "width": null
          }
        },
        "1936b964ac454177b9681422a69a66b0": {
          "model_module": "@jupyter-widgets/controls",
          "model_name": "ProgressStyleModel",
          "model_module_version": "1.5.0",
          "state": {
            "_model_module": "@jupyter-widgets/controls",
            "_model_module_version": "1.5.0",
            "_model_name": "ProgressStyleModel",
            "_view_count": null,
            "_view_module": "@jupyter-widgets/base",
            "_view_module_version": "1.2.0",
            "_view_name": "StyleView",
            "bar_color": null,
            "description_width": ""
          }
        },
        "fc363b75d3c244919d64136107d7eb92": {
          "model_module": "@jupyter-widgets/base",
          "model_name": "LayoutModel",
          "model_module_version": "1.2.0",
          "state": {
            "_model_module": "@jupyter-widgets/base",
            "_model_module_version": "1.2.0",
            "_model_name": "LayoutModel",
            "_view_count": null,
            "_view_module": "@jupyter-widgets/base",
            "_view_module_version": "1.2.0",
            "_view_name": "LayoutView",
            "align_content": null,
            "align_items": null,
            "align_self": null,
            "border": null,
            "bottom": null,
            "display": null,
            "flex": null,
            "flex_flow": null,
            "grid_area": null,
            "grid_auto_columns": null,
            "grid_auto_flow": null,
            "grid_auto_rows": null,
            "grid_column": null,
            "grid_gap": null,
            "grid_row": null,
            "grid_template_areas": null,
            "grid_template_columns": null,
            "grid_template_rows": null,
            "height": null,
            "justify_content": null,
            "justify_items": null,
            "left": null,
            "margin": null,
            "max_height": null,
            "max_width": null,
            "min_height": null,
            "min_width": null,
            "object_fit": null,
            "object_position": null,
            "order": null,
            "overflow": null,
            "overflow_x": null,
            "overflow_y": null,
            "padding": null,
            "right": null,
            "top": null,
            "visibility": null,
            "width": null
          }
        },
        "b08aa66a1f954ad281d80e6776e89400": {
          "model_module": "@jupyter-widgets/controls",
          "model_name": "DescriptionStyleModel",
          "model_module_version": "1.5.0",
          "state": {
            "_model_module": "@jupyter-widgets/controls",
            "_model_module_version": "1.5.0",
            "_model_name": "DescriptionStyleModel",
            "_view_count": null,
            "_view_module": "@jupyter-widgets/base",
            "_view_module_version": "1.2.0",
            "_view_name": "StyleView",
            "description_width": ""
          }
        },
        "78815e2d8a6940f7b2484678b2cd25b1": {
          "model_module": "@jupyter-widgets/controls",
          "model_name": "HBoxModel",
          "model_module_version": "1.5.0",
          "state": {
            "_dom_classes": [],
            "_model_module": "@jupyter-widgets/controls",
            "_model_module_version": "1.5.0",
            "_model_name": "HBoxModel",
            "_view_count": null,
            "_view_module": "@jupyter-widgets/controls",
            "_view_module_version": "1.5.0",
            "_view_name": "HBoxView",
            "box_style": "",
            "children": [
              "IPY_MODEL_480c1af01a8a493d87d4d9fb06fbea54",
              "IPY_MODEL_0eaa3081b85142339f66f5d7077f2e43",
              "IPY_MODEL_7529ce1185b2429aa7469dde9c5d6c9c"
            ],
            "layout": "IPY_MODEL_62015ef263d34f9b826479f15c8b7aac"
          }
        },
        "480c1af01a8a493d87d4d9fb06fbea54": {
          "model_module": "@jupyter-widgets/controls",
          "model_name": "HTMLModel",
          "model_module_version": "1.5.0",
          "state": {
            "_dom_classes": [],
            "_model_module": "@jupyter-widgets/controls",
            "_model_module_version": "1.5.0",
            "_model_name": "HTMLModel",
            "_view_count": null,
            "_view_module": "@jupyter-widgets/controls",
            "_view_module_version": "1.5.0",
            "_view_name": "HTMLView",
            "description": "",
            "description_tooltip": null,
            "layout": "IPY_MODEL_bf8ddd0e93b44fbc8fc7bd0b55d2f974",
            "placeholder": "​",
            "style": "IPY_MODEL_84807ab171614565a231f1f5f11dfa9c",
            "value": "Downloading: 100%"
          }
        },
        "0eaa3081b85142339f66f5d7077f2e43": {
          "model_module": "@jupyter-widgets/controls",
          "model_name": "FloatProgressModel",
          "model_module_version": "1.5.0",
          "state": {
            "_dom_classes": [],
            "_model_module": "@jupyter-widgets/controls",
            "_model_module_version": "1.5.0",
            "_model_name": "FloatProgressModel",
            "_view_count": null,
            "_view_module": "@jupyter-widgets/controls",
            "_view_module_version": "1.5.0",
            "_view_name": "ProgressView",
            "bar_style": "success",
            "description": "",
            "description_tooltip": null,
            "layout": "IPY_MODEL_dacc6e27720c4c4cad3d4574ca447259",
            "max": 29,
            "min": 0,
            "orientation": "horizontal",
            "style": "IPY_MODEL_15e7fa4b50d746a69459b954f845a329",
            "value": 29
          }
        },
        "7529ce1185b2429aa7469dde9c5d6c9c": {
          "model_module": "@jupyter-widgets/controls",
          "model_name": "HTMLModel",
          "model_module_version": "1.5.0",
          "state": {
            "_dom_classes": [],
            "_model_module": "@jupyter-widgets/controls",
            "_model_module_version": "1.5.0",
            "_model_name": "HTMLModel",
            "_view_count": null,
            "_view_module": "@jupyter-widgets/controls",
            "_view_module_version": "1.5.0",
            "_view_name": "HTMLView",
            "description": "",
            "description_tooltip": null,
            "layout": "IPY_MODEL_beb4773e457f4fcf8b6c5a6f22a00dfe",
            "placeholder": "​",
            "style": "IPY_MODEL_b5d0e439f25c4b4ea946039ff6c76208",
            "value": " 29.0/29.0 [00:00&lt;00:00, 94.7B/s]"
          }
        },
        "62015ef263d34f9b826479f15c8b7aac": {
          "model_module": "@jupyter-widgets/base",
          "model_name": "LayoutModel",
          "model_module_version": "1.2.0",
          "state": {
            "_model_module": "@jupyter-widgets/base",
            "_model_module_version": "1.2.0",
            "_model_name": "LayoutModel",
            "_view_count": null,
            "_view_module": "@jupyter-widgets/base",
            "_view_module_version": "1.2.0",
            "_view_name": "LayoutView",
            "align_content": null,
            "align_items": null,
            "align_self": null,
            "border": null,
            "bottom": null,
            "display": null,
            "flex": null,
            "flex_flow": null,
            "grid_area": null,
            "grid_auto_columns": null,
            "grid_auto_flow": null,
            "grid_auto_rows": null,
            "grid_column": null,
            "grid_gap": null,
            "grid_row": null,
            "grid_template_areas": null,
            "grid_template_columns": null,
            "grid_template_rows": null,
            "height": null,
            "justify_content": null,
            "justify_items": null,
            "left": null,
            "margin": null,
            "max_height": null,
            "max_width": null,
            "min_height": null,
            "min_width": null,
            "object_fit": null,
            "object_position": null,
            "order": null,
            "overflow": null,
            "overflow_x": null,
            "overflow_y": null,
            "padding": null,
            "right": null,
            "top": null,
            "visibility": null,
            "width": null
          }
        },
        "bf8ddd0e93b44fbc8fc7bd0b55d2f974": {
          "model_module": "@jupyter-widgets/base",
          "model_name": "LayoutModel",
          "model_module_version": "1.2.0",
          "state": {
            "_model_module": "@jupyter-widgets/base",
            "_model_module_version": "1.2.0",
            "_model_name": "LayoutModel",
            "_view_count": null,
            "_view_module": "@jupyter-widgets/base",
            "_view_module_version": "1.2.0",
            "_view_name": "LayoutView",
            "align_content": null,
            "align_items": null,
            "align_self": null,
            "border": null,
            "bottom": null,
            "display": null,
            "flex": null,
            "flex_flow": null,
            "grid_area": null,
            "grid_auto_columns": null,
            "grid_auto_flow": null,
            "grid_auto_rows": null,
            "grid_column": null,
            "grid_gap": null,
            "grid_row": null,
            "grid_template_areas": null,
            "grid_template_columns": null,
            "grid_template_rows": null,
            "height": null,
            "justify_content": null,
            "justify_items": null,
            "left": null,
            "margin": null,
            "max_height": null,
            "max_width": null,
            "min_height": null,
            "min_width": null,
            "object_fit": null,
            "object_position": null,
            "order": null,
            "overflow": null,
            "overflow_x": null,
            "overflow_y": null,
            "padding": null,
            "right": null,
            "top": null,
            "visibility": null,
            "width": null
          }
        },
        "84807ab171614565a231f1f5f11dfa9c": {
          "model_module": "@jupyter-widgets/controls",
          "model_name": "DescriptionStyleModel",
          "model_module_version": "1.5.0",
          "state": {
            "_model_module": "@jupyter-widgets/controls",
            "_model_module_version": "1.5.0",
            "_model_name": "DescriptionStyleModel",
            "_view_count": null,
            "_view_module": "@jupyter-widgets/base",
            "_view_module_version": "1.2.0",
            "_view_name": "StyleView",
            "description_width": ""
          }
        },
        "dacc6e27720c4c4cad3d4574ca447259": {
          "model_module": "@jupyter-widgets/base",
          "model_name": "LayoutModel",
          "model_module_version": "1.2.0",
          "state": {
            "_model_module": "@jupyter-widgets/base",
            "_model_module_version": "1.2.0",
            "_model_name": "LayoutModel",
            "_view_count": null,
            "_view_module": "@jupyter-widgets/base",
            "_view_module_version": "1.2.0",
            "_view_name": "LayoutView",
            "align_content": null,
            "align_items": null,
            "align_self": null,
            "border": null,
            "bottom": null,
            "display": null,
            "flex": null,
            "flex_flow": null,
            "grid_area": null,
            "grid_auto_columns": null,
            "grid_auto_flow": null,
            "grid_auto_rows": null,
            "grid_column": null,
            "grid_gap": null,
            "grid_row": null,
            "grid_template_areas": null,
            "grid_template_columns": null,
            "grid_template_rows": null,
            "height": null,
            "justify_content": null,
            "justify_items": null,
            "left": null,
            "margin": null,
            "max_height": null,
            "max_width": null,
            "min_height": null,
            "min_width": null,
            "object_fit": null,
            "object_position": null,
            "order": null,
            "overflow": null,
            "overflow_x": null,
            "overflow_y": null,
            "padding": null,
            "right": null,
            "top": null,
            "visibility": null,
            "width": null
          }
        },
        "15e7fa4b50d746a69459b954f845a329": {
          "model_module": "@jupyter-widgets/controls",
          "model_name": "ProgressStyleModel",
          "model_module_version": "1.5.0",
          "state": {
            "_model_module": "@jupyter-widgets/controls",
            "_model_module_version": "1.5.0",
            "_model_name": "ProgressStyleModel",
            "_view_count": null,
            "_view_module": "@jupyter-widgets/base",
            "_view_module_version": "1.2.0",
            "_view_name": "StyleView",
            "bar_color": null,
            "description_width": ""
          }
        },
        "beb4773e457f4fcf8b6c5a6f22a00dfe": {
          "model_module": "@jupyter-widgets/base",
          "model_name": "LayoutModel",
          "model_module_version": "1.2.0",
          "state": {
            "_model_module": "@jupyter-widgets/base",
            "_model_module_version": "1.2.0",
            "_model_name": "LayoutModel",
            "_view_count": null,
            "_view_module": "@jupyter-widgets/base",
            "_view_module_version": "1.2.0",
            "_view_name": "LayoutView",
            "align_content": null,
            "align_items": null,
            "align_self": null,
            "border": null,
            "bottom": null,
            "display": null,
            "flex": null,
            "flex_flow": null,
            "grid_area": null,
            "grid_auto_columns": null,
            "grid_auto_flow": null,
            "grid_auto_rows": null,
            "grid_column": null,
            "grid_gap": null,
            "grid_row": null,
            "grid_template_areas": null,
            "grid_template_columns": null,
            "grid_template_rows": null,
            "height": null,
            "justify_content": null,
            "justify_items": null,
            "left": null,
            "margin": null,
            "max_height": null,
            "max_width": null,
            "min_height": null,
            "min_width": null,
            "object_fit": null,
            "object_position": null,
            "order": null,
            "overflow": null,
            "overflow_x": null,
            "overflow_y": null,
            "padding": null,
            "right": null,
            "top": null,
            "visibility": null,
            "width": null
          }
        },
        "b5d0e439f25c4b4ea946039ff6c76208": {
          "model_module": "@jupyter-widgets/controls",
          "model_name": "DescriptionStyleModel",
          "model_module_version": "1.5.0",
          "state": {
            "_model_module": "@jupyter-widgets/controls",
            "_model_module_version": "1.5.0",
            "_model_name": "DescriptionStyleModel",
            "_view_count": null,
            "_view_module": "@jupyter-widgets/base",
            "_view_module_version": "1.2.0",
            "_view_name": "StyleView",
            "description_width": ""
          }
        }
      }
    }
  },
  "cells": [
    {
      "cell_type": "code",
      "metadata": {
        "id": "qy8Eg4hEG38H",
        "colab": {
          "base_uri": "https://localhost:8080/"
        },
        "outputId": "b5b28312-4ae5-46c3-e1a2-7ad6a31e2098"
      },
      "source": [
        "!nvidia-smi --query-gpu=gpu_name,driver_version,memory.total --format=csv\n",
        "from tensorflow.python.client import device_lib\n",
        "device_lib.list_local_devices()"
      ],
      "execution_count": 2,
      "outputs": [
        {
          "output_type": "stream",
          "name": "stdout",
          "text": [
            "name, driver_version, memory.total [MiB]\n",
            "Tesla T4, 460.32.03, 15109 MiB\n"
          ]
        },
        {
          "output_type": "execute_result",
          "data": {
            "text/plain": [
              "[name: \"/device:CPU:0\"\n",
              " device_type: \"CPU\"\n",
              " memory_limit: 268435456\n",
              " locality {\n",
              " }\n",
              " incarnation: 16126422953189769242\n",
              " xla_global_id: -1, name: \"/device:GPU:0\"\n",
              " device_type: \"GPU\"\n",
              " memory_limit: 14444920832\n",
              " locality {\n",
              "   bus_id: 1\n",
              "   links {\n",
              "   }\n",
              " }\n",
              " incarnation: 12504686717289243894\n",
              " physical_device_desc: \"device: 0, name: Tesla T4, pci bus id: 0000:00:04.0, compute capability: 7.5\"\n",
              " xla_global_id: 416903419]"
            ]
          },
          "metadata": {},
          "execution_count": 2
        }
      ]
    },
    {
      "cell_type": "code",
      "metadata": {
        "id": "WtWVKZdVHSg0",
        "colab": {
          "base_uri": "https://localhost:8080/"
        },
        "outputId": "6bfde371-d843-4fb8-d6cd-9e1e534f32a6"
      },
      "source": [
        "!pip install -q datasets\n",
        "!pip install -q  transformers\n",
        "!pip install -q seqeval[cpu]\n",
        "!pip install -q -U spacy\n",
        "!python -q -m spacy download en_core_web_sm\n",
        "#!pip install -q allennlp==1.0.0 allennlp-models==1.0.0\n",
        "#!pip install -q gensim"
      ],
      "execution_count": 3,
      "outputs": [
        {
          "output_type": "stream",
          "name": "stdout",
          "text": [
            "\u001b[K     |████████████████████████████████| 365 kB 4.9 MB/s \n",
            "\u001b[K     |████████████████████████████████| 212 kB 58.4 MB/s \n",
            "\u001b[K     |████████████████████████████████| 1.1 MB 56.5 MB/s \n",
            "\u001b[K     |████████████████████████████████| 140 kB 71.2 MB/s \n",
            "\u001b[K     |████████████████████████████████| 101 kB 8.8 MB/s \n",
            "\u001b[K     |████████████████████████████████| 596 kB 61.6 MB/s \n",
            "\u001b[K     |████████████████████████████████| 127 kB 35.3 MB/s \n",
            "\u001b[K     |████████████████████████████████| 271 kB 71.4 MB/s \n",
            "\u001b[K     |████████████████████████████████| 144 kB 64.9 MB/s \n",
            "\u001b[K     |████████████████████████████████| 94 kB 4.4 MB/s \n",
            "\u001b[31mERROR: pip's dependency resolver does not currently take into account all the packages that are installed. This behaviour is the source of the following dependency conflicts.\n",
            "datascience 0.10.6 requires folium==0.2.1, but you have folium 0.8.3 which is incompatible.\u001b[0m\n",
            "\u001b[K     |████████████████████████████████| 4.4 MB 4.7 MB/s \n",
            "\u001b[K     |████████████████████████████████| 6.6 MB 55.7 MB/s \n",
            "\u001b[K     |████████████████████████████████| 43 kB 1.6 MB/s \n",
            "\u001b[?25h  Building wheel for seqeval (setup.py) ... \u001b[?25l\u001b[?25hdone\n",
            "\u001b[K     |████████████████████████████████| 6.3 MB 4.8 MB/s \n",
            "\u001b[K     |████████████████████████████████| 821 kB 65.8 MB/s \n",
            "\u001b[31mERROR: pip's dependency resolver does not currently take into account all the packages that are installed. This behaviour is the source of the following dependency conflicts.\n",
            "en-core-web-sm 3.3.0 requires spacy<3.4.0,>=3.3.0.dev0, but you have spacy 3.4.0 which is incompatible.\u001b[0m\n",
            "\u001b[?25hLooking in indexes: https://pypi.org/simple, https://us-python.pkg.dev/colab-wheels/public/simple/\n",
            "Collecting en-core-web-sm==3.4.0\n",
            "  Downloading https://github.com/explosion/spacy-models/releases/download/en_core_web_sm-3.4.0/en_core_web_sm-3.4.0-py3-none-any.whl (12.8 MB)\n",
            "\u001b[K     |████████████████████████████████| 12.8 MB 4.6 MB/s \n",
            "\u001b[?25hRequirement already satisfied: spacy<3.5.0,>=3.4.0 in /usr/local/lib/python3.7/dist-packages (from en-core-web-sm==3.4.0) (3.4.0)\n",
            "Requirement already satisfied: preshed<3.1.0,>=3.0.2 in /usr/local/lib/python3.7/dist-packages (from spacy<3.5.0,>=3.4.0->en-core-web-sm==3.4.0) (3.0.6)\n",
            "Requirement already satisfied: tqdm<5.0.0,>=4.38.0 in /usr/local/lib/python3.7/dist-packages (from spacy<3.5.0,>=3.4.0->en-core-web-sm==3.4.0) (4.64.0)\n",
            "Requirement already satisfied: langcodes<4.0.0,>=3.2.0 in /usr/local/lib/python3.7/dist-packages (from spacy<3.5.0,>=3.4.0->en-core-web-sm==3.4.0) (3.3.0)\n",
            "Requirement already satisfied: wasabi<1.1.0,>=0.9.1 in /usr/local/lib/python3.7/dist-packages (from spacy<3.5.0,>=3.4.0->en-core-web-sm==3.4.0) (0.9.1)\n",
            "Requirement already satisfied: cymem<2.1.0,>=2.0.2 in /usr/local/lib/python3.7/dist-packages (from spacy<3.5.0,>=3.4.0->en-core-web-sm==3.4.0) (2.0.6)\n",
            "Requirement already satisfied: spacy-loggers<2.0.0,>=1.0.0 in /usr/local/lib/python3.7/dist-packages (from spacy<3.5.0,>=3.4.0->en-core-web-sm==3.4.0) (1.0.3)\n",
            "Requirement already satisfied: murmurhash<1.1.0,>=0.28.0 in /usr/local/lib/python3.7/dist-packages (from spacy<3.5.0,>=3.4.0->en-core-web-sm==3.4.0) (1.0.7)\n",
            "Requirement already satisfied: jinja2 in /usr/local/lib/python3.7/dist-packages (from spacy<3.5.0,>=3.4.0->en-core-web-sm==3.4.0) (2.11.3)\n",
            "Requirement already satisfied: pydantic!=1.8,!=1.8.1,<1.10.0,>=1.7.4 in /usr/local/lib/python3.7/dist-packages (from spacy<3.5.0,>=3.4.0->en-core-web-sm==3.4.0) (1.8.2)\n",
            "Requirement already satisfied: thinc<8.2.0,>=8.1.0 in /usr/local/lib/python3.7/dist-packages (from spacy<3.5.0,>=3.4.0->en-core-web-sm==3.4.0) (8.1.0)\n",
            "Requirement already satisfied: typing-extensions<4.2.0,>=3.7.4 in /usr/local/lib/python3.7/dist-packages (from spacy<3.5.0,>=3.4.0->en-core-web-sm==3.4.0) (4.1.1)\n",
            "Requirement already satisfied: pathy>=0.3.5 in /usr/local/lib/python3.7/dist-packages (from spacy<3.5.0,>=3.4.0->en-core-web-sm==3.4.0) (0.6.2)\n",
            "Requirement already satisfied: srsly<3.0.0,>=2.4.3 in /usr/local/lib/python3.7/dist-packages (from spacy<3.5.0,>=3.4.0->en-core-web-sm==3.4.0) (2.4.3)\n",
            "Requirement already satisfied: catalogue<2.1.0,>=2.0.6 in /usr/local/lib/python3.7/dist-packages (from spacy<3.5.0,>=3.4.0->en-core-web-sm==3.4.0) (2.0.7)\n",
            "Requirement already satisfied: numpy>=1.15.0 in /usr/local/lib/python3.7/dist-packages (from spacy<3.5.0,>=3.4.0->en-core-web-sm==3.4.0) (1.21.6)\n",
            "Requirement already satisfied: requests<3.0.0,>=2.13.0 in /usr/local/lib/python3.7/dist-packages (from spacy<3.5.0,>=3.4.0->en-core-web-sm==3.4.0) (2.23.0)\n",
            "Requirement already satisfied: packaging>=20.0 in /usr/local/lib/python3.7/dist-packages (from spacy<3.5.0,>=3.4.0->en-core-web-sm==3.4.0) (21.3)\n",
            "Requirement already satisfied: typer<0.5.0,>=0.3.0 in /usr/local/lib/python3.7/dist-packages (from spacy<3.5.0,>=3.4.0->en-core-web-sm==3.4.0) (0.4.2)\n",
            "Requirement already satisfied: spacy-legacy<3.1.0,>=3.0.9 in /usr/local/lib/python3.7/dist-packages (from spacy<3.5.0,>=3.4.0->en-core-web-sm==3.4.0) (3.0.9)\n",
            "Requirement already satisfied: setuptools in /usr/local/lib/python3.7/dist-packages (from spacy<3.5.0,>=3.4.0->en-core-web-sm==3.4.0) (57.4.0)\n",
            "Requirement already satisfied: zipp>=0.5 in /usr/local/lib/python3.7/dist-packages (from catalogue<2.1.0,>=2.0.6->spacy<3.5.0,>=3.4.0->en-core-web-sm==3.4.0) (3.8.1)\n",
            "Requirement already satisfied: pyparsing!=3.0.5,>=2.0.2 in /usr/local/lib/python3.7/dist-packages (from packaging>=20.0->spacy<3.5.0,>=3.4.0->en-core-web-sm==3.4.0) (3.0.9)\n",
            "Requirement already satisfied: smart-open<6.0.0,>=5.2.1 in /usr/local/lib/python3.7/dist-packages (from pathy>=0.3.5->spacy<3.5.0,>=3.4.0->en-core-web-sm==3.4.0) (5.2.1)\n",
            "Requirement already satisfied: chardet<4,>=3.0.2 in /usr/local/lib/python3.7/dist-packages (from requests<3.0.0,>=2.13.0->spacy<3.5.0,>=3.4.0->en-core-web-sm==3.4.0) (3.0.4)\n",
            "Requirement already satisfied: urllib3!=1.25.0,!=1.25.1,<1.26,>=1.21.1 in /usr/local/lib/python3.7/dist-packages (from requests<3.0.0,>=2.13.0->spacy<3.5.0,>=3.4.0->en-core-web-sm==3.4.0) (1.25.11)\n",
            "Requirement already satisfied: certifi>=2017.4.17 in /usr/local/lib/python3.7/dist-packages (from requests<3.0.0,>=2.13.0->spacy<3.5.0,>=3.4.0->en-core-web-sm==3.4.0) (2022.6.15)\n",
            "Requirement already satisfied: idna<3,>=2.5 in /usr/local/lib/python3.7/dist-packages (from requests<3.0.0,>=2.13.0->spacy<3.5.0,>=3.4.0->en-core-web-sm==3.4.0) (2.10)\n",
            "Requirement already satisfied: blis<0.8.0,>=0.7.8 in /usr/local/lib/python3.7/dist-packages (from thinc<8.2.0,>=8.1.0->spacy<3.5.0,>=3.4.0->en-core-web-sm==3.4.0) (0.7.8)\n",
            "Requirement already satisfied: click<9.0.0,>=7.1.1 in /usr/local/lib/python3.7/dist-packages (from typer<0.5.0,>=0.3.0->spacy<3.5.0,>=3.4.0->en-core-web-sm==3.4.0) (7.1.2)\n",
            "Requirement already satisfied: MarkupSafe>=0.23 in /usr/local/lib/python3.7/dist-packages (from jinja2->spacy<3.5.0,>=3.4.0->en-core-web-sm==3.4.0) (2.0.1)\n",
            "Installing collected packages: en-core-web-sm\n",
            "  Attempting uninstall: en-core-web-sm\n",
            "    Found existing installation: en-core-web-sm 3.3.0\n",
            "    Uninstalling en-core-web-sm-3.3.0:\n",
            "      Successfully uninstalled en-core-web-sm-3.3.0\n",
            "Successfully installed en-core-web-sm-3.4.0\n",
            "\u001b[38;5;2m✔ Download and installation successful\u001b[0m\n",
            "You can now load the package via spacy.load('en_core_web_sm')\n"
          ]
        }
      ]
    },
    {
      "cell_type": "code",
      "metadata": {
        "id": "P3DTe_95HZVp"
      },
      "source": [
        "import torch\n",
        "from transformers import BertTokenizer, BertForMaskedLM\n",
        "import logging\n",
        "import pandas as pd\n",
        "from datasets import Dataset\n",
        "from collections import Counter, defaultdict\n",
        "from time import time\n",
        "import string\n",
        "from tqdm import tqdm\n",
        "import spacy\n",
        "import gensim.downloader as api\n",
        "\n",
        "from seqeval.metrics import f1_score, classification_report\n",
        "from sklearn.metrics import classification_report as sk_classification_report\n",
        "from sklearn.metrics import f1_score as sk_f1_score\n",
        "\n",
        "# from allennlp.predictors.predictor import Predictor\n",
        "# import allennlp_models.structured_prediction"
      ],
      "execution_count": 4,
      "outputs": []
    },
    {
      "cell_type": "code",
      "metadata": {
        "id": "cR2hck_gSKBD"
      },
      "source": [
        "nlp = spacy.load(\"en_core_web_sm\")\n",
        "#word_vectors = api.load(\"glove-wiki-gigaword-100\")"
      ],
      "execution_count": 5,
      "outputs": []
    },
    {
      "cell_type": "code",
      "metadata": {
        "id": "9OhYAng0IZop",
        "colab": {
          "base_uri": "https://localhost:8080/",
          "height": 219,
          "referenced_widgets": [
            "c814bfa3fcb9406d88759c66309d5659",
            "ed3988f6e9f14fb4917a4e56ed240fcd",
            "00ed220b392040128b30a8a14352be93",
            "f6eee337e0cb4f39b1c493fecdcb3910",
            "a3421685c52446438de5b08224fe7a20",
            "d61fcc3d50dc441d97898775664bcbdb",
            "30d3af72a51646b6b754203d31b6c479",
            "ef10878c1aa646c68d6443745f81435d",
            "47f212c836874893b279f79084c31b0d",
            "07ea886955e347219d4c59754c73ee66",
            "bb3fe6d4eaf4496eb07fafdd148987ff",
            "49b714b4e7b347b0b7e8ed41194e7f3b",
            "837b0cf18e3949f18e290093f4a86910",
            "c0f8772c711e4cd4b224f91257537b88",
            "0acf0c849dc4469c88e62af62718ccee",
            "519fc7444b27489286af051daf12fa7f",
            "6f4e08574024470e87f60f6fbb7f6a8d",
            "10fd1c16c4a34e26840e7466ec93b695",
            "a5d13b2f96d14917a546359bdebed376",
            "568116efaae949e69eb39a383b14c7b2",
            "ca5d631cf6b840bc8d1d1b73fbbc230f",
            "53197154a8994841a3f091bf3cc3cba4",
            "10a566d239184f4f94e1a83fa2268d02",
            "b490f426afeb4781a319acf85820415e",
            "3699cd1472c14cb9a0ec4bab9f69fb1e",
            "b3146dcc4f9f442885b43054c7fcdffe",
            "0990ebdf07ab44759861efdc313de0b5",
            "bf9b6e0396df4ee68dbb042f964faa69",
            "14e16487c3f944c0baa8ce96a093b41b",
            "686ba3d83bb04d04ba90fd3c89838f5e",
            "1936b964ac454177b9681422a69a66b0",
            "fc363b75d3c244919d64136107d7eb92",
            "b08aa66a1f954ad281d80e6776e89400",
            "78815e2d8a6940f7b2484678b2cd25b1",
            "480c1af01a8a493d87d4d9fb06fbea54",
            "0eaa3081b85142339f66f5d7077f2e43",
            "7529ce1185b2429aa7469dde9c5d6c9c",
            "62015ef263d34f9b826479f15c8b7aac",
            "bf8ddd0e93b44fbc8fc7bd0b55d2f974",
            "84807ab171614565a231f1f5f11dfa9c",
            "dacc6e27720c4c4cad3d4574ca447259",
            "15e7fa4b50d746a69459b954f845a329",
            "beb4773e457f4fcf8b6c5a6f22a00dfe",
            "b5d0e439f25c4b4ea946039ff6c76208"
          ]
        },
        "outputId": "a7a672e7-f1c4-41f5-8f9f-908c234bee1c"
      },
      "source": [
        "device = 'cuda'\n",
        "model_name = 'bert-large-cased'\n",
        "model = BertForMaskedLM.from_pretrained(model_name).to(device)\n",
        "tokenizer = BertTokenizer.from_pretrained(model_name)"
      ],
      "execution_count": 6,
      "outputs": [
        {
          "output_type": "display_data",
          "data": {
            "text/plain": [
              "Downloading:   0%|          | 0.00/762 [00:00<?, ?B/s]"
            ],
            "application/vnd.jupyter.widget-view+json": {
              "version_major": 2,
              "version_minor": 0,
              "model_id": "c814bfa3fcb9406d88759c66309d5659"
            }
          },
          "metadata": {}
        },
        {
          "output_type": "display_data",
          "data": {
            "text/plain": [
              "Downloading:   0%|          | 0.00/1.25G [00:00<?, ?B/s]"
            ],
            "application/vnd.jupyter.widget-view+json": {
              "version_major": 2,
              "version_minor": 0,
              "model_id": "49b714b4e7b347b0b7e8ed41194e7f3b"
            }
          },
          "metadata": {}
        },
        {
          "output_type": "stream",
          "name": "stderr",
          "text": [
            "Some weights of the model checkpoint at bert-large-cased were not used when initializing BertForMaskedLM: ['cls.seq_relationship.weight', 'cls.seq_relationship.bias']\n",
            "- This IS expected if you are initializing BertForMaskedLM from the checkpoint of a model trained on another task or with another architecture (e.g. initializing a BertForSequenceClassification model from a BertForPreTraining model).\n",
            "- This IS NOT expected if you are initializing BertForMaskedLM from the checkpoint of a model that you expect to be exactly identical (initializing a BertForSequenceClassification model from a BertForSequenceClassification model).\n"
          ]
        },
        {
          "output_type": "display_data",
          "data": {
            "text/plain": [
              "Downloading:   0%|          | 0.00/208k [00:00<?, ?B/s]"
            ],
            "application/vnd.jupyter.widget-view+json": {
              "version_major": 2,
              "version_minor": 0,
              "model_id": "10a566d239184f4f94e1a83fa2268d02"
            }
          },
          "metadata": {}
        },
        {
          "output_type": "display_data",
          "data": {
            "text/plain": [
              "Downloading:   0%|          | 0.00/29.0 [00:00<?, ?B/s]"
            ],
            "application/vnd.jupyter.widget-view+json": {
              "version_major": 2,
              "version_minor": 0,
              "model_id": "78815e2d8a6940f7b2484678b2cd25b1"
            }
          },
          "metadata": {}
        }
      ]
    },
    {
      "cell_type": "markdown",
      "source": [
        "## Dataset to Evaluate on (in CoNLL Format)"
      ],
      "metadata": {
        "id": "jnMB7MClhLF3"
      }
    },
    {
      "cell_type": "code",
      "source": [
        "!git clone https://github.com/uds-lsv/TOKEN-is-a-MASK\n"
      ],
      "metadata": {
        "colab": {
          "base_uri": "https://localhost:8080/"
        },
        "id": "t5AA7ZhSdyFr",
        "outputId": "a7efe896-8ae1-4714-824c-db98cf7eacbb"
      },
      "execution_count": 7,
      "outputs": [
        {
          "output_type": "stream",
          "name": "stdout",
          "text": [
            "Cloning into 'TOKEN-is-a-MASK'...\n",
            "remote: Enumerating objects: 18, done.\u001b[K\n",
            "remote: Counting objects: 100% (18/18), done.\u001b[K\n",
            "remote: Compressing objects: 100% (12/12), done.\u001b[K\n",
            "remote: Total 18 (delta 1), reused 18 (delta 1), pack-reused 0\u001b[K\n",
            "Unpacking objects: 100% (18/18), done.\n"
          ]
        }
      ]
    },
    {
      "cell_type": "code",
      "source": [
        "data_path = 'TOKEN-is-a-MASK/data/conll03NER/'"
      ],
      "metadata": {
        "id": "3CFu1gTWhgHR"
      },
      "execution_count": 8,
      "outputs": []
    },
    {
      "cell_type": "code",
      "metadata": {
        "id": "tmc83qcYItIq"
      },
      "source": [
        "def get_dataset(file):\n",
        "  df = pd.read_csv(file, sep=\" \", header=None, usecols=[0, 3], skip_blank_lines=False)\n",
        "  df.columns = ['token', 'tag']\n",
        "  df['tag'] = df['tag'].fillna('O')\n",
        "  #df.tag[df.tag == 'B-MISC'] = 'O'\n",
        "  #df.tag[df.tag == 'I-MISC'] = 'O'\n",
        "  dataset = Dataset.from_pandas(df)\n",
        "\n",
        "  return dataset\n",
        "#train_dataset = get_dataset('train.txt')\n",
        "#dev_dataset = get_dataset('dev.txt')\n",
        "test_dataset = get_dataset(data_path+'test.txt')"
      ],
      "execution_count": 9,
      "outputs": []
    },
    {
      "cell_type": "markdown",
      "metadata": {
        "id": "8PNM-Q_jBwrc"
      },
      "source": [
        "# Using POS "
      ]
    },
    {
      "cell_type": "code",
      "metadata": {
        "id": "37SiBcsP0tTE"
      },
      "source": [
        "ent_pos = 'PROPN'\n",
        "def get_pos(seq):\n",
        "  text = \" \".join(seq)\n",
        "  doc = nlp(text)\n",
        "  token_tags = []\n",
        "  for token in doc:\n",
        "    if token.pos_ == 'SPACE':\n",
        "      token_tags.append([' ', token.pos_])\n",
        "    elif len(token) == 1:\n",
        "      token_tags.append([token.text, 'O'])\n",
        "    else:\n",
        "      token_tags.append([token.text, token.pos_])\n",
        "  \n",
        "  seq_tags = []\n",
        "  counter = 0\n",
        "  running_token = ''\n",
        "  running_tags = []\n",
        "  for t, pos in token_tags:\n",
        "    if t == seq[counter]:\n",
        "      seq_tags.append([t, pos])\n",
        "      counter += 1\n",
        "    else:\n",
        "      running_token += t\n",
        "      running_tags += [pos]\n",
        "      if running_token == seq[counter]:\n",
        "        if ent_pos in running_tags:\n",
        "          _pos = ent_pos\n",
        "        else:\n",
        "          _pos = running_tags[0]\n",
        "        seq_tags.append([running_token, _pos])\n",
        "        counter += 1\n",
        "        running_token = ''\n",
        "        running_tags = []\n",
        "\n",
        "  assert seq == [t for t, _ in seq_tags]\n",
        "\n",
        "  for i in range(len(seq)):\n",
        "    if seq_tags[i][1] == ent_pos:\n",
        "      seq_tags[i][0] = seq_tags[i][0].capitalize()\n",
        "      seq[i] = seq[i].capitalize()\n",
        "  seq[0] = seq[0].capitalize()\n",
        "  return seq, seq_tags"
      ],
      "execution_count": 10,
      "outputs": []
    },
    {
      "cell_type": "code",
      "metadata": {
        "id": "0eGFHpVh1DZk",
        "colab": {
          "base_uri": "https://localhost:8080/"
        },
        "outputId": "11bbd20e-9c47-436c-d902-b211a1603edd"
      },
      "source": [
        "i = 16\n",
        "j = 22\n",
        "seq = test_dataset[i: j]['token']\n",
        "get_pos(seq)"
      ],
      "execution_count": 11,
      "outputs": [
        {
          "output_type": "execute_result",
          "data": {
            "text/plain": [
              "(['Al-ain', ',', 'United', 'Arab', 'Emirates', '1996-12-06'],\n",
              " [['Al-ain', 'PROPN'],\n",
              "  [',', 'O'],\n",
              "  ['United', 'PROPN'],\n",
              "  ['Arab', 'PROPN'],\n",
              "  ['Emirates', 'PROPN'],\n",
              "  ['1996-12-06', 'NUM']])"
            ]
          },
          "metadata": {},
          "execution_count": 11
        }
      ]
    },
    {
      "cell_type": "code",
      "metadata": {
        "id": "6KVZsTCWD31C"
      },
      "source": [
        "def get_statistics_pos(ner_tags, pos_tags):\n",
        "  assert len(ner_tags) == len(pos_tags)\n",
        "  tp = 0\n",
        "  fp = 0\n",
        "  fn = 0\n",
        "  for i, (_, pos_tag) in enumerate(pos_tags):\n",
        "    ner_tag = ner_tags[i]\n",
        "    if ner_tag is not 'O': \n",
        "      if pos_tag == ent_pos:\n",
        "        tp += 1\n",
        "      else:\n",
        "        fn += 1\n",
        "\n",
        "    elif pos_tag == ent_pos:\n",
        "      fp += 1\n",
        "  \n",
        "  return tp, fp, fn"
      ],
      "execution_count": 12,
      "outputs": []
    },
    {
      "cell_type": "code",
      "metadata": {
        "id": "UxegdzMKcLWd"
      },
      "source": [
        "def compare_pos_ner(dataset):\n",
        "  ttp, tfp, tfn = 0, 0, 0\n",
        "  seq = []\n",
        "  ner_tags = []\n",
        "  for i, token in tqdm(enumerate(dataset['token'])):\n",
        "    tag = dataset['tag'][i]\n",
        "    if token == None:\n",
        "      seq, pos_tags = get_pos(seq)\n",
        "      tp, fp, fn = get_statistics_pos(ner_tags, pos_tags)\n",
        "      ttp += tp\n",
        "      tfp += fp\n",
        "      tfn += fn\n",
        "      seq = []\n",
        "      ner_tags = []\n",
        "    else:\n",
        "      seq += [token]\n",
        "      ner_tags += [tag]\n",
        "\n",
        "  recall = ttp /(ttp+tfn)\n",
        "  precision = ttp / (ttp+tfp)\n",
        "  return recall, precision"
      ],
      "execution_count": 13,
      "outputs": []
    },
    {
      "cell_type": "code",
      "metadata": {
        "id": "0f11tc6BGXq7"
      },
      "source": [
        "# def compare_pos_ner_allennlp(dataset):\n",
        "#   ttp, tfp, tfn = 0, 0, 0\n",
        "#   seq = []\n",
        "#   ner_tags = []\n",
        "#   for i, token in tqdm(enumerate(dataset['token'])):\n",
        "#     if token == ' ':\n",
        "#       continue\n",
        "#     tag = dataset['tag'][i]\n",
        "#     if token == None:\n",
        "#       seq, pos_tags = get_pos_allennlp(seq)\n",
        "#       tp, fp, fn = get_statistics_pos(ner_tags, pos_tags)\n",
        "#       ttp += tp\n",
        "#       tfp += fp\n",
        "#       tfn += fn\n",
        "#       seq = []\n",
        "#       ner_tags = []\n",
        "#     else:\n",
        "#       seq += [token]\n",
        "#       ner_tags += [tag]\n",
        "\n",
        "#   recall = ttp /(ttp+tfn)\n",
        "#   precision = ttp / (ttp+tfp)\n",
        "#   return recall, precision"
      ],
      "execution_count": null,
      "outputs": []
    },
    {
      "cell_type": "code",
      "metadata": {
        "id": "9Zsgh_MaS1hk",
        "colab": {
          "base_uri": "https://localhost:8080/"
        },
        "outputId": "e32dad6b-8195-4140-aef8-65b55bc1a37a"
      },
      "source": [
        "compare_pos_ner(test_dataset[0:1000])"
      ],
      "execution_count": 16,
      "outputs": [
        {
          "output_type": "stream",
          "name": "stderr",
          "text": [
            "1000it [00:01, 902.30it/s]\n"
          ]
        },
        {
          "output_type": "execute_result",
          "data": {
            "text/plain": [
              "(0.9418604651162791, 0.9101123595505618)"
            ]
          },
          "metadata": {},
          "execution_count": 16
        }
      ]
    },
    {
      "cell_type": "code",
      "metadata": {
        "id": "WJ6VMKRsMRVG"
      },
      "source": [
        "compare_pos_ner(test_dataset[0:49888])"
      ],
      "execution_count": null,
      "outputs": []
    },
    {
      "cell_type": "code",
      "metadata": {
        "id": "zG1pf-0G_gUi",
        "colab": {
          "base_uri": "https://localhost:8080/",
          "height": 35
        },
        "outputId": "13ca5928-14cc-49c2-fe9d-9df4aa69cc32"
      },
      "source": [
        "# compare_pos_ner(test_dataset[0:49888])\n",
        "# (0.8116370808678501, 0.7895431106847344)"
      ],
      "execution_count": null,
      "outputs": [
        {
          "output_type": "execute_result",
          "data": {
            "text/plain": [
              "(0.8116370808678501, 0.7895431106847344)"
            ]
          },
          "metadata": {
            "tags": []
          },
          "execution_count": 45
        }
      ]
    },
    {
      "cell_type": "code",
      "metadata": {
        "id": "JBlnsRbYf3nC"
      },
      "source": [
        "def get_labels(text, template_text):\n",
        "  tokenized_text = tokenizer.tokenize(text)\n",
        "  tokenized_template = tokenizer.tokenize(template_text)\n",
        "  _tokenized_text = tokenized_text + tokenized_template\n",
        "  masked_ids = [i for i, x in enumerate(_tokenized_text) if x == \"[MASK]\"]\n",
        "  indexed_tokens = tokenizer.convert_tokens_to_ids(_tokenized_text)\n",
        "  tokens_tensor = torch.tensor([indexed_tokens]).to(device)\n",
        "\n",
        "  segments_ids_text = [0] * len(tokenized_text)\n",
        "  segments_ids_template = [1] * len(tokenized_template)\n",
        "  segments_ids = segments_ids_text + segments_ids_template\n",
        "  segments_tensors = torch.tensor([segments_ids]).to(device)\n",
        "\n",
        "  outputs = model(tokens_tensor, token_type_ids=segments_tensors)\n",
        "  predictions = outputs[0]\n",
        "  prob = torch.softmax(predictions[0, masked_ids], dim=-1)\n",
        "\n",
        "  labels_dic = {}\n",
        "  for tag, ids in ner_words.items():\n",
        "      _max_prob, _max_id = torch.max(prob[0, ids], 0)\n",
        "      labels_dic[tag] = (_max_prob.item(), ner_words_text[tag][_max_id.item()])\n",
        "      #labels_dic[tag] = prob[0, ids].max().item()\n",
        "  pred_label = max(labels_dic, key=labels_dic.get)\n",
        "  pred_prob, pred_word  = labels_dic[pred_label]\n",
        "  return pred_label, pred_prob, pred_word"
      ],
      "execution_count": 17,
      "outputs": []
    },
    {
      "cell_type": "code",
      "metadata": {
        "id": "to2UoC_scvEf"
      },
      "source": [
        "def classifier(seq, pos_tags):\n",
        "  text_seq = [\"[CLS]\"] + seq + [\"[SEP]\"]\n",
        "  text =  ' '.join(text_seq)\n",
        "\n",
        "  len_pos = len(pos_tags)\n",
        "  pred_tags = []\n",
        "  pred_words = []\n",
        "  _entity = '' \n",
        "  counter = 0\n",
        "  for i, (t, pos) in enumerate(pos_tags):\n",
        "    if pos != ent_pos:\n",
        "      pred_tags.append('O')\n",
        "      pred_words.append('None')\n",
        "      _entity = ''\n",
        "      counter = 0\n",
        "      continue\n",
        "\n",
        "    _entity += ' ' + t\n",
        "    counter += 1\n",
        "    if i+1 < len_pos and pos_tags[i+1][1] == ent_pos:\n",
        "      continue\n",
        "    else:\n",
        "      pred_tag = None\n",
        "      pred_prob = 0\n",
        "      pred_word = None\n",
        "      for template in templates:\n",
        "        template_text = _entity +  template\n",
        "        _pred_label, _pred_prob, _pred_word = get_labels(text, template_text)\n",
        "        if _pred_prob > pred_prob:\n",
        "          pred_prob = _pred_prob\n",
        "          pred_tag = _pred_label\n",
        "          pred_word = _pred_word \n",
        "      pred_tags += [pred_tag] * counter\n",
        "      pred_words += [pred_word] * counter\n",
        "\n",
        "  assert len(pred_tags) == len(seq), print(seq, len(pred_tags), len(seq))\n",
        "\n",
        "  bio_pred_tags = []\n",
        "  for i, tag in enumerate(pred_tags):\n",
        "    if tag == 'O':\n",
        "      bio_pred_tags += [tag]\n",
        "      continue\n",
        "    if len(bio_pred_tags) == 0:\n",
        "      bio_pred_tags += ['B-'+tag]\n",
        "\n",
        "    elif tag in bio_pred_tags[i-1]:\n",
        "      bio_pred_tags += ['I-'+tag]\n",
        "    else:\n",
        "      bio_pred_tags += ['B-'+tag]\n",
        "\n",
        "  return bio_pred_tags, pred_words"
      ],
      "execution_count": 18,
      "outputs": []
    },
    {
      "cell_type": "code",
      "metadata": {
        "id": "gHyecozITN08"
      },
      "source": [
        "def flatten(_list):\n",
        "  return [item for sublist in _list for item in sublist]\n",
        "\n",
        "def compute_bare_f1(ner_tags, pred_tags):\n",
        "  bare_ner_tages = [tag[2:] if tag != 'O' else tag for tag in ner_tags]\n",
        "  bare_pred_tages = [tag[2:] if tag != 'O' else tag for tag in pred_tags]\n",
        "  print(sk_classification_report(bare_ner_tages, bare_pred_tages))\n",
        "  return sk_f1_score(bare_ner_tages, bare_pred_tages, average=None)\n",
        "\n",
        "def evaluation(dataset, f1_steps):\n",
        "  seq = []\n",
        "  ner_tags = []\n",
        "  total_ner_tags = []\n",
        "  total_pred_tags = []\n",
        "  total_pred_words = []\n",
        "  num_samples = 0\n",
        "  for i, token in tqdm(enumerate(dataset['token'])):\n",
        "    tag = dataset['tag'][i]\n",
        "    if token == None:\n",
        "      num_samples += 1\n",
        "      add_point = False\n",
        "      if seq[-1] != '.':\n",
        "          add_point = True\n",
        "          seq += ['.']\n",
        "      seq, pos_tags = get_pos(seq)\n",
        "      pred_tags, pred_words = classifier(seq, pos_tags) \n",
        "      if add_point:\n",
        "        pred_tags = pred_tags[:-1]\n",
        "        pred_words = pred_words[:-1]\n",
        "      assert len(pred_tags) == len(ner_tags), len(pred_words) == len(ner_tags)\n",
        "      total_ner_tags.append(ner_tags)\n",
        "      total_pred_tags.append(pred_tags)\n",
        "      total_pred_words.append(pred_words)\n",
        "      if num_samples % f1_steps == 0:\n",
        "        compute_bare_f1(flatten(total_ner_tags), flatten(total_pred_tags))\n",
        "        print(classification_report(total_ner_tags, total_pred_tags))\n",
        "        print('---------------')\n",
        "      seq = []\n",
        "      ner_tags = []\n",
        "    else:\n",
        "      seq += [token]\n",
        "      ner_tags += [tag]\n",
        "\n",
        "  compute_bare_f1(flatten(total_ner_tags), flatten(total_pred_tags))\n",
        "  print(classification_report(total_ner_tags, total_pred_tags))\n",
        "  return total_ner_tags, total_pred_tags, total_pred_words"
      ],
      "execution_count": 19,
      "outputs": []
    },
    {
      "cell_type": "code",
      "source": [
        "def get_word_ids(words):\n",
        "  ids = []\n",
        "  for w in words:\n",
        "    _id = tokenizer.convert_tokens_to_ids(w)\n",
        "    ids.append(_id)\n",
        "  \n",
        "  assert len(ids) == len(words)\n",
        "  return ids\n",
        "\n",
        "init_loc_words = ['location', 'city', 'country', 'region', 'area',\n",
        "             'province', 'state', 'town', 'downtown']\n",
        "init_per_words = ['person', 'man', 'woman', 'boy', 'girl', 'human', 'someone', 'kid']\n",
        "init_org_words = ['organization', 'community', 'commision', 'department',\n",
        "             'association', 'council', 'company', 'union', 'team', 'group', 'firm']\n",
        "init_misc_words = ['citizenship', 'nationality', 'ethnicity', 'cup' , 'game']\n",
        "\n",
        "ner_words_text = {'ORG': init_org_words, #'MISC': init_misc_words,\n",
        "            'PER': init_per_words, 'LOC': init_loc_words}\n",
        "\n",
        "ner_words = {k: get_word_ids(v) for k, v in ner_words_text.items()}   \n",
        "\n",
        "templates = [' is a [MASK] . [SEP]', ' is an [MASK] . [SEP]']\n",
        "#templates = [' is an instance of a [MASK] . [SEP]', ' is an instance of an [MASK] . [SEP]']\n",
        "\n",
        "#templates = [' denotes a [MASK] . [SEP]', ' denotes an [MASK] . [SEP]']\n",
        "\n",
        "#templates = ['  would be a [MASK] . [SEP]', '  would be an [MASK] . [SEP]']\n",
        "\n",
        "#templates = ['  is well known to be  a [MASK] . [SEP]', '  is well known to be an  [MASK] . [SEP]']\n",
        "\n",
        "#templates = ['   is a common [MASK] known to many people. [SEP]']\n",
        "\n",
        "\n",
        "#templates = [' [MASK] . [SEP]', ' [MASK] . [SEP]']\n",
        "\n",
        "ner_words"
      ],
      "metadata": {
        "colab": {
          "base_uri": "https://localhost:8080/"
        },
        "id": "S5cN2LHLqzCY",
        "outputId": "3424d905-e318-4ee7-8120-274a626d2273"
      },
      "execution_count": 21,
      "outputs": [
        {
          "output_type": "execute_result",
          "data": {
            "text/plain": [
              "{'LOC': [2450, 1331, 1583, 1805, 1298, 3199, 1352, 1411, 5215],\n",
              " 'ORG': [2369, 1661, 100, 2853, 3852, 3193, 1419, 3779, 1264, 1372, 3016],\n",
              " 'PER': [1825, 1299, 1590, 2298, 1873, 1769, 1800, 5102]}"
            ]
          },
          "metadata": {},
          "execution_count": 21
        }
      ]
    },
    {
      "cell_type": "code",
      "metadata": {
        "id": "a-sDlsKccZlJ",
        "colab": {
          "base_uri": "https://localhost:8080/",
          "height": 1000
        },
        "outputId": "a6a00783-ded7-4faa-9811-28c6f468a98d"
      },
      "source": [
        "gt_labels, pred_labels, pred_words = evaluation(test_dataset, f1_steps=200)\n",
        "#evaluation(test_dataset[0:49888], f1_steps=200)"
      ],
      "execution_count": 22,
      "outputs": [
        {
          "output_type": "stream",
          "name": "stderr",
          "text": [
            "2772it [02:43, 20.12it/s]/usr/local/lib/python3.7/dist-packages/sklearn/metrics/_classification.py:1318: UndefinedMetricWarning: Precision and F-score are ill-defined and being set to 0.0 in labels with no predicted samples. Use `zero_division` parameter to control this behavior.\n",
            "  _warn_prf(average, modifier, msg_start, len(result))\n",
            "/usr/local/lib/python3.7/dist-packages/sklearn/metrics/_classification.py:1318: UndefinedMetricWarning: Precision and F-score are ill-defined and being set to 0.0 in labels with no predicted samples. Use `zero_division` parameter to control this behavior.\n",
            "  _warn_prf(average, modifier, msg_start, len(result))\n",
            "/usr/local/lib/python3.7/dist-packages/sklearn/metrics/_classification.py:1318: UndefinedMetricWarning: Precision and F-score are ill-defined and being set to 0.0 in labels with no predicted samples. Use `zero_division` parameter to control this behavior.\n",
            "  _warn_prf(average, modifier, msg_start, len(result))\n",
            "/usr/local/lib/python3.7/dist-packages/seqeval/metrics/v1.py:57: UndefinedMetricWarning: Precision and F-score are ill-defined and being set to 0.0 in labels with no predicted samples. Use `zero_division` parameter to control this behavior.\n",
            "  _warn_prf(average, modifier, msg_start, len(result))\n",
            "2778it [02:44, 12.95it/s]"
          ]
        },
        {
          "output_type": "stream",
          "name": "stdout",
          "text": [
            "              precision    recall  f1-score   support\n",
            "\n",
            "         LOC       0.80      0.78      0.79       141\n",
            "        MISC       0.00      0.00      0.00        52\n",
            "           O       0.98      0.97      0.98      1982\n",
            "         ORG       0.27      0.57      0.37        67\n",
            "         PER       0.95      0.97      0.96       333\n",
            "\n",
            "    accuracy                           0.93      2575\n",
            "   macro avg       0.60      0.66      0.62      2575\n",
            "weighted avg       0.93      0.93      0.93      2575\n",
            "\n",
            "              precision    recall  f1-score   support\n",
            "\n",
            "         LOC       0.80      0.78      0.79       130\n",
            "        MISC       0.00      0.00      0.00        35\n",
            "         ORG       0.26      0.51      0.34        49\n",
            "         PER       0.91      0.90      0.90       193\n",
            "\n",
            "   micro avg       0.72      0.73      0.73       407\n",
            "   macro avg       0.49      0.55      0.51       407\n",
            "weighted avg       0.71      0.73      0.72       407\n",
            "\n",
            "---------------\n"
          ]
        },
        {
          "output_type": "stream",
          "name": "stderr",
          "text": [
            "5531it [05:26, 13.81it/s]/usr/local/lib/python3.7/dist-packages/sklearn/metrics/_classification.py:1318: UndefinedMetricWarning: Precision and F-score are ill-defined and being set to 0.0 in labels with no predicted samples. Use `zero_division` parameter to control this behavior.\n",
            "  _warn_prf(average, modifier, msg_start, len(result))\n",
            "/usr/local/lib/python3.7/dist-packages/sklearn/metrics/_classification.py:1318: UndefinedMetricWarning: Precision and F-score are ill-defined and being set to 0.0 in labels with no predicted samples. Use `zero_division` parameter to control this behavior.\n",
            "  _warn_prf(average, modifier, msg_start, len(result))\n",
            "/usr/local/lib/python3.7/dist-packages/sklearn/metrics/_classification.py:1318: UndefinedMetricWarning: Precision and F-score are ill-defined and being set to 0.0 in labels with no predicted samples. Use `zero_division` parameter to control this behavior.\n",
            "  _warn_prf(average, modifier, msg_start, len(result))\n",
            "/usr/local/lib/python3.7/dist-packages/seqeval/metrics/v1.py:57: UndefinedMetricWarning: Precision and F-score are ill-defined and being set to 0.0 in labels with no predicted samples. Use `zero_division` parameter to control this behavior.\n",
            "  _warn_prf(average, modifier, msg_start, len(result))\n",
            "5534it [05:26, 10.73it/s]"
          ]
        },
        {
          "output_type": "stream",
          "name": "stdout",
          "text": [
            "              precision    recall  f1-score   support\n",
            "\n",
            "         LOC       0.70      0.68      0.69       312\n",
            "        MISC       0.00      0.00      0.00       110\n",
            "           O       0.98      0.96      0.97      3819\n",
            "         ORG       0.19      0.42      0.26       137\n",
            "         PER       0.95      0.97      0.96       756\n",
            "\n",
            "    accuracy                           0.91      5134\n",
            "   macro avg       0.56      0.61      0.58      5134\n",
            "weighted avg       0.92      0.91      0.91      5134\n",
            "\n",
            "              precision    recall  f1-score   support\n",
            "\n",
            "         LOC       0.69      0.69      0.69       266\n",
            "        MISC       0.00      0.00      0.00        63\n",
            "         ORG       0.18      0.36      0.24       102\n",
            "         PER       0.91      0.93      0.92       425\n",
            "\n",
            "   micro avg       0.68      0.72      0.70       856\n",
            "   macro avg       0.45      0.50      0.46       856\n",
            "weighted avg       0.69      0.72      0.70       856\n",
            "\n",
            "---------------\n"
          ]
        },
        {
          "output_type": "stream",
          "name": "stderr",
          "text": [
            "7274it [07:06, 19.55it/s]/usr/local/lib/python3.7/dist-packages/sklearn/metrics/_classification.py:1318: UndefinedMetricWarning: Precision and F-score are ill-defined and being set to 0.0 in labels with no predicted samples. Use `zero_division` parameter to control this behavior.\n",
            "  _warn_prf(average, modifier, msg_start, len(result))\n",
            "/usr/local/lib/python3.7/dist-packages/sklearn/metrics/_classification.py:1318: UndefinedMetricWarning: Precision and F-score are ill-defined and being set to 0.0 in labels with no predicted samples. Use `zero_division` parameter to control this behavior.\n",
            "  _warn_prf(average, modifier, msg_start, len(result))\n",
            "/usr/local/lib/python3.7/dist-packages/sklearn/metrics/_classification.py:1318: UndefinedMetricWarning: Precision and F-score are ill-defined and being set to 0.0 in labels with no predicted samples. Use `zero_division` parameter to control this behavior.\n",
            "  _warn_prf(average, modifier, msg_start, len(result))\n",
            "/usr/local/lib/python3.7/dist-packages/seqeval/metrics/v1.py:57: UndefinedMetricWarning: Precision and F-score are ill-defined and being set to 0.0 in labels with no predicted samples. Use `zero_division` parameter to control this behavior.\n",
            "  _warn_prf(average, modifier, msg_start, len(result))\n",
            "7276it [07:07, 12.91it/s]"
          ]
        },
        {
          "output_type": "stream",
          "name": "stdout",
          "text": [
            "              precision    recall  f1-score   support\n",
            "\n",
            "         LOC       0.53      0.66      0.59       368\n",
            "        MISC       0.00      0.00      0.00       129\n",
            "           O       0.98      0.95      0.96      5006\n",
            "         ORG       0.32      0.46      0.38       374\n",
            "         PER       0.93      0.97      0.95       799\n",
            "\n",
            "    accuracy                           0.89      6676\n",
            "   macro avg       0.55      0.61      0.58      6676\n",
            "weighted avg       0.89      0.89      0.89      6676\n",
            "\n",
            "              precision    recall  f1-score   support\n",
            "\n",
            "         LOC       0.54      0.66      0.60       309\n",
            "        MISC       0.00      0.00      0.00        76\n",
            "         ORG       0.27      0.32      0.30       266\n",
            "         PER       0.89      0.93      0.91       451\n",
            "\n",
            "   micro avg       0.61      0.64      0.63      1102\n",
            "   macro avg       0.43      0.48      0.45      1102\n",
            "weighted avg       0.58      0.64      0.61      1102\n",
            "\n",
            "---------------\n"
          ]
        },
        {
          "output_type": "stream",
          "name": "stderr",
          "text": [
            "9089it [08:52, 20.18it/s]/usr/local/lib/python3.7/dist-packages/sklearn/metrics/_classification.py:1318: UndefinedMetricWarning: Precision and F-score are ill-defined and being set to 0.0 in labels with no predicted samples. Use `zero_division` parameter to control this behavior.\n",
            "  _warn_prf(average, modifier, msg_start, len(result))\n",
            "/usr/local/lib/python3.7/dist-packages/sklearn/metrics/_classification.py:1318: UndefinedMetricWarning: Precision and F-score are ill-defined and being set to 0.0 in labels with no predicted samples. Use `zero_division` parameter to control this behavior.\n",
            "  _warn_prf(average, modifier, msg_start, len(result))\n",
            "/usr/local/lib/python3.7/dist-packages/sklearn/metrics/_classification.py:1318: UndefinedMetricWarning: Precision and F-score are ill-defined and being set to 0.0 in labels with no predicted samples. Use `zero_division` parameter to control this behavior.\n",
            "  _warn_prf(average, modifier, msg_start, len(result))\n",
            "/usr/local/lib/python3.7/dist-packages/seqeval/metrics/v1.py:57: UndefinedMetricWarning: Precision and F-score are ill-defined and being set to 0.0 in labels with no predicted samples. Use `zero_division` parameter to control this behavior.\n",
            "  _warn_prf(average, modifier, msg_start, len(result))\n"
          ]
        },
        {
          "output_type": "stream",
          "name": "stdout",
          "text": [
            "              precision    recall  f1-score   support\n",
            "\n",
            "         LOC       0.49      0.67      0.56       409\n",
            "        MISC       0.00      0.00      0.00       166\n",
            "           O       0.97      0.95      0.96      6187\n",
            "         ORG       0.40      0.49      0.44       567\n",
            "         PER       0.92      0.97      0.94       962\n",
            "\n",
            "    accuracy                           0.89      8291\n",
            "   macro avg       0.56      0.61      0.58      8291\n",
            "weighted avg       0.89      0.89      0.88      8291\n",
            "\n",
            "              precision    recall  f1-score   support\n",
            "\n",
            "         LOC       0.50      0.67      0.57       348\n",
            "        MISC       0.00      0.00      0.00       102\n",
            "         ORG       0.32      0.33      0.33       395\n",
            "         PER       0.87      0.92      0.90       547\n",
            "\n",
            "   micro avg       0.60      0.62      0.61      1392\n",
            "   macro avg       0.42      0.48      0.45      1392\n",
            "weighted avg       0.56      0.62      0.59      1392\n",
            "\n",
            "---------------\n"
          ]
        },
        {
          "output_type": "stream",
          "name": "stderr",
          "text": [
            "13144it [12:36, 19.21it/s]/usr/local/lib/python3.7/dist-packages/sklearn/metrics/_classification.py:1318: UndefinedMetricWarning: Precision and F-score are ill-defined and being set to 0.0 in labels with no predicted samples. Use `zero_division` parameter to control this behavior.\n",
            "  _warn_prf(average, modifier, msg_start, len(result))\n",
            "/usr/local/lib/python3.7/dist-packages/sklearn/metrics/_classification.py:1318: UndefinedMetricWarning: Precision and F-score are ill-defined and being set to 0.0 in labels with no predicted samples. Use `zero_division` parameter to control this behavior.\n",
            "  _warn_prf(average, modifier, msg_start, len(result))\n",
            "/usr/local/lib/python3.7/dist-packages/sklearn/metrics/_classification.py:1318: UndefinedMetricWarning: Precision and F-score are ill-defined and being set to 0.0 in labels with no predicted samples. Use `zero_division` parameter to control this behavior.\n",
            "  _warn_prf(average, modifier, msg_start, len(result))\n",
            "/usr/local/lib/python3.7/dist-packages/seqeval/metrics/v1.py:57: UndefinedMetricWarning: Precision and F-score are ill-defined and being set to 0.0 in labels with no predicted samples. Use `zero_division` parameter to control this behavior.\n",
            "  _warn_prf(average, modifier, msg_start, len(result))\n"
          ]
        },
        {
          "output_type": "stream",
          "name": "stdout",
          "text": [
            "              precision    recall  f1-score   support\n",
            "\n",
            "         LOC       0.51      0.71      0.59       514\n",
            "        MISC       0.00      0.00      0.00       280\n",
            "           O       0.97      0.96      0.97      9440\n",
            "         ORG       0.45      0.55      0.50       746\n",
            "         PER       0.89      0.97      0.93      1165\n",
            "\n",
            "    accuracy                           0.90     12145\n",
            "   macro avg       0.57      0.64      0.60     12145\n",
            "weighted avg       0.89      0.90      0.89     12145\n",
            "\n"
          ]
        },
        {
          "output_type": "stream",
          "name": "stderr",
          "text": [
            "13148it [12:37, 10.24it/s]"
          ]
        },
        {
          "output_type": "stream",
          "name": "stdout",
          "text": [
            "              precision    recall  f1-score   support\n",
            "\n",
            "         LOC       0.52      0.71      0.60       446\n",
            "        MISC       0.00      0.00      0.00       197\n",
            "         ORG       0.39      0.42      0.41       523\n",
            "         PER       0.83      0.89      0.86       672\n",
            "\n",
            "   micro avg       0.60      0.62      0.61      1838\n",
            "   macro avg       0.44      0.50      0.47      1838\n",
            "weighted avg       0.54      0.62      0.57      1838\n",
            "\n",
            "---------------\n"
          ]
        },
        {
          "output_type": "stream",
          "name": "stderr",
          "text": [
            "16836it [16:00, 19.66it/s]/usr/local/lib/python3.7/dist-packages/sklearn/metrics/_classification.py:1318: UndefinedMetricWarning: Precision and F-score are ill-defined and being set to 0.0 in labels with no predicted samples. Use `zero_division` parameter to control this behavior.\n",
            "  _warn_prf(average, modifier, msg_start, len(result))\n",
            "/usr/local/lib/python3.7/dist-packages/sklearn/metrics/_classification.py:1318: UndefinedMetricWarning: Precision and F-score are ill-defined and being set to 0.0 in labels with no predicted samples. Use `zero_division` parameter to control this behavior.\n",
            "  _warn_prf(average, modifier, msg_start, len(result))\n",
            "/usr/local/lib/python3.7/dist-packages/sklearn/metrics/_classification.py:1318: UndefinedMetricWarning: Precision and F-score are ill-defined and being set to 0.0 in labels with no predicted samples. Use `zero_division` parameter to control this behavior.\n",
            "  _warn_prf(average, modifier, msg_start, len(result))\n",
            "/usr/local/lib/python3.7/dist-packages/seqeval/metrics/v1.py:57: UndefinedMetricWarning: Precision and F-score are ill-defined and being set to 0.0 in labels with no predicted samples. Use `zero_division` parameter to control this behavior.\n",
            "  _warn_prf(average, modifier, msg_start, len(result))\n"
          ]
        },
        {
          "output_type": "stream",
          "name": "stdout",
          "text": [
            "              precision    recall  f1-score   support\n",
            "\n",
            "         LOC       0.56      0.74      0.64       693\n",
            "        MISC       0.00      0.00      0.00       327\n",
            "           O       0.98      0.96      0.97     12449\n",
            "         ORG       0.49      0.61      0.54       952\n",
            "         PER       0.87      0.97      0.91      1216\n",
            "\n",
            "    accuracy                           0.91     15637\n",
            "   macro avg       0.58      0.65      0.61     15637\n",
            "weighted avg       0.90      0.91      0.90     15637\n",
            "\n"
          ]
        },
        {
          "output_type": "stream",
          "name": "stderr",
          "text": [
            "16842it [16:00, 11.72it/s]"
          ]
        },
        {
          "output_type": "stream",
          "name": "stdout",
          "text": [
            "              precision    recall  f1-score   support\n",
            "\n",
            "         LOC       0.56      0.74      0.64       582\n",
            "        MISC       0.00      0.00      0.00       237\n",
            "         ORG       0.41      0.46      0.43       627\n",
            "         PER       0.80      0.88      0.84       703\n",
            "\n",
            "   micro avg       0.59      0.62      0.61      2149\n",
            "   macro avg       0.44      0.52      0.48      2149\n",
            "weighted avg       0.53      0.62      0.57      2149\n",
            "\n",
            "---------------\n"
          ]
        },
        {
          "output_type": "stream",
          "name": "stderr",
          "text": [
            "21019it [19:21, 22.44it/s]/usr/local/lib/python3.7/dist-packages/sklearn/metrics/_classification.py:1318: UndefinedMetricWarning: Precision and F-score are ill-defined and being set to 0.0 in labels with no predicted samples. Use `zero_division` parameter to control this behavior.\n",
            "  _warn_prf(average, modifier, msg_start, len(result))\n",
            "/usr/local/lib/python3.7/dist-packages/sklearn/metrics/_classification.py:1318: UndefinedMetricWarning: Precision and F-score are ill-defined and being set to 0.0 in labels with no predicted samples. Use `zero_division` parameter to control this behavior.\n",
            "  _warn_prf(average, modifier, msg_start, len(result))\n",
            "/usr/local/lib/python3.7/dist-packages/sklearn/metrics/_classification.py:1318: UndefinedMetricWarning: Precision and F-score are ill-defined and being set to 0.0 in labels with no predicted samples. Use `zero_division` parameter to control this behavior.\n",
            "  _warn_prf(average, modifier, msg_start, len(result))\n"
          ]
        },
        {
          "output_type": "stream",
          "name": "stdout",
          "text": [
            "              precision    recall  f1-score   support\n",
            "\n",
            "         LOC       0.58      0.77      0.66       830\n",
            "        MISC       0.00      0.00      0.00       381\n",
            "           O       0.98      0.96      0.97     16026\n",
            "         ORG       0.50      0.61      0.55      1051\n",
            "         PER       0.84      0.96      0.90      1333\n",
            "\n",
            "    accuracy                           0.91     19621\n",
            "   macro avg       0.58      0.66      0.62     19621\n",
            "weighted avg       0.91      0.91      0.91     19621\n",
            "\n"
          ]
        },
        {
          "output_type": "stream",
          "name": "stderr",
          "text": [
            "/usr/local/lib/python3.7/dist-packages/seqeval/metrics/v1.py:57: UndefinedMetricWarning: Precision and F-score are ill-defined and being set to 0.0 in labels with no predicted samples. Use `zero_division` parameter to control this behavior.\n",
            "  _warn_prf(average, modifier, msg_start, len(result))\n",
            "21025it [19:22,  9.32it/s]"
          ]
        },
        {
          "output_type": "stream",
          "name": "stdout",
          "text": [
            "              precision    recall  f1-score   support\n",
            "\n",
            "         LOC       0.57      0.76      0.65       697\n",
            "        MISC       0.00      0.00      0.00       290\n",
            "         ORG       0.41      0.46      0.43       694\n",
            "         PER       0.77      0.85      0.81       783\n",
            "\n",
            "   micro avg       0.59      0.62      0.60      2464\n",
            "   macro avg       0.44      0.52      0.47      2464\n",
            "weighted avg       0.52      0.62      0.56      2464\n",
            "\n",
            "---------------\n"
          ]
        },
        {
          "output_type": "stream",
          "name": "stderr",
          "text": [
            "25496it [22:55, 23.63it/s]/usr/local/lib/python3.7/dist-packages/sklearn/metrics/_classification.py:1318: UndefinedMetricWarning: Precision and F-score are ill-defined and being set to 0.0 in labels with no predicted samples. Use `zero_division` parameter to control this behavior.\n",
            "  _warn_prf(average, modifier, msg_start, len(result))\n",
            "/usr/local/lib/python3.7/dist-packages/sklearn/metrics/_classification.py:1318: UndefinedMetricWarning: Precision and F-score are ill-defined and being set to 0.0 in labels with no predicted samples. Use `zero_division` parameter to control this behavior.\n",
            "  _warn_prf(average, modifier, msg_start, len(result))\n",
            "/usr/local/lib/python3.7/dist-packages/sklearn/metrics/_classification.py:1318: UndefinedMetricWarning: Precision and F-score are ill-defined and being set to 0.0 in labels with no predicted samples. Use `zero_division` parameter to control this behavior.\n",
            "  _warn_prf(average, modifier, msg_start, len(result))\n"
          ]
        },
        {
          "output_type": "stream",
          "name": "stdout",
          "text": [
            "              precision    recall  f1-score   support\n",
            "\n",
            "         LOC       0.61      0.80      0.69       983\n",
            "        MISC       0.00      0.00      0.00       442\n",
            "           O       0.98      0.96      0.97     19802\n",
            "         ORG       0.52      0.61      0.56      1213\n",
            "         PER       0.82      0.96      0.89      1457\n",
            "\n",
            "    accuracy                           0.92     23897\n",
            "   macro avg       0.59      0.67      0.62     23897\n",
            "weighted avg       0.91      0.92      0.92     23897\n",
            "\n"
          ]
        },
        {
          "output_type": "stream",
          "name": "stderr",
          "text": [
            "/usr/local/lib/python3.7/dist-packages/seqeval/metrics/v1.py:57: UndefinedMetricWarning: Precision and F-score are ill-defined and being set to 0.0 in labels with no predicted samples. Use `zero_division` parameter to control this behavior.\n",
            "  _warn_prf(average, modifier, msg_start, len(result))\n",
            "25502it [22:57,  7.04it/s]"
          ]
        },
        {
          "output_type": "stream",
          "name": "stdout",
          "text": [
            "              precision    recall  f1-score   support\n",
            "\n",
            "         LOC       0.59      0.78      0.67       823\n",
            "        MISC       0.00      0.00      0.00       341\n",
            "         ORG       0.42      0.47      0.44       780\n",
            "         PER       0.75      0.84      0.79       866\n",
            "\n",
            "   micro avg       0.59      0.62      0.60      2810\n",
            "   macro avg       0.44      0.52      0.48      2810\n",
            "weighted avg       0.52      0.62      0.56      2810\n",
            "\n",
            "---------------\n"
          ]
        },
        {
          "output_type": "stream",
          "name": "stderr",
          "text": [
            "28025it [25:18, 20.27it/s]/usr/local/lib/python3.7/dist-packages/sklearn/metrics/_classification.py:1318: UndefinedMetricWarning: Precision and F-score are ill-defined and being set to 0.0 in labels with no predicted samples. Use `zero_division` parameter to control this behavior.\n",
            "  _warn_prf(average, modifier, msg_start, len(result))\n",
            "/usr/local/lib/python3.7/dist-packages/sklearn/metrics/_classification.py:1318: UndefinedMetricWarning: Precision and F-score are ill-defined and being set to 0.0 in labels with no predicted samples. Use `zero_division` parameter to control this behavior.\n",
            "  _warn_prf(average, modifier, msg_start, len(result))\n",
            "/usr/local/lib/python3.7/dist-packages/sklearn/metrics/_classification.py:1318: UndefinedMetricWarning: Precision and F-score are ill-defined and being set to 0.0 in labels with no predicted samples. Use `zero_division` parameter to control this behavior.\n",
            "  _warn_prf(average, modifier, msg_start, len(result))\n"
          ]
        },
        {
          "output_type": "stream",
          "name": "stdout",
          "text": [
            "              precision    recall  f1-score   support\n",
            "\n",
            "         LOC       0.60      0.80      0.69      1066\n",
            "        MISC       0.00      0.00      0.00       457\n",
            "           O       0.98      0.96      0.97     21894\n",
            "         ORG       0.50      0.62      0.55      1297\n",
            "         PER       0.81      0.96      0.88      1512\n",
            "\n",
            "    accuracy                           0.92     26226\n",
            "   macro avg       0.58      0.67      0.62     26226\n",
            "weighted avg       0.91      0.92      0.92     26226\n",
            "\n"
          ]
        },
        {
          "output_type": "stream",
          "name": "stderr",
          "text": [
            "/usr/local/lib/python3.7/dist-packages/seqeval/metrics/v1.py:57: UndefinedMetricWarning: Precision and F-score are ill-defined and being set to 0.0 in labels with no predicted samples. Use `zero_division` parameter to control this behavior.\n",
            "  _warn_prf(average, modifier, msg_start, len(result))\n",
            "28028it [25:19,  6.39it/s]"
          ]
        },
        {
          "output_type": "stream",
          "name": "stdout",
          "text": [
            "              precision    recall  f1-score   support\n",
            "\n",
            "         LOC       0.59      0.78      0.67       891\n",
            "        MISC       0.00      0.00      0.00       356\n",
            "         ORG       0.39      0.47      0.43       820\n",
            "         PER       0.73      0.84      0.78       906\n",
            "\n",
            "   micro avg       0.57      0.62      0.60      2973\n",
            "   macro avg       0.43      0.52      0.47      2973\n",
            "weighted avg       0.51      0.62      0.56      2973\n",
            "\n",
            "---------------\n"
          ]
        },
        {
          "output_type": "stream",
          "name": "stderr",
          "text": [
            "31768it [28:21, 22.30it/s]/usr/local/lib/python3.7/dist-packages/sklearn/metrics/_classification.py:1318: UndefinedMetricWarning: Precision and F-score are ill-defined and being set to 0.0 in labels with no predicted samples. Use `zero_division` parameter to control this behavior.\n",
            "  _warn_prf(average, modifier, msg_start, len(result))\n",
            "/usr/local/lib/python3.7/dist-packages/sklearn/metrics/_classification.py:1318: UndefinedMetricWarning: Precision and F-score are ill-defined and being set to 0.0 in labels with no predicted samples. Use `zero_division` parameter to control this behavior.\n",
            "  _warn_prf(average, modifier, msg_start, len(result))\n",
            "/usr/local/lib/python3.7/dist-packages/sklearn/metrics/_classification.py:1318: UndefinedMetricWarning: Precision and F-score are ill-defined and being set to 0.0 in labels with no predicted samples. Use `zero_division` parameter to control this behavior.\n",
            "  _warn_prf(average, modifier, msg_start, len(result))\n"
          ]
        },
        {
          "output_type": "stream",
          "name": "stdout",
          "text": [
            "              precision    recall  f1-score   support\n",
            "\n",
            "         LOC       0.61      0.81      0.70      1207\n",
            "        MISC       0.00      0.00      0.00       545\n",
            "           O       0.98      0.96      0.97     24972\n",
            "         ORG       0.51      0.63      0.56      1433\n",
            "         PER       0.80      0.96      0.87      1613\n",
            "\n",
            "    accuracy                           0.92     29770\n",
            "   macro avg       0.58      0.67      0.62     29770\n",
            "weighted avg       0.91      0.92      0.92     29770\n",
            "\n"
          ]
        },
        {
          "output_type": "stream",
          "name": "stderr",
          "text": [
            "/usr/local/lib/python3.7/dist-packages/seqeval/metrics/v1.py:57: UndefinedMetricWarning: Precision and F-score are ill-defined and being set to 0.0 in labels with no predicted samples. Use `zero_division` parameter to control this behavior.\n",
            "  _warn_prf(average, modifier, msg_start, len(result))\n",
            "31774it [28:22,  7.18it/s]"
          ]
        },
        {
          "output_type": "stream",
          "name": "stdout",
          "text": [
            "              precision    recall  f1-score   support\n",
            "\n",
            "         LOC       0.60      0.80      0.69      1021\n",
            "        MISC       0.00      0.00      0.00       433\n",
            "         ORG       0.39      0.49      0.43       901\n",
            "         PER       0.71      0.84      0.77       975\n",
            "\n",
            "   micro avg       0.57      0.62      0.60      3330\n",
            "   macro avg       0.43      0.53      0.47      3330\n",
            "weighted avg       0.50      0.62      0.55      3330\n",
            "\n",
            "---------------\n"
          ]
        },
        {
          "output_type": "stream",
          "name": "stderr",
          "text": [
            "33720it [29:41, 18.93it/s]\n"
          ]
        },
        {
          "output_type": "error",
          "ename": "AssertionError",
          "evalue": "ignored",
          "traceback": [
            "\u001b[0;31m---------------------------------------------------------------------------\u001b[0m",
            "\u001b[0;31mAssertionError\u001b[0m                            Traceback (most recent call last)",
            "\u001b[0;32m<ipython-input-22-70fd4db89746>\u001b[0m in \u001b[0;36m<module>\u001b[0;34m()\u001b[0m\n\u001b[0;32m----> 1\u001b[0;31m \u001b[0mgt_labels\u001b[0m\u001b[0;34m,\u001b[0m \u001b[0mpred_labels\u001b[0m\u001b[0;34m,\u001b[0m \u001b[0mpred_words\u001b[0m \u001b[0;34m=\u001b[0m \u001b[0mevaluation\u001b[0m\u001b[0;34m(\u001b[0m\u001b[0mtest_dataset\u001b[0m\u001b[0;34m,\u001b[0m \u001b[0mf1_steps\u001b[0m\u001b[0;34m=\u001b[0m\u001b[0;36m200\u001b[0m\u001b[0;34m)\u001b[0m\u001b[0;34m\u001b[0m\u001b[0;34m\u001b[0m\u001b[0m\n\u001b[0m\u001b[1;32m      2\u001b[0m \u001b[0;31m#evaluation(test_dataset[0:49888], f1_steps=200)\u001b[0m\u001b[0;34m\u001b[0m\u001b[0;34m\u001b[0m\u001b[0;34m\u001b[0m\u001b[0m\n",
            "\u001b[0;32m<ipython-input-19-bd8fefbf4299>\u001b[0m in \u001b[0;36mevaluation\u001b[0;34m(dataset, f1_steps)\u001b[0m\n\u001b[1;32m     23\u001b[0m           \u001b[0madd_point\u001b[0m \u001b[0;34m=\u001b[0m \u001b[0;32mTrue\u001b[0m\u001b[0;34m\u001b[0m\u001b[0;34m\u001b[0m\u001b[0m\n\u001b[1;32m     24\u001b[0m           \u001b[0mseq\u001b[0m \u001b[0;34m+=\u001b[0m \u001b[0;34m[\u001b[0m\u001b[0;34m'.'\u001b[0m\u001b[0;34m]\u001b[0m\u001b[0;34m\u001b[0m\u001b[0;34m\u001b[0m\u001b[0m\n\u001b[0;32m---> 25\u001b[0;31m       \u001b[0mseq\u001b[0m\u001b[0;34m,\u001b[0m \u001b[0mpos_tags\u001b[0m \u001b[0;34m=\u001b[0m \u001b[0mget_pos\u001b[0m\u001b[0;34m(\u001b[0m\u001b[0mseq\u001b[0m\u001b[0;34m)\u001b[0m\u001b[0;34m\u001b[0m\u001b[0;34m\u001b[0m\u001b[0m\n\u001b[0m\u001b[1;32m     26\u001b[0m       \u001b[0mpred_tags\u001b[0m\u001b[0;34m,\u001b[0m \u001b[0mpred_words\u001b[0m \u001b[0;34m=\u001b[0m \u001b[0mclassifier\u001b[0m\u001b[0;34m(\u001b[0m\u001b[0mseq\u001b[0m\u001b[0;34m,\u001b[0m \u001b[0mpos_tags\u001b[0m\u001b[0;34m)\u001b[0m\u001b[0;34m\u001b[0m\u001b[0;34m\u001b[0m\u001b[0m\n\u001b[1;32m     27\u001b[0m       \u001b[0;32mif\u001b[0m \u001b[0madd_point\u001b[0m\u001b[0;34m:\u001b[0m\u001b[0;34m\u001b[0m\u001b[0;34m\u001b[0m\u001b[0m\n",
            "\u001b[0;32m<ipython-input-10-2b5ddb10fe3e>\u001b[0m in \u001b[0;36mget_pos\u001b[0;34m(seq)\u001b[0m\n\u001b[1;32m     33\u001b[0m         \u001b[0mrunning_tags\u001b[0m \u001b[0;34m=\u001b[0m \u001b[0;34m[\u001b[0m\u001b[0;34m]\u001b[0m\u001b[0;34m\u001b[0m\u001b[0;34m\u001b[0m\u001b[0m\n\u001b[1;32m     34\u001b[0m \u001b[0;34m\u001b[0m\u001b[0m\n\u001b[0;32m---> 35\u001b[0;31m   \u001b[0;32massert\u001b[0m \u001b[0mseq\u001b[0m \u001b[0;34m==\u001b[0m \u001b[0;34m[\u001b[0m\u001b[0mt\u001b[0m \u001b[0;32mfor\u001b[0m \u001b[0mt\u001b[0m\u001b[0;34m,\u001b[0m \u001b[0m_\u001b[0m \u001b[0;32min\u001b[0m \u001b[0mseq_tags\u001b[0m\u001b[0;34m]\u001b[0m\u001b[0;34m\u001b[0m\u001b[0;34m\u001b[0m\u001b[0m\n\u001b[0m\u001b[1;32m     36\u001b[0m \u001b[0;34m\u001b[0m\u001b[0m\n\u001b[1;32m     37\u001b[0m   \u001b[0;32mfor\u001b[0m \u001b[0mi\u001b[0m \u001b[0;32min\u001b[0m \u001b[0mrange\u001b[0m\u001b[0;34m(\u001b[0m\u001b[0mlen\u001b[0m\u001b[0;34m(\u001b[0m\u001b[0mseq\u001b[0m\u001b[0;34m)\u001b[0m\u001b[0;34m)\u001b[0m\u001b[0;34m:\u001b[0m\u001b[0;34m\u001b[0m\u001b[0;34m\u001b[0m\u001b[0m\n",
            "\u001b[0;31mAssertionError\u001b[0m: "
          ]
        }
      ]
    },
    {
      "cell_type": "code",
      "metadata": {
        "id": "bgzKZIoO9-md"
      },
      "source": [
        "gt_labels = [y for x in gt_labels for y in x]\n",
        "pred_labels = [y for x in pred_labels for y in x]\n",
        "pred_words = [y for x in pred_words for y in x]"
      ],
      "execution_count": null,
      "outputs": []
    },
    {
      "cell_type": "code",
      "metadata": {
        "id": "SWKxKTWF9x31"
      },
      "source": [
        "wrong_preds = defaultdict(lambda: [])\n",
        "for i, gt_label in enumerate(gt_labels):\n",
        "  pred_label = pred_labels[i]\n",
        "  pred_word = pred_words[i]\n",
        "  if gt_label != 'O':\n",
        "    gt_label = gt_label[2:]\n",
        "  if pred_label != 'O':\n",
        "    pred_label = pred_label[2:]\n",
        "  if gt_label != 'MISC' and  pred_label != gt_label:\n",
        "    wrong_preds[gt_label].append(pred_word)"
      ],
      "execution_count": null,
      "outputs": []
    },
    {
      "cell_type": "code",
      "metadata": {
        "id": "tTyr6Csy_lOC"
      },
      "source": [
        "wrong_preds.keys()"
      ],
      "execution_count": null,
      "outputs": []
    },
    {
      "cell_type": "code",
      "metadata": {
        "id": "Jtut15uAAMNZ"
      },
      "source": [
        "Counter(wrong_preds['LOC']).most_common()"
      ],
      "execution_count": null,
      "outputs": []
    },
    {
      "cell_type": "code",
      "metadata": {
        "id": "nrw91p78D8nm"
      },
      "source": [
        "Counter(wrong_preds['PER']).most_common()"
      ],
      "execution_count": null,
      "outputs": []
    },
    {
      "cell_type": "code",
      "metadata": {
        "id": "kUOt5GhyD9c5"
      },
      "source": [
        "Counter(wrong_preds['ORG']).most_common()"
      ],
      "execution_count": null,
      "outputs": []
    },
    {
      "cell_type": "code",
      "metadata": {
        "id": "JR7MnEG6KKo9"
      },
      "source": [
        "correct_preds = defaultdict(lambda: [])\n",
        "for i, gt_label in enumerate(gt_labels):\n",
        "  pred_label = pred_labels[i]\n",
        "  pred_word = pred_words[i]\n",
        "  if gt_label != 'O':\n",
        "    gt_label = gt_label[2:]\n",
        "  if pred_label != 'O':\n",
        "    pred_label = pred_label[2:]\n",
        "  if gt_label != 'MISC' and  pred_label == gt_label:\n",
        "    correct_preds[gt_label].append(pred_word)"
      ],
      "execution_count": null,
      "outputs": []
    },
    {
      "cell_type": "code",
      "metadata": {
        "id": "T4Ym7D73LAIU"
      },
      "source": [
        "Counter(correct_preds['ORG']).most_common()"
      ],
      "execution_count": null,
      "outputs": []
    },
    {
      "cell_type": "code",
      "metadata": {
        "id": "aA3pYiMBLAKq"
      },
      "source": [
        "Counter(correct_preds['LOC']).most_common()"
      ],
      "execution_count": null,
      "outputs": []
    },
    {
      "cell_type": "code",
      "metadata": {
        "id": "DpidAtntMaAA"
      },
      "source": [
        "Counter(correct_preds['PER']).most_common()"
      ],
      "execution_count": null,
      "outputs": []
    },
    {
      "cell_type": "code",
      "metadata": {
        "id": "D_oF6jAyHWnk"
      },
      "source": [
        "         LOC       0.77      0.78      0.77       141\n",
        "        MISC       0.00      0.00      0.00        52\n",
        "           O       0.99      0.96      0.97      1982\n",
        "         ORG       0.26      0.64      0.37        67\n",
        "         PER       0.95      0.97      0.96       333\n",
        "\n",
        "    accuracy                           0.93      2575\n",
        "   macro avg       0.59      0.67      0.62      2575\n",
        "weighted avg       0.93      0.93      0.93      2575\n",
        "\n",
        "              precision    recall  f1-score   support\n",
        "\n",
        "         LOC       0.77      0.78      0.77       130\n",
        "        MISC       0.00      0.00      0.00        35\n",
        "         ORG       0.26      0.57      0.35        49\n",
        "         PER       0.91      0.91      0.91       193\n",
        "\n",
        "   micro avg       0.70      0.75      0.72       407\n",
        "   macro avg       0.48      0.56      0.51       407\n",
        "weighted avg       0.71      0.75      0.72       407"
      ],
      "execution_count": null,
      "outputs": []
    },
    {
      "cell_type": "code",
      "metadata": {
        "id": "jtJwuhzXceq6",
        "colab": {
          "base_uri": "https://localhost:8080/"
        },
        "outputId": "2550fa17-2f88-45d2-ca69-3eb0f87199f8"
      },
      "source": [
        "def get_word_ids(words):\n",
        "  ids = []\n",
        "  for w in words:\n",
        "    _id = tokenizer.convert_tokens_to_ids(w)\n",
        "    ids.append(_id)\n",
        "  \n",
        "  assert len(ids) == len(words)\n",
        "  return ids\n",
        "\n",
        "init_loc_words = ['location', 'city', 'country', 'region', 'area',\n",
        "             'province', 'state', 'town', 'downtown']\n",
        "init_per_words = ['person', 'man', 'woman', 'boy', 'girl', 'human', 'someone', 'kid']\n",
        "init_org_words = ['organization', 'community', 'commision', 'department',\n",
        "             'association', 'council', 'company', 'union', 'team', 'group', 'firm']\n",
        "init_misc_words = ['citizenship', 'nationality', 'ethnicity', 'cup' , 'game']\n",
        "\n",
        "ner_words_text = {'ORG': init_org_words, #'MISC': init_misc_words,\n",
        "            'PER': init_per_words, 'LOC': init_loc_words}\n",
        "\n",
        "ner_words = {k: get_word_ids(v) for k, v in ner_words_text.items()}   \n",
        "\n",
        "templates = [' is a [MASK] . [SEP]', ' is an [MASK] . [SEP]']\n",
        "#templates = [' is an instance of a [MASK] . [SEP]', ' is an instance of an [MASK] . [SEP]']\n",
        "\n",
        "#templates = [' denotes a [MASK] . [SEP]', ' denotes an [MASK] . [SEP]']\n",
        "\n",
        "#templates = ['  would be a [MASK] . [SEP]', '  would be an [MASK] . [SEP]']\n",
        "\n",
        "#templates = ['  is well known to be  a [MASK] . [SEP]', '  is well known to be an  [MASK] . [SEP]']\n",
        "\n",
        "#templates = ['   is a common [MASK] known to many people. [SEP]']\n",
        "\n",
        "\n",
        "#templates = [' [MASK] . [SEP]', ' [MASK] . [SEP]']\n",
        "\n",
        "ner_words"
      ],
      "execution_count": null,
      "outputs": [
        {
          "output_type": "execute_result",
          "data": {
            "text/plain": [
              "{'LOC': [2450, 1331, 1583, 1805, 1298, 3199, 1352, 1411, 5215],\n",
              " 'ORG': [2369, 1661, 100, 2853, 3852, 3193, 1419, 3779, 1264, 1372, 3016],\n",
              " 'PER': [1825, 1299, 1590, 2298, 1873, 1769, 1800, 5102]}"
            ]
          },
          "metadata": {
            "tags": []
          },
          "execution_count": 27
        }
      ]
    },
    {
      "cell_type": "code",
      "metadata": {
        "id": "N3j1Z9yKKjSy"
      },
      "source": [
        "loc_words = get_similar_words(init_loc_words)\n",
        "per_words = get_similar_words(init_per_words)\n",
        "org_words = get_similar_words(init_org_words)\n",
        "misc_words = get_similar_words(init_misc_words)\n",
        "\n",
        "per_words.discard('organization')\n",
        "\n",
        "all_word_sets = [loc_words, per_words, org_words, misc_words]"
      ],
      "execution_count": null,
      "outputs": []
    },
    {
      "cell_type": "code",
      "metadata": {
        "id": "YVpOGiL5KB6z"
      },
      "source": [
        "common_words = set()\n",
        "for i in range(len(all_word_sets)):\n",
        "  for j in range(i+1, len(all_word_sets)):\n",
        "    common_words.update(all_word_sets[i]&all_word_sets[j])\n",
        "print(common_words)"
      ],
      "execution_count": null,
      "outputs": []
    },
    {
      "cell_type": "code",
      "metadata": {
        "id": "pYK04Cs09B3L"
      },
      "source": [
        "for w in common_words:\n",
        "  for i in range(len(all_word_sets)): \n",
        "    all_word_sets[i].discard(w)"
      ],
      "execution_count": null,
      "outputs": []
    },
    {
      "cell_type": "code",
      "metadata": {
        "id": "mZgR5SZ16P6l"
      },
      "source": [
        "all_word_sets[0]&all_word_sets[2]"
      ],
      "execution_count": null,
      "outputs": []
    },
    {
      "cell_type": "code",
      "metadata": {
        "id": "_fDYvo8ple4E"
      },
      "source": [
        "def get_word_ids(words):\n",
        "  ids = []\n",
        "  for w in words:\n",
        "    _id = tokenizer.convert_tokens_to_ids(w)\n",
        "    ids.append(_id)\n",
        "  \n",
        "  assert len(ids) == len(words)\n",
        "  return ids\n",
        "ner_words = {'ORG': org_words, 'MISC': misc_words,\n",
        "            'PER': per_words, 'LOC': loc_words}\n",
        "\n",
        "ner_words = {k: get_word_ids(v) for k, v in ner_words.items()}   \n",
        "\n",
        "#templates = [' is a [MASK] . [SEP]', ' is an [MASK] . [SEP]']\n",
        "templates = [' [MASK] . [SEP]', ' [MASK] . [SEP]']\n",
        "\n",
        "ner_words"
      ],
      "execution_count": null,
      "outputs": []
    },
    {
      "cell_type": "code",
      "metadata": {
        "id": "Ybi1s1RkKB4s"
      },
      "source": [
        "a = [0.66,0.70,0.68,0.74,0.54,0.46]\n",
        "a = [0.72,0.73,0.74,0.74,0.77,0.51]\n",
        "\n",
        "sum(a) / len(a)"
      ],
      "execution_count": null,
      "outputs": []
    },
    {
      "cell_type": "markdown",
      "metadata": {
        "id": "vLH-uSWRtg_z"
      },
      "source": [
        "# No POS"
      ]
    },
    {
      "cell_type": "code",
      "metadata": {
        "id": "-0E64QgOtjGp"
      },
      "source": [
        "def get_labels(text, template_text):\n",
        "  tokenized_text = tokenizer.tokenize(text)\n",
        "  tokenized_template = tokenizer.tokenize(template_text)\n",
        "  _tokenized_text = tokenized_text + tokenized_template\n",
        "  masked_ids = [i for i, x in enumerate(_tokenized_text) if x == \"[MASK]\"]\n",
        "  indexed_tokens = tokenizer.convert_tokens_to_ids(_tokenized_text)\n",
        "  tokens_tensor = torch.tensor([indexed_tokens]).to(device)\n",
        "\n",
        "  segments_ids_text = [0] * len(tokenized_text)\n",
        "  segments_ids_template = [1] * len(tokenized_template)\n",
        "  segments_ids = segments_ids_text + segments_ids_template\n",
        "  segments_tensors = torch.tensor([segments_ids]).to(device)\n",
        "\n",
        "  outputs = model(tokens_tensor, token_type_ids=segments_tensors)\n",
        "  predictions = outputs[0]\n",
        "  prob = torch.softmax(predictions[0, masked_ids], dim=-1)\n",
        "\n",
        "  labels_dic = {}\n",
        "  for tag, ids in ner_words.items():\n",
        "      labels_dic[tag] = prob[0, ids].max()\n",
        "  pred_tag = max(labels_dic, key=labels_dic.get)\n",
        "  return pred_tag, labels_dic[pred_tag].item()"
      ],
      "execution_count": 19,
      "outputs": []
    },
    {
      "cell_type": "code",
      "metadata": {
        "id": "2q39RyBmyIS-"
      },
      "source": [
        "def classifier(seq, threshold):\n",
        "  text_seq = [\"[CLS]\"] + seq + [\"[SEP]\"]\n",
        "  text =  ' '.join(text_seq)\n",
        "\n",
        "  pred_tags_prob = []\n",
        "  for t in seq:\n",
        "    if len(t) == 0 or len(t) == 1:\n",
        "      pred_tags_prob.append(['O', 1.0])\n",
        "    else:\n",
        "      template_text = t +  ' is a [MASK] . [SEP]'\n",
        "      pred_tag, pred_tag_prob = get_labels(text, template_text)\n",
        "      pred_tags_prob.append([pred_tag, pred_tag_prob])\n",
        "\n",
        "  assert len(seq) == len(pred_tags_prob)\n",
        "    \n",
        "  pred_tags = []\n",
        "  _window_size = 0\n",
        "  _max_prob = 0\n",
        "  _best_tag = None\n",
        "  for i, (tag, prob) in enumerate(pred_tags_prob):\n",
        "    if prob > threshold and tag != 'O':\n",
        "      _window_size += 1\n",
        "      if prob > _max_prob:\n",
        "        _best_tag = tag\n",
        "        _max_prob = prob\n",
        "      if (i+1) == len(pred_tags_prob):\n",
        "        pred_tags += [_best_tag] * _window_size\n",
        "\n",
        "    elif prob < threshold or tag == 'O':\n",
        "      pred_tags += [_best_tag] * _window_size\n",
        "      pred_tags.append('O')\n",
        "      _window_size = 0\n",
        "      _max_prob = 0 \n",
        "      _best_tag = None\n",
        "  \n",
        "  assert len(seq) == len(pred_tags)\n",
        "  assert None not in pred_tags\n",
        "\n",
        "  bio_pred_tags = []\n",
        "  for i, tag in enumerate(pred_tags):\n",
        "    if tag == 'O':\n",
        "      bio_pred_tags += [tag]\n",
        "      continue\n",
        "    if len(bio_pred_tags) == 0:\n",
        "      bio_pred_tags += ['B-'+tag]\n",
        "\n",
        "    elif tag in bio_pred_tags[i-1]:\n",
        "      bio_pred_tags += ['I-'+tag]\n",
        "    else:\n",
        "      bio_pred_tags += ['B-'+tag]\n",
        "\n",
        "  assert len(seq) == len(bio_pred_tags)\n",
        "  return bio_pred_tags"
      ],
      "execution_count": 20,
      "outputs": []
    },
    {
      "cell_type": "code",
      "metadata": {
        "id": "Z214eBfAyh4x",
        "colab": {
          "base_uri": "https://localhost:8080/",
          "height": 358
        },
        "outputId": "9b34075f-0dc5-4c33-ee8a-4f52571f4e6d"
      },
      "source": [
        "i = 208\n",
        "j = 246\n",
        "seq = test_dataset[i: j]['token']\n",
        "classifier(seq, threshold=0.01)"
      ],
      "execution_count": 21,
      "outputs": [
        {
          "output_type": "error",
          "ename": "NameError",
          "evalue": "ignored",
          "traceback": [
            "\u001b[0;31m---------------------------------------------------------------------------\u001b[0m",
            "\u001b[0;31mNameError\u001b[0m                                 Traceback (most recent call last)",
            "\u001b[0;32m<ipython-input-21-bb08318ab681>\u001b[0m in \u001b[0;36m<module>\u001b[0;34m()\u001b[0m\n\u001b[1;32m      2\u001b[0m \u001b[0mj\u001b[0m \u001b[0;34m=\u001b[0m \u001b[0;36m246\u001b[0m\u001b[0;34m\u001b[0m\u001b[0;34m\u001b[0m\u001b[0m\n\u001b[1;32m      3\u001b[0m \u001b[0mseq\u001b[0m \u001b[0;34m=\u001b[0m \u001b[0mtest_dataset\u001b[0m\u001b[0;34m[\u001b[0m\u001b[0mi\u001b[0m\u001b[0;34m:\u001b[0m \u001b[0mj\u001b[0m\u001b[0;34m]\u001b[0m\u001b[0;34m[\u001b[0m\u001b[0;34m'token'\u001b[0m\u001b[0;34m]\u001b[0m\u001b[0;34m\u001b[0m\u001b[0;34m\u001b[0m\u001b[0m\n\u001b[0;32m----> 4\u001b[0;31m \u001b[0mclassifier\u001b[0m\u001b[0;34m(\u001b[0m\u001b[0mseq\u001b[0m\u001b[0;34m,\u001b[0m \u001b[0mthreshold\u001b[0m\u001b[0;34m=\u001b[0m\u001b[0;36m0.01\u001b[0m\u001b[0;34m)\u001b[0m\u001b[0;34m\u001b[0m\u001b[0;34m\u001b[0m\u001b[0m\n\u001b[0m",
            "\u001b[0;32m<ipython-input-20-5f4520376a5d>\u001b[0m in \u001b[0;36mclassifier\u001b[0;34m(seq, threshold)\u001b[0m\n\u001b[1;32m      9\u001b[0m     \u001b[0;32melse\u001b[0m\u001b[0;34m:\u001b[0m\u001b[0;34m\u001b[0m\u001b[0;34m\u001b[0m\u001b[0m\n\u001b[1;32m     10\u001b[0m       \u001b[0mtemplate_text\u001b[0m \u001b[0;34m=\u001b[0m \u001b[0mt\u001b[0m \u001b[0;34m+\u001b[0m  \u001b[0;34m' is a [MASK] . [SEP]'\u001b[0m\u001b[0;34m\u001b[0m\u001b[0;34m\u001b[0m\u001b[0m\n\u001b[0;32m---> 11\u001b[0;31m       \u001b[0mpred_tag\u001b[0m\u001b[0;34m,\u001b[0m \u001b[0mpred_tag_prob\u001b[0m \u001b[0;34m=\u001b[0m \u001b[0mget_labels\u001b[0m\u001b[0;34m(\u001b[0m\u001b[0mtext\u001b[0m\u001b[0;34m,\u001b[0m \u001b[0mtemplate_text\u001b[0m\u001b[0;34m)\u001b[0m\u001b[0;34m\u001b[0m\u001b[0;34m\u001b[0m\u001b[0m\n\u001b[0m\u001b[1;32m     12\u001b[0m       \u001b[0mpred_tags_prob\u001b[0m\u001b[0;34m.\u001b[0m\u001b[0mappend\u001b[0m\u001b[0;34m(\u001b[0m\u001b[0;34m[\u001b[0m\u001b[0mpred_tag\u001b[0m\u001b[0;34m,\u001b[0m \u001b[0mpred_tag_prob\u001b[0m\u001b[0;34m]\u001b[0m\u001b[0;34m)\u001b[0m\u001b[0;34m\u001b[0m\u001b[0;34m\u001b[0m\u001b[0m\n\u001b[1;32m     13\u001b[0m \u001b[0;34m\u001b[0m\u001b[0m\n",
            "\u001b[0;32m<ipython-input-19-a389e6592bae>\u001b[0m in \u001b[0;36mget_labels\u001b[0;34m(text, template_text)\u001b[0m\n\u001b[1;32m     17\u001b[0m \u001b[0;34m\u001b[0m\u001b[0m\n\u001b[1;32m     18\u001b[0m   \u001b[0mlabels_dic\u001b[0m \u001b[0;34m=\u001b[0m \u001b[0;34m{\u001b[0m\u001b[0;34m}\u001b[0m\u001b[0;34m\u001b[0m\u001b[0;34m\u001b[0m\u001b[0m\n\u001b[0;32m---> 19\u001b[0;31m   \u001b[0;32mfor\u001b[0m \u001b[0mtag\u001b[0m\u001b[0;34m,\u001b[0m \u001b[0mids\u001b[0m \u001b[0;32min\u001b[0m \u001b[0mner_words\u001b[0m\u001b[0;34m.\u001b[0m\u001b[0mitems\u001b[0m\u001b[0;34m(\u001b[0m\u001b[0;34m)\u001b[0m\u001b[0;34m:\u001b[0m\u001b[0;34m\u001b[0m\u001b[0;34m\u001b[0m\u001b[0m\n\u001b[0m\u001b[1;32m     20\u001b[0m       \u001b[0mlabels_dic\u001b[0m\u001b[0;34m[\u001b[0m\u001b[0mtag\u001b[0m\u001b[0;34m]\u001b[0m \u001b[0;34m=\u001b[0m \u001b[0mprob\u001b[0m\u001b[0;34m[\u001b[0m\u001b[0;36m0\u001b[0m\u001b[0;34m,\u001b[0m \u001b[0mids\u001b[0m\u001b[0;34m]\u001b[0m\u001b[0;34m.\u001b[0m\u001b[0mmax\u001b[0m\u001b[0;34m(\u001b[0m\u001b[0;34m)\u001b[0m\u001b[0;34m\u001b[0m\u001b[0;34m\u001b[0m\u001b[0m\n\u001b[1;32m     21\u001b[0m   \u001b[0mpred_tag\u001b[0m \u001b[0;34m=\u001b[0m \u001b[0mmax\u001b[0m\u001b[0;34m(\u001b[0m\u001b[0mlabels_dic\u001b[0m\u001b[0;34m,\u001b[0m \u001b[0mkey\u001b[0m\u001b[0;34m=\u001b[0m\u001b[0mlabels_dic\u001b[0m\u001b[0;34m.\u001b[0m\u001b[0mget\u001b[0m\u001b[0;34m)\u001b[0m\u001b[0;34m\u001b[0m\u001b[0;34m\u001b[0m\u001b[0m\n",
            "\u001b[0;31mNameError\u001b[0m: name 'ner_words' is not defined"
          ]
        }
      ]
    },
    {
      "cell_type": "code",
      "metadata": {
        "id": "vkfzHve2ymnJ"
      },
      "source": [
        "def compute_bare_f1(ner_tags, pred_tags):\n",
        "  bare_ner_tages = [tag[2:] if tag != 'O' else tag for tag in ner_tags]\n",
        "  bare_pred_tages = [tag[2:] if tag != 'O' else tag for tag in pred_tags]\n",
        "  print(sk_classification_report(bare_ner_tages, bare_pred_tages))\n",
        "  return sk_f1_score(bare_ner_tages, bare_pred_tages, average=None)\n",
        "\n",
        "def evaluation(dataset, threshold, f1_steps):\n",
        "  seq = []\n",
        "  ner_tags = []\n",
        "  total_ner_tags = []\n",
        "  total_pred_tags = []\n",
        "  num_samples = 0\n",
        "  for i, token in enumerate(dataset['token']):\n",
        "    tag = dataset['tag'][i]\n",
        "    if token == None:\n",
        "      num_samples += 1\n",
        "      add_point = False\n",
        "      if seq[-1] != '.':\n",
        "          add_point = True\n",
        "          seq += ['.']\n",
        "      seq, pos_tags = get_pos(seq)\n",
        "      pred_tags = classifier(seq, threshold) \n",
        "\n",
        "      if add_point:\n",
        "        pred_tags = pred_tags[:-1]\n",
        "      \n",
        "      assert len(pred_tags) == len(ner_tags)\n",
        "      total_ner_tags += ner_tags\n",
        "      total_pred_tags += pred_tags\n",
        "      if num_samples % f1_steps == 0:\n",
        "        compute_bare_f1(total_ner_tags, total_pred_tags)\n",
        "        print(classification_report(total_ner_tags, total_pred_tags))\n",
        "        print('---------------')\n",
        "      seq = []\n",
        "      ner_tags = []\n",
        "    else:\n",
        "      seq += [token]\n",
        "      ner_tags += [tag]\n",
        "\n",
        "  compute_bare_f1(total_ner_tags, total_pred_tags)\n",
        "  print(classification_report(total_ner_tags, total_pred_tags))"
      ],
      "execution_count": null,
      "outputs": []
    },
    {
      "cell_type": "code",
      "metadata": {
        "id": "Va1gVjfY3ZQE"
      },
      "source": [
        "evaluation(test_dataset[0:49888], threshold=0.005, f1_steps=100)"
      ],
      "execution_count": null,
      "outputs": []
    },
    {
      "cell_type": "code",
      "metadata": {
        "id": "89Oq0HZj3h0T"
      },
      "source": [
        ""
      ],
      "execution_count": null,
      "outputs": []
    }
  ]
}